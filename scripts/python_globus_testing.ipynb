{
 "cells": [
  {
   "cell_type": "code",
   "execution_count": 18,
   "metadata": {},
   "outputs": [
    {
     "name": "stdout",
     "output_type": "stream",
     "text": [
      "Please go to this URL and login: https://auth.globus.org/v2/oauth2/authorize?client_id=769d24e1-d1cc-4198-9ff7-2626485da449&redirect_uri=https%3A%2F%2Fauth.globus.org%2Fv2%2Fweb%2Fauth-code&scope=openid+profile+email+urn%3Aglobus%3Aauth%3Ascope%3Atransfer.api.globus.org%3Aall&state=_default&response_type=code&code_challenge=t1-1G7Qq372bVBQ7rL9POnlua_up_81XDS439D2vc90&code_challenge_method=S256&access_type=offline\n",
      "\t Copied url to clipboard!\n"
     ]
    }
   ],
   "source": [
    "import datetime\n",
    "import pandas as pd\n",
    "import globus_sdk\n",
    "from globus_sdk import AccessTokenAuthorizer, TransferClient\n",
    "from globus_sdk.scopes import TransferScopes\n",
    "\n",
    "\"\"\" \n",
    "\n",
    "See:\n",
    "\thttps://globus-sdk-python.readthedocs.io/en/stable/examples/minimal_transfer_script/index.html#example-minimal-transfer\n",
    "\n",
    "\"\"\"\n",
    "\n",
    "globus_endpoint_gl_homedir='e0370902-9f48-11e9-821b-02b7a92d8e58'\n",
    "globus_endpoint_kdiba_lab_turbo='8c185a84-5c61-4bbc-b12b-11430e20010f'\n",
    "\n",
    "# Define the Globus transfer client and authenticate with a user's tokens\n",
    "auth_client = globus_sdk.NativeAppAuthClient('769d24e1-d1cc-4198-9ff7-2626485da449')\n",
    "\n",
    "def login_and_get_transfer_client(*, scopes='openid profile email urn:globus:auth:scope:transfer.api.globus.org:all', copy_to_clipboard=True):\n",
    "\t\"\"\" \n",
    "\t\t'openid profile email urn:globus:auth:scope:transfer.api.globus.org:all'\n",
    "\n",
    "\t\"\"\"\n",
    "\tauth_client.oauth2_start_flow(refresh_tokens=True, requested_scopes=scopes)\n",
    "\n",
    "\tauthorize_url = auth_client.oauth2_get_authorize_url()\n",
    "\tprint(f'Please go to this URL and login: {authorize_url}')\n",
    "\tif copy_to_clipboard:\n",
    "\t\tdf = pd.DataFrame([authorize_url])\n",
    "\t\tdf.to_clipboard(index=False, header=False, sep=',')\n",
    "\t\tprint(f'\\t Copied url to clipboard!')\n",
    "\n",
    "\tauth_code = input('Please enter the code you get after login here: ').strip()\n",
    "\ttoken_response = auth_client.oauth2_exchange_code_for_tokens(auth_code)\n",
    "\n",
    "\t# globus_auth_data = token_response.by_resource_server[\"auth.globus.org\"]\n",
    "\t# get credentials for the Globus Transfer service\n",
    "\tglobus_transfer_data = token_response.by_resource_server[\"transfer.api.globus.org\"]\n",
    "\t# the refresh token and access token are often abbreviated as RT and AT\n",
    "\ttransfer_rt = globus_transfer_data[\"refresh_token\"]\n",
    "\ttransfer_at = globus_transfer_data[\"access_token\"]\n",
    "\texpires_at_s = globus_transfer_data[\"expires_at_seconds\"]\n",
    "\n",
    "\t# construct a RefreshTokenAuthorizer\n",
    "\t# note that `client` is passed to it, to allow it to do the refreshes\n",
    "\tauthorizer = globus_sdk.RefreshTokenAuthorizer(transfer_rt, auth_client, access_token=transfer_at, expires_at=expires_at_s)\n",
    "\n",
    "\t# and try using `tc` to make TransferClient calls. Everything should just\n",
    "\t# work -- for days and days, months and months, even years\n",
    "\ttransfer_client = globus_sdk.TransferClient(authorizer=authorizer)\n",
    "\n",
    "\n",
    "\n",
    "\treturn transfer_client\n",
    "\n",
    "transfer_client = login_and_get_transfer_client()\n",
    "\n",
    "# # most specifically, you want these tokens as strings\n",
    "# AUTH_TOKEN = globus_auth_data[\"access_token\"]\n",
    "# TRANSFER_TOKEN = globus_transfer_data[\"access_token\"]\n",
    "\n",
    "# # a GlobusAuthorizer is an auxiliary object we use to wrap the token. In\n",
    "# # more advanced scenarios, other types of GlobusAuthorizers give us\n",
    "# # expressive power\n",
    "# authorizer = globus_sdk.AccessTokenAuthorizer(TRANSFER_TOKEN)\n",
    "# transfer_client = globus_sdk.TransferClient(authorizer=authorizer)\n",
    "\n",
    "# 'urn:globus:auth:scope:transfer.api.globus.org:all[*https://auth.globus.org/scopes/8c185a84-5c61-4bbc-b12b-11430e20010f/data_access]'\n"
   ]
  },
  {
   "cell_type": "code",
   "execution_count": 19,
   "metadata": {},
   "outputs": [
    {
     "name": "stdout",
     "output_type": "stream",
     "text": [
      "My Endpoints:\n",
      "[c3a90494-2555-11ec-a47d-a50ad076c282] aleinbook-linux\n",
      "[84991054-07b4-11ed-8d83-a54cf61939f8] Apogee\n",
      "[6d0251c4-2585-11ec-9e35-3df4ed83d858] Cubix Win10\n",
      "[f418ea94-07aa-11ed-8d83-a54cf61939f8] Diba Lab Workstation 2022\n",
      "[e855d758-9c29-11ed-a29d-8383522b48d9] Diba Script\n",
      "[c3578f36-42a8-11ec-a50f-b537d6c07c1d] FlatEdge_Server\n",
      "[af3fcfce-f664-11ed-9a7d-83ef71fbf0ae] LNX00052_Fedora\n",
      "[20c84240-1eb1-11eb-81b7-0e2f230cc907] Pho Personal Laptop\n",
      "[560d3a12-be20-11ed-9916-cb2cff506ca5] Pho_Personal_Testix\n",
      "[debb635c-2556-11ec-a47d-a50ad076c282] rMBP Pink Dot\n",
      "[e414f584-2556-11ec-a0a7-6b21ca6daf73] rMBP Pink Dot\n"
     ]
    }
   ],
   "source": [
    "\n",
    "\n",
    "# high level interface; provides iterators for list responses\n",
    "print(\"My Endpoints:\")\n",
    "for ep in transfer_client.endpoint_search(filter_scope=\"my-endpoints\"):\n",
    "    print(\"[{}] {}\".format(ep[\"id\"], ep[\"display_name\"]))\n",
    "\n"
   ]
  },
  {
   "cell_type": "code",
   "execution_count": null,
   "metadata": {},
   "outputs": [],
   "source": [
    "\n",
    "\n",
    "# Set your Globus access token and endpoint information\n",
    "access_token = '769d24e1-d1cc-4198-9ff7-2626485da449'\n",
    "# Create a Globus Transfer client using the access token\n",
    "authorizer = AccessTokenAuthorizer(access_token)\n",
    "tc = TransferClient(authorizer=authorizer)\n"
   ]
  },
  {
   "cell_type": "code",
   "execution_count": 20,
   "metadata": {},
   "outputs": [
    {
     "name": "stdout",
     "output_type": "stream",
     "text": [
      "Encountered a ConsentRequired error.\n",
      "You must login a second time to grant consents.\n",
      "\n",
      "\n",
      "required scopes:\n",
      "['urn:globus:auth:scope:transfer.api.globus.org:all[*https://auth.globus.org/scopes/8c185a84-5c61-4bbc-b12b-11430e20010f/data_access]']\n",
      "\n",
      "Please go to this URL and login: https://auth.globus.org/v2/oauth2/authorize?client_id=769d24e1-d1cc-4198-9ff7-2626485da449&redirect_uri=https%3A%2F%2Fauth.globus.org%2Fv2%2Fweb%2Fauth-code&scope=urn%3Aglobus%3Aauth%3Ascope%3Atransfer.api.globus.org%3Aall%5B%2Ahttps%3A%2F%2Fauth.globus.org%2Fscopes%2F8c185a84-5c61-4bbc-b12b-11430e20010f%2Fdata_access%5D&state=_default&response_type=code&code_challenge=T_RDlMqDtXgZXUICVCs0fMHy_jr5EeOKTFLhadfQozg&code_challenge_method=S256&access_type=offline\n",
      "\t Copied url to clipboard!\n"
     ]
    }
   ],
   "source": [
    "\n",
    "\n",
    "source_endpoint_id = globus_endpoint_kdiba_lab_turbo\n",
    "start_time = datetime.datetime(2023, 5, 30, 0, 0)  # Change this to your desired start time\n",
    "\n",
    "# List the files on the endpoint\n",
    "# try to submit the task\n",
    "# if it fails, catch the error...\n",
    "try:\n",
    "    response = tc.operation_ls(source_endpoint_id, path='/')\n",
    "except globus_sdk.TransferAPIError as err:\n",
    "    # if the error is something other than consent_required, reraise it,\n",
    "    # exiting the script with an error message\n",
    "    if not err.info.consent_required:\n",
    "        raise\n",
    "\n",
    "    # we now know that the error is a ConsentRequired\n",
    "    # print an explanatory message and do the login flow again\n",
    "    print( \"Encountered a ConsentRequired error.\\n\" \"You must login a second time to grant consents.\\n\\n\" )\n",
    "    print(f'required scopes:\\n{err.info.consent_required.required_scopes}\\n')\n",
    "    transfer_client = login_and_get_transfer_client(scopes=err.info.consent_required.required_scopes)"
   ]
  },
  {
   "cell_type": "code",
   "execution_count": 21,
   "metadata": {},
   "outputs": [
    {
     "ename": "TransferAPIError",
     "evalue": "('GET', 'https://transfer.api.globus.org/v0.10/operation/endpoint/8c185a84-5c61-4bbc-b12b-11430e20010f/ls?path=%2F', 'Bearer', 403, 'ConsentRequired', 'Missing required data_access consent', 'IlvaeAK9g')",
     "output_type": "error",
     "traceback": [
      "\u001b[1;31m---------------------------------------------------------------------------\u001b[0m",
      "\u001b[1;31mTransferAPIError\u001b[0m                          Traceback (most recent call last)",
      "Cell \u001b[1;32mIn[21], line 1\u001b[0m\n\u001b[1;32m----> 1\u001b[0m response \u001b[39m=\u001b[39m tc\u001b[39m.\u001b[39;49moperation_ls(source_endpoint_id, path\u001b[39m=\u001b[39;49m\u001b[39m'\u001b[39;49m\u001b[39m/\u001b[39;49m\u001b[39m'\u001b[39;49m)\n\u001b[0;32m      3\u001b[0m \u001b[39mif\u001b[39;00m response[\u001b[39m'\u001b[39m\u001b[39mcode\u001b[39m\u001b[39m'\u001b[39m] \u001b[39m==\u001b[39m \u001b[39m\"\u001b[39m\u001b[39mSuccess\u001b[39m\u001b[39m\"\u001b[39m:\n\u001b[0;32m      4\u001b[0m     \u001b[39m# Filter the files based on the modified timestamp\u001b[39;00m\n\u001b[0;32m      5\u001b[0m     changed_files \u001b[39m=\u001b[39m [\n\u001b[0;32m      6\u001b[0m         item[\u001b[39m\"\u001b[39m\u001b[39mname\u001b[39m\u001b[39m\"\u001b[39m]\n\u001b[0;32m      7\u001b[0m         \u001b[39mfor\u001b[39;00m item \u001b[39min\u001b[39;00m response[\u001b[39m\"\u001b[39m\u001b[39mDATA\u001b[39m\u001b[39m\"\u001b[39m]\n\u001b[0;32m      8\u001b[0m         \u001b[39mif\u001b[39;00m item[\u001b[39m\"\u001b[39m\u001b[39mtype\u001b[39m\u001b[39m\"\u001b[39m] \u001b[39m==\u001b[39m \u001b[39m\"\u001b[39m\u001b[39mfile\u001b[39m\u001b[39m\"\u001b[39m \u001b[39mand\u001b[39;00m datetime\u001b[39m.\u001b[39mdatetime\u001b[39m.\u001b[39mfromisoformat(item[\u001b[39m\"\u001b[39m\u001b[39mlast_modified\u001b[39m\u001b[39m\"\u001b[39m]) \u001b[39m>\u001b[39m\u001b[39m=\u001b[39m start_time\n\u001b[0;32m      9\u001b[0m     ]\n",
      "File \u001b[1;32mc:\\Users\\pho\\AppData\\Local\\pypoetry\\Cache\\virtualenvs\\phoglobushelpers-IN_mbgpd-py3.11\\Lib\\site-packages\\globus_sdk\\services\\transfer\\client.py:1297\u001b[0m, in \u001b[0;36mTransferClient.operation_ls\u001b[1;34m(self, endpoint_id, path, show_hidden, orderby, filter, query_params)\u001b[0m\n\u001b[0;32m   1293\u001b[0m     query_params[\u001b[39m\"\u001b[39m\u001b[39mfilter\u001b[39m\u001b[39m\"\u001b[39m] \u001b[39m=\u001b[39m _format_filter(\u001b[39mfilter\u001b[39m)\n\u001b[0;32m   1295\u001b[0m log\u001b[39m.\u001b[39minfo(\u001b[39mf\u001b[39m\u001b[39m\"\u001b[39m\u001b[39mTransferClient.operation_ls(\u001b[39m\u001b[39m{\u001b[39;00mendpoint_id\u001b[39m}\u001b[39;00m\u001b[39m, \u001b[39m\u001b[39m{\u001b[39;00mquery_params\u001b[39m}\u001b[39;00m\u001b[39m)\u001b[39m\u001b[39m\"\u001b[39m)\n\u001b[0;32m   1296\u001b[0m \u001b[39mreturn\u001b[39;00m IterableTransferResponse(\n\u001b[1;32m-> 1297\u001b[0m     \u001b[39mself\u001b[39;49m\u001b[39m.\u001b[39;49mget(\u001b[39mf\u001b[39;49m\u001b[39m\"\u001b[39;49m\u001b[39moperation/endpoint/\u001b[39;49m\u001b[39m{\u001b[39;49;00mendpoint_id\u001b[39m}\u001b[39;49;00m\u001b[39m/ls\u001b[39;49m\u001b[39m\"\u001b[39;49m, query_params\u001b[39m=\u001b[39;49mquery_params)\n\u001b[0;32m   1298\u001b[0m )\n",
      "File \u001b[1;32mc:\\Users\\pho\\AppData\\Local\\pypoetry\\Cache\\virtualenvs\\phoglobushelpers-IN_mbgpd-py3.11\\Lib\\site-packages\\globus_sdk\\client.py:137\u001b[0m, in \u001b[0;36mBaseClient.get\u001b[1;34m(self, path, query_params, headers)\u001b[0m\n\u001b[0;32m    128\u001b[0m \u001b[39m\u001b[39m\u001b[39m\"\"\"\u001b[39;00m\n\u001b[0;32m    129\u001b[0m \u001b[39mMake a GET request to the specified path.\u001b[39;00m\n\u001b[0;32m    130\u001b[0m \n\u001b[1;32m   (...)\u001b[0m\n\u001b[0;32m    134\u001b[0m \u001b[39m<globus_sdk.response.GlobusHTTPResponse>` object\u001b[39;00m\n\u001b[0;32m    135\u001b[0m \u001b[39m\"\"\"\u001b[39;00m\n\u001b[0;32m    136\u001b[0m log\u001b[39m.\u001b[39mdebug(\u001b[39mf\u001b[39m\u001b[39m\"\u001b[39m\u001b[39mGET to \u001b[39m\u001b[39m{\u001b[39;00mpath\u001b[39m}\u001b[39;00m\u001b[39m with query_params \u001b[39m\u001b[39m{\u001b[39;00mquery_params\u001b[39m}\u001b[39;00m\u001b[39m\"\u001b[39m)\n\u001b[1;32m--> 137\u001b[0m \u001b[39mreturn\u001b[39;00m \u001b[39mself\u001b[39;49m\u001b[39m.\u001b[39;49mrequest(\u001b[39m\"\u001b[39;49m\u001b[39mGET\u001b[39;49m\u001b[39m\"\u001b[39;49m, path, query_params\u001b[39m=\u001b[39;49mquery_params, headers\u001b[39m=\u001b[39;49mheaders)\n",
      "File \u001b[1;32mc:\\Users\\pho\\AppData\\Local\\pypoetry\\Cache\\virtualenvs\\phoglobushelpers-IN_mbgpd-py3.11\\Lib\\site-packages\\globus_sdk\\client.py:312\u001b[0m, in \u001b[0;36mBaseClient.request\u001b[1;34m(self, method, path, query_params, data, headers, encoding, allow_redirects, stream)\u001b[0m\n\u001b[0;32m    309\u001b[0m     \u001b[39mreturn\u001b[39;00m GlobusHTTPResponse(r, \u001b[39mself\u001b[39m)\n\u001b[0;32m    311\u001b[0m log\u001b[39m.\u001b[39mdebug(\u001b[39mf\u001b[39m\u001b[39m\"\u001b[39m\u001b[39mrequest completed with (error) response code: \u001b[39m\u001b[39m{\u001b[39;00mr\u001b[39m.\u001b[39mstatus_code\u001b[39m}\u001b[39;00m\u001b[39m\"\u001b[39m)\n\u001b[1;32m--> 312\u001b[0m \u001b[39mraise\u001b[39;00m \u001b[39mself\u001b[39m\u001b[39m.\u001b[39merror_class(r)\n",
      "\u001b[1;31mTransferAPIError\u001b[0m: ('GET', 'https://transfer.api.globus.org/v0.10/operation/endpoint/8c185a84-5c61-4bbc-b12b-11430e20010f/ls?path=%2F', 'Bearer', 403, 'ConsentRequired', 'Missing required data_access consent', 'IlvaeAK9g')"
     ]
    }
   ],
   "source": [
    "response = tc.operation_ls(source_endpoint_id, path='/')\n",
    "\n",
    "if response['code'] == \"Success\":\n",
    "    # Filter the files based on the modified timestamp\n",
    "    changed_files = [\n",
    "        item[\"name\"]\n",
    "        for item in response[\"DATA\"]\n",
    "        if item[\"type\"] == \"file\" and datetime.datetime.fromisoformat(item[\"last_modified\"]) >= start_time\n",
    "    ]\n",
    "    print(\"Changed Files:\")\n",
    "    for file in changed_files:\n",
    "        print(file)\n",
    "else:\n",
    "    print(\"Failed to list files:\", response['message'])\n"
   ]
  },
  {
   "cell_type": "code",
   "execution_count": null,
   "metadata": {},
   "outputs": [],
   "source": []
  }
 ],
 "metadata": {
  "kernelspec": {
   "display_name": "phoglobushelpers-IN_mbgpd-py3.11",
   "language": "python",
   "name": "python3"
  },
  "language_info": {
   "codemirror_mode": {
    "name": "ipython",
    "version": 3
   },
   "file_extension": ".py",
   "mimetype": "text/x-python",
   "name": "python",
   "nbconvert_exporter": "python",
   "pygments_lexer": "ipython3",
   "version": "3.11.3"
  },
  "orig_nbformat": 4
 },
 "nbformat": 4,
 "nbformat_minor": 2
}
