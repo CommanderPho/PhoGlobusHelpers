{
 "cells": [
  {
   "cell_type": "code",
   "execution_count": 1,
   "metadata": {
    "notebookRunGroups": {
     "groupValue": "1"
    }
   },
   "outputs": [
    {
     "name": "stdout",
     "output_type": "stream",
     "text": [
      "Automatic pdb calling has been turned OFF\n"
     ]
    }
   ],
   "source": [
    "%config IPCompleter.use_jedi = False\n",
    "%pdb off\n",
    "# %load_ext viztracer\n",
    "# from viztracer import VizTracer\n",
    "%load_ext autoreload\n",
    "%autoreload 3\n",
    "import sys\n",
    "from copy import deepcopy\n",
    "from pathlib import Path\n",
    "import os\n",
    "from datetime import datetime, date, timedelta\n",
    "from typing import Any, List, Dict, Union, Tuple\n",
    "import pandas as pd\n",
    "\n",
    "## Enable full-width pandas dataframe columns so the paths and filenames always fit\n",
    "pd.set_option('display.max_colwidth', None)\n",
    "pd.set_option('display.expand_frame_repr', False)\n",
    "# /umms-kdiba/Data/Output/gen_scripts/\n",
    "\n",
    "import globus_sdk\n",
    "from globus_sdk import AccessTokenAuthorizer, TransferClient, TransferData\n",
    "from globus_sdk.scopes import TransferScopes\n",
    "from attrs import define, field, Factory\n",
    "\n",
    "from phoglobushelpers.PhoGlobusHelper import GlobusConnector, KnownEndpoints\n",
    "from phoglobushelpers.compatibility_objects.Bookmarks import Bookmark, BookmarkList\n",
    "from phoglobushelpers.compatibility_objects.Files import File, FilesystemDataType, FileList\n",
    "from phoglobushelpers.compatibility_objects.Tasks import FatalError, Task, TaskList"
   ]
  },
  {
   "cell_type": "code",
   "execution_count": 2,
   "metadata": {
    "notebookRunGroups": {
     "groupValue": "1"
    }
   },
   "outputs": [
    {
     "name": "stdout",
     "output_type": "stream",
     "text": [
      "Please go to this URL and login: https://auth.globus.org/v2/oauth2/authorize?client_id=769d24e1-d1cc-4198-9ff7-2626485da449&redirect_uri=https%3A%2F%2Fauth.globus.org%2Fv2%2Fweb%2Fauth-code&scope=openid+profile+email+urn%3Aglobus%3Aauth%3Ascope%3Atransfer.api.globus.org%3Aall&state=_default&response_type=code&code_challenge=JtrV9_t_M7OLIxKShkiKI4yFVPu0vEEOqQkSm4Rx-9g&code_challenge_method=S256&access_type=offline\n",
      "\t Copied url to clipboard!\n"
     ]
    },
    {
     "name": "stdout",
     "output_type": "stream",
     "text": [
      "My Endpoints:\n",
      "[c3a90494-2555-11ec-a47d-a50ad076c282] aleinbook-linux\n",
      "[df4149a0-9925-11ee-be43-c52a29481bea] Aleinware\n",
      "[84991054-07b4-11ed-8d83-a54cf61939f8] Apogee\n",
      "[6d0251c4-2585-11ec-9e35-3df4ed83d858] Cubix Win10\n",
      "[c3578f36-42a8-11ec-a50f-b537d6c07c1d] FlatEdge_Server\n",
      "[af3fcfce-f664-11ed-9a7d-83ef71fbf0ae] LNX00052_Fedora\n",
      "[44727efc-c21b-11ee-89e3-5130436d8581] LNX00052_Ubuntu\n",
      "[2621bd72-f688-11ee-b6ec-473d136f742f] MM2\n",
      "[20c84240-1eb1-11eb-81b7-0e2f230cc907] Pho Personal Laptop\n",
      "[560d3a12-be20-11ed-9916-cb2cff506ca5] Pho_Personal_Testix\n",
      "[cee0aaec-3e3b-11ef-9637-453c3ae125a5] RDLU0039_DibaLabWorkstation\n",
      "[debb635c-2556-11ec-a47d-a50ad076c282] rMBP Pink Dot\n",
      "[e414f584-2556-11ec-a0a7-6b21ca6daf73] rMBP Pink Dot\n",
      "[41b8fb12-516b-11ee-8a4b-b1038a0991ac] rMBP-PinkDot\n",
      "[3fc00ebe-f142-11ee-91fe-472b0fe4395a] TempVM_VS_NonGPU\n"
     ]
    }
   ],
   "source": [
    "connect_man = GlobusConnector.login_and_get_transfer_client()\n",
    "transfer_client = connect_man.transfer_client\n",
    "connect_man.list_endpoints()\n"
   ]
  },
  {
   "cell_type": "markdown",
   "metadata": {},
   "source": [
    "# Tasks"
   ]
  },
  {
   "cell_type": "code",
   "execution_count": null,
   "metadata": {},
   "outputs": [],
   "source": [
    "task_id = \"a5bba88c-fba0-11ee-9063-1f4fee4027cc\""
   ]
  },
  {
   "cell_type": "code",
   "execution_count": null,
   "metadata": {},
   "outputs": [],
   "source": [
    "tasks_list = connect_man.get_tasks()\n",
    "tasks_list_df = tasks_list.to_dataframe()\n",
    "tasks_list_df"
   ]
  },
  {
   "cell_type": "code",
   "execution_count": null,
   "metadata": {},
   "outputs": [],
   "source": [
    "tasks_list_df"
   ]
  },
  {
   "cell_type": "markdown",
   "metadata": {},
   "source": [
    "# Bookmarks"
   ]
  },
  {
   "cell_type": "code",
   "execution_count": 3,
   "metadata": {
    "notebookRunGroups": {
     "groupValue": "2"
    }
   },
   "outputs": [
    {
     "data": {
      "text/plain": [
       "[Bookmark(bookmark_id='9a8eccc8-2558-11ec-a0a7-6b21ca6daf73', name='aleinbook-linux - PhoPy3DPositionAnalysis', endpoint_id='c3a90494-2555-11ec-a47d-a50ad076c282', path='/~/repo/PhoPy3DPositionAnalysis/'),\n",
       " Bookmark(bookmark_id='3453290e-9926-11ee-8c90-fd88ce9321ad', name='Aleinware SmallSSD', endpoint_id='df4149a0-9925-11ee-be43-c52a29481bea', path='/F/'),\n",
       " Bookmark(bookmark_id='2a9f2464-01ad-11ee-be0e-195c41bc0be4', name='Apogee Data W', endpoint_id='84991054-07b4-11ed-8d83-a54cf61939f8', path='/~/W/Data/'),\n",
       " Bookmark(bookmark_id='fa915572-43a0-11ee-a06e-eb83daae1adf', name='Apogee DibaLabGDriveMount', endpoint_id='84991054-07b4-11ed-8d83-a54cf61939f8', path='/~/L/'),\n",
       " Bookmark(bookmark_id='4f1229fe-3eba-11ef-9637-453c3ae125a5', name='Apogee - gen_scripts', endpoint_id='84991054-07b4-11ed-8d83-a54cf61939f8', path='/K/scratch/gen_scripts/'),\n",
       " Bookmark(bookmark_id='965ffa0e-f90d-11ee-9222-472b0fe4395a', name='Apogee - K - collected_outputs', endpoint_id='84991054-07b4-11ed-8d83-a54cf61939f8', path='/K/scratch/collected_outputs/'),\n",
       " Bookmark(bookmark_id='a267ed38-8d7f-11ee-be03-c52a29481bea', name='Apogee - K - UE5_3 - Plugins', endpoint_id='84991054-07b4-11ed-8d83-a54cf61939f8', path='/K/FastSwap/ProgramFiles/UE_5.3/Engine/Plugins/'),\n",
       " Bookmark(bookmark_id='63655524-164e-11ee-bfba-195c41bc0be4', name='Apogee - PersonalFastSwapShare', endpoint_id='84991054-07b4-11ed-8d83-a54cf61939f8', path='/W/FastSwap/PersonalFastSwapShare/'),\n",
       " Bookmark(bookmark_id='1c725da6-203a-11ee-80bc-a3018385fcef', name='Apogee - ProgrammaticDisplayFunctionTesting', endpoint_id='84991054-07b4-11ed-8d83-a54cf61939f8', path='/C/Users/pho/repos/Spike3DWorkEnv/Spike3D/EXTERNAL/Screenshots/ProgrammaticDisplayFunctionTesting/'),\n",
       " Bookmark(bookmark_id='eeab2364-f8c2-11ee-921f-472b0fe4395a', name='Apogee - Spike3DWorkEnv - Output', endpoint_id='84991054-07b4-11ed-8d83-a54cf61939f8', path='/C/Users/pho/repos/Spike3DWorkEnv/Spike3D/output/'),\n",
       " Bookmark(bookmark_id='66ead9ec-2e56-11ee-b3ed-ad2493b708f4', name='Apogee - Unreal Root', endpoint_id='84991054-07b4-11ed-8d83-a54cf61939f8', path='/~/E/UNREAL/'),\n",
       " Bookmark(bookmark_id='78ca952e-2586-11ec-9e35-3df4ed83d858', name='Cubix Win10 PhoPy3DPositionAnalysis2021', endpoint_id='6d0251c4-2585-11ec-9e35-3df4ed83d858', path='/~/repos/PhoPy3DPositionAnalysis2021/'),\n",
       " Bookmark(bookmark_id='06f3fc6e-b65d-11ee-84a8-f1441124ff66', name='Day5TwoNovel', endpoint_id='ab65757f-00f5-4e5b-aa21-133187732a01', path='/umms-dibalab/Data/Bapun/RatS/Day5TwoNovel/'),\n",
       " Bookmark(bookmark_id='c23b0afa-3261-11ef-b82c-1dd816fe311b', name='DellaKouroshReMazeDataShare', endpoint_id='ab65757f-00f5-4e5b-aa21-133187732a01', path='/umms-dibalab/_TEMP/DellaKouroshReMazeDataShare/'),\n",
       " Bookmark(bookmark_id='99efa634-3ead-11ef-888b-2b3122c1d121', name='Greatlakes gen_scripts', endpoint_id='8c185a84-5c61-4bbc-b12b-11430e20010f', path='/umms-kdiba/Data/Output/gen_scripts/'),\n",
       " Bookmark(bookmark_id='431c951e-96c6-11ed-9b93-19370d280681', name='kdiba DataDen Data', endpoint_id='ab65757f-00f5-4e5b-aa21-133187732a01', path='/umms-dibalab/Data/'),\n",
       " Bookmark(bookmark_id='8ce139f8-9d46-11ed-a2a2-8383522b48d9', name='KDIBA Lab Turbo', endpoint_id='8c185a84-5c61-4bbc-b12b-11430e20010f', path='/umms-kdiba/'),\n",
       " Bookmark(bookmark_id='91181e28-f90d-11ee-9222-472b0fe4395a', name='KDIBA Lab Turbo - collected_outputs', endpoint_id='8c185a84-5c61-4bbc-b12b-11430e20010f', path='/umms-kdiba/Data/Output/collected_outputs/'),\n",
       " Bookmark(bookmark_id='728fb3e8-2597-11ee-80c2-a3018385fcef', name='KDIBA Lab Turbo - Data Global Root Folder', endpoint_id='8c185a84-5c61-4bbc-b12b-11430e20010f', path='/umms-kdiba/Data/'),\n",
       " Bookmark(bookmark_id='fa5567f4-5d97-11ee-8e55-e7956a689924', name='LNX00052_Fedora - BETAMAX 20TB Disk', endpoint_id='af3fcfce-f664-11ed-9a7d-83ef71fbf0ae', path='/mnt/BETAMAX/'),\n",
       " Bookmark(bookmark_id='de42717e-5d97-11ee-8e55-e7956a689924', name='LNX00052_Fedora - DELTAMAX 20TB Disk', endpoint_id='af3fcfce-f664-11ed-9a7d-83ef71fbf0ae', path='/mnt/DELTAMAX/'),\n",
       " Bookmark(bookmark_id='7b24feb0-5e26-11ee-8776-1dc3121de006', name='LNX00052_Fedora - FastData Global Data Root', endpoint_id='af3fcfce-f664-11ed-9a7d-83ef71fbf0ae', path='/home/halechr/FastData/'),\n",
       " Bookmark(bookmark_id='e50e6dd2-5d97-11ee-8e55-e7956a689924', name='LNX00052_Fedora - GAMMAMAX 20TB Disk', endpoint_id='af3fcfce-f664-11ed-9a7d-83ef71fbf0ae', path='/mnt/GAMMAMAX/'),\n",
       " Bookmark(bookmark_id='6e727c22-5d97-11ee-8e55-e7956a689924', name='LNX00052_Fedora - GDrive_Diba_Shared Data', endpoint_id='af3fcfce-f664-11ed-9a7d-83ef71fbf0ae', path='/media/MAX/cloud/GDrive_Diba_Shared/Data/'),\n",
       " Bookmark(bookmark_id='211f7d4e-478a-11ee-a072-eb83daae1adf', name='LNX00052_Fedora - HugePort 20TB Disk', endpoint_id='af3fcfce-f664-11ed-9a7d-83ef71fbf0ae', path='/media/HugePort/'),\n",
       " Bookmark(bookmark_id='82d87ba0-5d59-11ee-8e55-e7956a689924', name='LNX00052_Fedora - HUUUGE 20TB Disk', endpoint_id='af3fcfce-f664-11ed-9a7d-83ef71fbf0ae', path='/mnt/wwn-0x5000cca2b3c3f6f7-part1/'),\n",
       " Bookmark(bookmark_id='248a9a30-164e-11ee-bfba-195c41bc0be4', name='LNX00052_Fedora - MAX', endpoint_id='af3fcfce-f664-11ed-9a7d-83ef71fbf0ae', path='/media/MAX/'),\n",
       " Bookmark(bookmark_id='fb16ea72-8d6d-11ee-8c73-fd88ce9321ad', name='LNX00052_Fedora - MAX - UnrealProjects', endpoint_id='af3fcfce-f664-11ed-9a7d-83ef71fbf0ae', path='/media/MAX/Personal/UnrealProjects/'),\n",
       " Bookmark(bookmark_id='c817bbf0-4da9-11ee-a088-eb83daae1adf', name='LNX00052_Fedora - New ProgrammaticDisplayFunctionTesting', endpoint_id='af3fcfce-f664-11ed-9a7d-83ef71fbf0ae', path='/home/halechr/repos/Spike3D/EXTERNAL/Screenshots/ProgrammaticDisplayFunctionTesting/'),\n",
       " Bookmark(bookmark_id='af68b1ea-20c7-11ee-818f-195c41bc0be4', name='LNX00052_Fedora - ProgrammaticDisplayFunctionTesting', endpoint_id='af3fcfce-f664-11ed-9a7d-83ef71fbf0ae', path='/home/halechr/repo/Spike3D/EXTERNAL/Screenshots/ProgrammaticDisplayFunctionTesting/'),\n",
       " Bookmark(bookmark_id='b214aca0-4da9-11ee-a088-eb83daae1adf', name='LNX00052_Fedora - Spike3D Repo', endpoint_id='af3fcfce-f664-11ed-9a7d-83ef71fbf0ae', path='/home/halechr/repos/Spike3D/'),\n",
       " Bookmark(bookmark_id='ca95eb76-c21c-11ee-84b4-f1441124ff66', name='LNX00052_Ubuntu', endpoint_id='44727efc-c21b-11ee-89e3-5130436d8581', path='/~/'),\n",
       " Bookmark(bookmark_id='25a26f84-cd13-11ee-a48f-73d2c6fd707d', name='LNX00052_Ubuntu - UnrealProjects', endpoint_id='44727efc-c21b-11ee-89e3-5130436d8581', path='/media/halechr/MAX/Personal/UnrealProjects/'),\n",
       " Bookmark(bookmark_id='b6d70674-3144-11ee-87a9-4dfadf03ac7e', name='lsa-halechr Personal Turbo', endpoint_id='ab65757f-00f5-4e5b-aa21-133187732a01', path='/lsa-halechr/'),\n",
       " Bookmark(bookmark_id='034e1614-3c19-11ec-90c8-7fa38c35632a', name='NYU Langone Health DTN1 - Buzsakilab Public Datasets', endpoint_id='188a6110-96db-11eb-b7a9-f57b2d55370d', path='/'),\n",
       " Bookmark(bookmark_id='ec5514de-3f9f-11ef-b849-1dd816fe311b', name='Pho Personal Laptop - collected_outputs', endpoint_id='20c84240-1eb1-11eb-81b7-0e2f230cc907', path='/Users/pho/data/collected_outputs/'),\n",
       " Bookmark(bookmark_id='e44c77aa-3f9f-11ef-b849-1dd816fe311b', name='Pho Personal Laptop - Data', endpoint_id='20c84240-1eb1-11eb-81b7-0e2f230cc907', path='/Users/pho/data/'),\n",
       " Bookmark(bookmark_id='bbb4a1a8-f0b9-11ee-91fe-472b0fe4395a', name='Pho Personal Laptop - DibaMac', endpoint_id='20c84240-1eb1-11eb-81b7-0e2f230cc907', path='/Volumes/DibaMac/'),\n",
       " Bookmark(bookmark_id='b0066292-f0b9-11ee-91fe-472b0fe4395a', name='Pho Personal Laptop - halechrGDrive', endpoint_id='20c84240-1eb1-11eb-81b7-0e2f230cc907', path='/Volumes/DibaMac/Backups/Pho/'),\n",
       " Bookmark(bookmark_id='1805df24-e618-11ed-9a63-83ef71fbf0ae', name='Pho Personal Laptop - PegasusR6 - Data', endpoint_id='20c84240-1eb1-11eb-81b7-0e2f230cc907', path='/Volumes/Pegasus R6/Data/'),\n",
       " Bookmark(bookmark_id='3a94f9b2-03ef-11ef-82a6-57b5c7e2fa2b', name='Pho Personal Laptop - SwapSSD Data', endpoint_id='20c84240-1eb1-11eb-81b7-0e2f230cc907', path='/Volumes/SwapSSD/Data/'),\n",
       " Bookmark(bookmark_id='2cd4df1e-3f94-11ef-9638-453c3ae125a5', name='RDLU0039_DibaLabWorkstation - Collected Outputs', endpoint_id='cee0aaec-3e3b-11ef-9637-453c3ae125a5', path='/home/halechr/FastData/collected_outputs/'),\n",
       " Bookmark(bookmark_id='20d34336-3f94-11ef-9638-453c3ae125a5', name='RDLU0039_DibaLabWorkstation - FastData', endpoint_id='cee0aaec-3e3b-11ef-9637-453c3ae125a5', path='/home/halechr/FastData/'),\n",
       " Bookmark(bookmark_id='295f306c-3f96-11ef-888b-2b3122c1d121', name='RDLU0039_DibaLabWorkstation - gen_scripts', endpoint_id='cee0aaec-3e3b-11ef-9637-453c3ae125a5', path='/home/halechr/FastData/gen_scripts/'),\n",
       " Bookmark(bookmark_id='be76c06a-51e2-11ee-a0a8-eb83daae1adf', name='rMBP-PinkDot - LargeDisk', endpoint_id='41b8fb12-516b-11ee-8a4b-b1038a0991ac', path='/Volumes/LargeDisk/'),\n",
       " Bookmark(bookmark_id='883e37d8-f142-11ee-904b-1f4fee4027cc', name='TempVM_VS_NonGPU', endpoint_id='3fc00ebe-f142-11ee-91fe-472b0fe4395a', path='/'),\n",
       " Bookmark(bookmark_id='d85320ee-f142-11ee-904b-1f4fee4027cc', name='TempVM_VS_NonGPU - GDrive - WatsonLab2019-2020', endpoint_id='3fc00ebe-f142-11ee-91fe-472b0fe4395a', path='/L/MED-WatsonDigitalPhenotyping/FromGDrive2024/Watson Lab 2019-2020/'),\n",
       " Bookmark(bookmark_id='90d94d74-f142-11ee-904b-1f4fee4027cc', name='TempVM_VS_NonGPU - K - GDrive', endpoint_id='3fc00ebe-f142-11ee-91fe-472b0fe4395a', path='/K/'),\n",
       " Bookmark(bookmark_id='c1dae626-f142-11ee-904b-1f4fee4027cc', name='TempVM_VS_NonGPU - L - Dropbox', endpoint_id='3fc00ebe-f142-11ee-91fe-472b0fe4395a', path='/L/'),\n",
       " Bookmark(bookmark_id='99ce1e08-bdf1-11ed-8cec-f9fa098153fc', name='UMich Diba Turbo - Pho Directory', endpoint_id='8c185a84-5c61-4bbc-b12b-11430e20010f', path='/umms-kdiba/Pho/'),\n",
       " Bookmark(bookmark_id='b1668f08-2036-11ee-80bc-a3018385fcef', name='umich#greatlakes - halechr homedir', endpoint_id='454f457e-a41b-4807-8775-d132f15a228f', path='/home/halechr/'),\n",
       " Bookmark(bookmark_id='f479daf4-2039-11ee-80bc-a3018385fcef', name='umich#greatlakes - ProgrammaticDisplayFunctionTesting', endpoint_id='454f457e-a41b-4807-8775-d132f15a228f', path='/home/halechr/repos/Spike3D/EXTERNAL/Screenshots/ProgrammaticDisplayFunctionTesting/'),\n",
       " Bookmark(bookmark_id='d7c1b398-4ca6-11ee-a085-eb83daae1adf', name='umich#greatlakes - Scratch', endpoint_id='454f457e-a41b-4807-8775-d132f15a228f', path='/scratch/kdiba_root/'),\n",
       " Bookmark(bookmark_id='bef81650-96c5-11ed-9b93-19370d280681', name='umms-dibalab DataDen', endpoint_id='ab65757f-00f5-4e5b-aa21-133187732a01', path='/umms-dibalab/')]"
      ]
     },
     "metadata": {},
     "output_type": "display_data"
    }
   ],
   "source": [
    "bookmark_list = connect_man.get_bookmarks()\n",
    "display(bookmark_list.DATA)\n",
    "\n",
    "lab_Turbo_data_folder_bookmark = Bookmark(bookmark_id='728fb3e8-2597-11ee-80c2-a3018385fcef', name='KDIBA Lab Turbo - Data Global Root Folder', endpoint_id='8c185a84-5c61-4bbc-b12b-11430e20010f', path='/umms-kdiba/Data/')\n",
    "lab_DataDen_data_folder_bookmark = Bookmark(bookmark_id='431c951e-96c6-11ed-9b93-19370d280681', name='kdiba DataDen Data', endpoint_id='ab65757f-00f5-4e5b-aa21-133187732a01', path='/umms-dibalab/Data/')\n",
    "\n",
    "lab_Turbo_collected_outputs_bookmark = Bookmark(bookmark_id='91181e28-f90d-11ee-9222-472b0fe4395a', name='KDIBA Lab Turbo - collected_outputs', endpoint_id='8c185a84-5c61-4bbc-b12b-11430e20010f', path='/umms-kdiba/Data/Output/collected_outputs/')\n",
    "\n",
    "# Figure Outputs:\n",
    "lab_Greatlakes_ProgrammaticDisplayFunctionTesting_bookmark = Bookmark(bookmark_id='f479daf4-2039-11ee-80bc-a3018385fcef', name='umich#greatlakes - ProgrammaticDisplayFunctionTesting', endpoint_id='454f457e-a41b-4807-8775-d132f15a228f', path='/home/halechr/repos/Spike3D/EXTERNAL/Screenshots/ProgrammaticDisplayFunctionTesting/')\n",
    "lab_LNX00052_Fedora_ProgrammaticDisplayFunctionTesting_bookmark = Bookmark(bookmark_id='af68b1ea-20c7-11ee-818f-195c41bc0be4', name='LNX00052_Fedora - ProgrammaticDisplayFunctionTesting', endpoint_id='af3fcfce-f664-11ed-9a7d-83ef71fbf0ae', path='/home/halechr/repo/Spike3D/EXTERNAL/Screenshots/ProgrammaticDisplayFunctionTesting/')\n",
    "\n",
    "## Apogee:\n",
    "home_Apogee_ProgrammaticDisplayFunctionTesting_bookmark = Bookmark(bookmark_id='1c725da6-203a-11ee-80bc-a3018385fcef', name='Apogee - ProgrammaticDisplayFunctionTesting', endpoint_id='84991054-07b4-11ed-8d83-a54cf61939f8', path='/C/Users/pho/repos/Spike3DWorkEnv/Spike3D/EXTERNAL/Screenshots/ProgrammaticDisplayFunctionTesting/')\n",
    "apogee_collected_outputs_folder_bookmark = Bookmark(bookmark_id='965ffa0e-f90d-11ee-9222-472b0fe4395a', name='Apogee - K - collected_outputs', endpoint_id='84991054-07b4-11ed-8d83-a54cf61939f8', path='/K/scratch/collected_outputs/')\n",
    "\n",
    "## `gen_scripts` folders:\n",
    "apogee_gen_scripts_folder_bookmark = Bookmark(bookmark_id='4f1229fe-3eba-11ef-9637-453c3ae125a5', name='Apogee - gen_scripts', endpoint_id='84991054-07b4-11ed-8d83-a54cf61939f8', path='/K/scratch/gen_scripts/')\n",
    "lab_Greatlakes_gen_scripts = Bookmark(bookmark_id='99efa634-3ead-11ef-888b-2b3122c1d121', name='Greatlakes gen_scripts', endpoint_id='8c185a84-5c61-4bbc-b12b-11430e20010f', path='/umms-kdiba/Data/Output/gen_scripts/')\n",
    "# lab_Greatlakes_gen_scripts, apogee_gen_scripts_folder_bookmark\n",
    "\n",
    "lab_RDLU0039_CollectedOutputs = Bookmark(bookmark_id='2cd4df1e-3f94-11ef-9638-453c3ae125a5', name='RDLU0039_DibaLabWorkstation - Collected Outputs', endpoint_id='cee0aaec-3e3b-11ef-9637-453c3ae125a5', path='/home/halechr/FastData/collected_outputs/')\n",
    "lab_RDLU0039_gen_scripts = Bookmark(bookmark_id='20d34336-3f94-11ef-9638-453c3ae125a5', name='RDLU0039_DibaLabWorkstation - FastData', endpoint_id='cee0aaec-3e3b-11ef-9637-453c3ae125a5', path='/home/halechr/FastData/')\n",
    "\n",
    "rMBP_collected_outputs = Bookmark(bookmark_id='ec5514de-3f9f-11ef-b849-1dd816fe311b', name='Pho Personal Laptop - collected_outputs', endpoint_id='20c84240-1eb1-11eb-81b7-0e2f230cc907', path='/Users/pho/data/collected_outputs/')\n",
    "\n",
    "## OUTPUTS: lab_Turbo_data_folder_bookmark, lab_DataDen_data_folder_bookmark, lab_Greatlakes_gen_scripts, apogee_gen_scripts_folder_bookmark, apogee_collected_outputs_folder_bookmark"
   ]
  },
  {
   "cell_type": "markdown",
   "metadata": {},
   "source": [
    "# 2024-07-10 - Pulling Greatlakes Batch Run Logs"
   ]
  },
  {
   "cell_type": "code",
   "execution_count": 6,
   "metadata": {},
   "outputs": [
    {
     "name": "stdout",
     "output_type": "stream",
     "text": [
      "earliest_search_day_date: 2024-07-11\n",
      "WARNING: filter was modified to include \"type:dir\" because `should_list_recursively=True`. Otherwise no subdirectories would be returned.\n"
     ]
    },
    {
     "data": {
      "text/html": [
       "<div>\n",
       "<style scoped>\n",
       "    .dataframe tbody tr th:only-of-type {\n",
       "        vertical-align: middle;\n",
       "    }\n",
       "\n",
       "    .dataframe tbody tr th {\n",
       "        vertical-align: top;\n",
       "    }\n",
       "\n",
       "    .dataframe thead th {\n",
       "        text-align: right;\n",
       "    }\n",
       "</style>\n",
       "<table border=\"1\" class=\"dataframe\">\n",
       "  <thead>\n",
       "    <tr style=\"text-align: right;\">\n",
       "      <th></th>\n",
       "      <th>type</th>\n",
       "      <th>parent_path</th>\n",
       "      <th>name</th>\n",
       "      <th>last_modified</th>\n",
       "      <th>size</th>\n",
       "    </tr>\n",
       "  </thead>\n",
       "  <tbody>\n",
       "    <tr>\n",
       "      <th>0</th>\n",
       "      <td>file</td>\n",
       "      <td>/umms-kdiba/Data/Output/gen_scripts/run_kdiba_gor01_one_2006-6-08_14-26-15</td>\n",
       "      <td>debug_2024-07-12_16-07-17.gl3134.arc-ts.umich.edu.kdiba.gor01.one.2006-6-08_14-26-15.log</td>\n",
       "      <td>2024-07-12 21:07:41+00:00</td>\n",
       "      <td>30613</td>\n",
       "    </tr>\n",
       "    <tr>\n",
       "      <th>1</th>\n",
       "      <td>file</td>\n",
       "      <td>/umms-kdiba/Data/Output/gen_scripts/run_kdiba_gor01_one_2006-6-09_1-22-43</td>\n",
       "      <td>debug_2024-07-12_16-07-17.gl3021.arc-ts.umich.edu.kdiba.gor01.one.2006-6-09_1-22-43.log</td>\n",
       "      <td>2024-07-12 21:06:14+00:00</td>\n",
       "      <td>31392</td>\n",
       "    </tr>\n",
       "    <tr>\n",
       "      <th>3</th>\n",
       "      <td>file</td>\n",
       "      <td>/umms-kdiba/Data/Output/gen_scripts/run_kdiba_gor01_one_2006-6-12_15-55-31</td>\n",
       "      <td>debug_2024-07-12_16-07-17.gl3025.arc-ts.umich.edu.kdiba.gor01.one.2006-6-12_15-55-31.log</td>\n",
       "      <td>2024-07-12 20:44:28+00:00</td>\n",
       "      <td>158665</td>\n",
       "    </tr>\n",
       "    <tr>\n",
       "      <th>4</th>\n",
       "      <td>file</td>\n",
       "      <td>/umms-kdiba/Data/Output/gen_scripts/run_kdiba_gor01_two_2006-6-07_16-40-19</td>\n",
       "      <td>debug_2024-07-12_16-07-17.gl3037.arc-ts.umich.edu.kdiba.gor01.two.2006-6-07_16-40-19.log</td>\n",
       "      <td>2024-07-12 21:09:18+00:00</td>\n",
       "      <td>31539</td>\n",
       "    </tr>\n",
       "    <tr>\n",
       "      <th>5</th>\n",
       "      <td>file</td>\n",
       "      <td>/umms-kdiba/Data/Output/gen_scripts/run_kdiba_gor01_two_2006-6-08_21-16-25</td>\n",
       "      <td>debug_2024-07-12_16-07-17.gl3050.arc-ts.umich.edu.kdiba.gor01.two.2006-6-08_21-16-25.log</td>\n",
       "      <td>2024-07-12 21:04:16+00:00</td>\n",
       "      <td>32732</td>\n",
       "    </tr>\n",
       "    <tr>\n",
       "      <th>6</th>\n",
       "      <td>file</td>\n",
       "      <td>/umms-kdiba/Data/Output/gen_scripts/run_kdiba_gor01_two_2006-6-09_22-24-40</td>\n",
       "      <td>debug_2024-07-12_16-07-17.gl3050.arc-ts.umich.edu.kdiba.gor01.two.2006-6-09_22-24-40.log</td>\n",
       "      <td>2024-07-12 21:13:12+00:00</td>\n",
       "      <td>31539</td>\n",
       "    </tr>\n",
       "    <tr>\n",
       "      <th>7</th>\n",
       "      <td>file</td>\n",
       "      <td>/umms-kdiba/Data/Output/gen_scripts/run_kdiba_gor01_two_2006-6-12_16-53-46</td>\n",
       "      <td>debug_2024-07-12_16-07-17.gl3050.arc-ts.umich.edu.kdiba.gor01.two.2006-6-12_16-53-46.log</td>\n",
       "      <td>2024-07-12 20:24:47+00:00</td>\n",
       "      <td>35414</td>\n",
       "    </tr>\n",
       "    <tr>\n",
       "      <th>14</th>\n",
       "      <td>file</td>\n",
       "      <td>/umms-kdiba/Data/Output/gen_scripts/run_kdiba_pin01_one_11-02_17-46-44</td>\n",
       "      <td>debug_2024-07-12_16-07-07.gl3123.arc-ts.umich.edu.kdiba.pin01.one.11-02_17-46-44.log</td>\n",
       "      <td>2024-07-12 20:39:58+00:00</td>\n",
       "      <td>259006</td>\n",
       "    </tr>\n",
       "    <tr>\n",
       "      <th>8</th>\n",
       "      <td>file</td>\n",
       "      <td>/umms-kdiba/Data/Output/gen_scripts/run_kdiba_pin01_one_11-02_19-28-0</td>\n",
       "      <td>debug_2024-07-12_16-07-17.gl3127.arc-ts.umich.edu.kdiba.pin01.one.11-02_19-28-0.log</td>\n",
       "      <td>2024-07-12 20:40:35+00:00</td>\n",
       "      <td>168746</td>\n",
       "    </tr>\n",
       "    <tr>\n",
       "      <th>9</th>\n",
       "      <td>file</td>\n",
       "      <td>/umms-kdiba/Data/Output/gen_scripts/run_kdiba_pin01_one_11-03_12-3-25</td>\n",
       "      <td>debug_2024-07-12_16-07-17.gl3134.arc-ts.umich.edu.kdiba.pin01.one.11-03_12-3-25.log</td>\n",
       "      <td>2024-07-12 20:34:04+00:00</td>\n",
       "      <td>120451</td>\n",
       "    </tr>\n",
       "    <tr>\n",
       "      <th>10</th>\n",
       "      <td>file</td>\n",
       "      <td>/umms-kdiba/Data/Output/gen_scripts/run_kdiba_pin01_one_fet11-01_12-58-54</td>\n",
       "      <td>debug_2024-07-12_16-07-17.gl3134.arc-ts.umich.edu.kdiba.pin01.one.fet11-01_12-58-54.log</td>\n",
       "      <td>2024-07-12 21:00:19+00:00</td>\n",
       "      <td>144245</td>\n",
       "    </tr>\n",
       "    <tr>\n",
       "      <th>11</th>\n",
       "      <td>file</td>\n",
       "      <td>/umms-kdiba/Data/Output/gen_scripts/run_kdiba_vvp01_one_2006-4-09_17-29-30</td>\n",
       "      <td>debug_2024-07-12_16-07-11.gl3062.arc-ts.umich.edu.kdiba.vvp01.one.2006-4-09_17-29-30.log</td>\n",
       "      <td>2024-07-12 20:46:07+00:00</td>\n",
       "      <td>151699</td>\n",
       "    </tr>\n",
       "    <tr>\n",
       "      <th>12</th>\n",
       "      <td>file</td>\n",
       "      <td>/umms-kdiba/Data/Output/gen_scripts/run_kdiba_vvp01_one_2006-4-10_12-25-50</td>\n",
       "      <td>debug_2024-07-12_16-07-11.gl3062.arc-ts.umich.edu.kdiba.vvp01.one.2006-4-10_12-25-50.log</td>\n",
       "      <td>2024-07-12 20:45:08+00:00</td>\n",
       "      <td>160507</td>\n",
       "    </tr>\n",
       "    <tr>\n",
       "      <th>13</th>\n",
       "      <td>file</td>\n",
       "      <td>/umms-kdiba/Data/Output/gen_scripts/run_kdiba_vvp01_two_2006-4-09_16-40-54</td>\n",
       "      <td>debug_2024-07-12_16-07-11.gl3062.arc-ts.umich.edu.kdiba.vvp01.two.2006-4-09_16-40-54.log</td>\n",
       "      <td>2024-07-12 20:42:00+00:00</td>\n",
       "      <td>161971</td>\n",
       "    </tr>\n",
       "    <tr>\n",
       "      <th>15</th>\n",
       "      <td>file</td>\n",
       "      <td>/umms-kdiba/Data/Output/gen_scripts/run_kdiba_vvp01_two_2006-4-10_12-58-3</td>\n",
       "      <td>debug_2024-07-12_16-07-07.gl3123.arc-ts.umich.edu.kdiba.vvp01.two.2006-4-10_12-58-3.log</td>\n",
       "      <td>2024-07-12 20:40:20+00:00</td>\n",
       "      <td>189830</td>\n",
       "    </tr>\n",
       "  </tbody>\n",
       "</table>\n",
       "</div>"
      ],
      "text/plain": [
       "    type                                                                 parent_path                                                                                      name             last_modified    size\n",
       "0   file  /umms-kdiba/Data/Output/gen_scripts/run_kdiba_gor01_one_2006-6-08_14-26-15  debug_2024-07-12_16-07-17.gl3134.arc-ts.umich.edu.kdiba.gor01.one.2006-6-08_14-26-15.log 2024-07-12 21:07:41+00:00   30613\n",
       "1   file   /umms-kdiba/Data/Output/gen_scripts/run_kdiba_gor01_one_2006-6-09_1-22-43   debug_2024-07-12_16-07-17.gl3021.arc-ts.umich.edu.kdiba.gor01.one.2006-6-09_1-22-43.log 2024-07-12 21:06:14+00:00   31392\n",
       "3   file  /umms-kdiba/Data/Output/gen_scripts/run_kdiba_gor01_one_2006-6-12_15-55-31  debug_2024-07-12_16-07-17.gl3025.arc-ts.umich.edu.kdiba.gor01.one.2006-6-12_15-55-31.log 2024-07-12 20:44:28+00:00  158665\n",
       "4   file  /umms-kdiba/Data/Output/gen_scripts/run_kdiba_gor01_two_2006-6-07_16-40-19  debug_2024-07-12_16-07-17.gl3037.arc-ts.umich.edu.kdiba.gor01.two.2006-6-07_16-40-19.log 2024-07-12 21:09:18+00:00   31539\n",
       "5   file  /umms-kdiba/Data/Output/gen_scripts/run_kdiba_gor01_two_2006-6-08_21-16-25  debug_2024-07-12_16-07-17.gl3050.arc-ts.umich.edu.kdiba.gor01.two.2006-6-08_21-16-25.log 2024-07-12 21:04:16+00:00   32732\n",
       "6   file  /umms-kdiba/Data/Output/gen_scripts/run_kdiba_gor01_two_2006-6-09_22-24-40  debug_2024-07-12_16-07-17.gl3050.arc-ts.umich.edu.kdiba.gor01.two.2006-6-09_22-24-40.log 2024-07-12 21:13:12+00:00   31539\n",
       "7   file  /umms-kdiba/Data/Output/gen_scripts/run_kdiba_gor01_two_2006-6-12_16-53-46  debug_2024-07-12_16-07-17.gl3050.arc-ts.umich.edu.kdiba.gor01.two.2006-6-12_16-53-46.log 2024-07-12 20:24:47+00:00   35414\n",
       "14  file      /umms-kdiba/Data/Output/gen_scripts/run_kdiba_pin01_one_11-02_17-46-44      debug_2024-07-12_16-07-07.gl3123.arc-ts.umich.edu.kdiba.pin01.one.11-02_17-46-44.log 2024-07-12 20:39:58+00:00  259006\n",
       "8   file       /umms-kdiba/Data/Output/gen_scripts/run_kdiba_pin01_one_11-02_19-28-0       debug_2024-07-12_16-07-17.gl3127.arc-ts.umich.edu.kdiba.pin01.one.11-02_19-28-0.log 2024-07-12 20:40:35+00:00  168746\n",
       "9   file       /umms-kdiba/Data/Output/gen_scripts/run_kdiba_pin01_one_11-03_12-3-25       debug_2024-07-12_16-07-17.gl3134.arc-ts.umich.edu.kdiba.pin01.one.11-03_12-3-25.log 2024-07-12 20:34:04+00:00  120451\n",
       "10  file   /umms-kdiba/Data/Output/gen_scripts/run_kdiba_pin01_one_fet11-01_12-58-54   debug_2024-07-12_16-07-17.gl3134.arc-ts.umich.edu.kdiba.pin01.one.fet11-01_12-58-54.log 2024-07-12 21:00:19+00:00  144245\n",
       "11  file  /umms-kdiba/Data/Output/gen_scripts/run_kdiba_vvp01_one_2006-4-09_17-29-30  debug_2024-07-12_16-07-11.gl3062.arc-ts.umich.edu.kdiba.vvp01.one.2006-4-09_17-29-30.log 2024-07-12 20:46:07+00:00  151699\n",
       "12  file  /umms-kdiba/Data/Output/gen_scripts/run_kdiba_vvp01_one_2006-4-10_12-25-50  debug_2024-07-12_16-07-11.gl3062.arc-ts.umich.edu.kdiba.vvp01.one.2006-4-10_12-25-50.log 2024-07-12 20:45:08+00:00  160507\n",
       "13  file  /umms-kdiba/Data/Output/gen_scripts/run_kdiba_vvp01_two_2006-4-09_16-40-54  debug_2024-07-12_16-07-11.gl3062.arc-ts.umich.edu.kdiba.vvp01.two.2006-4-09_16-40-54.log 2024-07-12 20:42:00+00:00  161971\n",
       "15  file   /umms-kdiba/Data/Output/gen_scripts/run_kdiba_vvp01_two_2006-4-10_12-58-3   debug_2024-07-12_16-07-07.gl3123.arc-ts.umich.edu.kdiba.vvp01.two.2006-4-10_12-58-3.log 2024-07-12 20:40:20+00:00  189830"
      ]
     },
     "execution_count": 6,
     "metadata": {},
     "output_type": "execute_result"
    }
   ],
   "source": [
    "lab_Greatlakes_gen_scripts = Bookmark(bookmark_id='99efa634-3ead-11ef-888b-2b3122c1d121', name='Greatlakes gen_scripts', endpoint_id='8c185a84-5c61-4bbc-b12b-11430e20010f', path='/umms-kdiba/Data/Output/gen_scripts/')\n",
    "all_log_file_df, most_recent_only_log_file_df = connect_man.get_greatlakes_gen_scripts_log_files(max_num_day_ago=1)\n",
    "most_recent_only_log_file_df"
   ]
  },
  {
   "cell_type": "markdown",
   "metadata": {},
   "source": [
    "## Copy these most recent logs to Apogee"
   ]
  },
  {
   "cell_type": "code",
   "execution_count": 7,
   "metadata": {},
   "outputs": [
    {
     "name": "stdout",
     "output_type": "stream",
     "text": [
      "Submitted transfer task 24f461b0-4094-11ef-888f-2b3122c1d121 with 15 files.\n",
      "because `synchronous_wait == True`, synchronously waiting for 1 tasks to complete:\n",
      "Waiting for task 24f461b0-4094-11ef-888f-2b3122c1d121 to complete...\n",
      "Task 24f461b0-4094-11ef-888f-2b3122c1d121 completed.\n",
      "All transfers completed successfully.\n"
     ]
    },
    {
     "data": {
      "text/plain": [
       "{'24f461b0-4094-11ef-888f-2b3122c1d121': GlobusHTTPResponse({\n",
       "   \"DATA_TYPE\": \"transfer_result\",\n",
       "   \"code\": \"Accepted\",\n",
       "   \"message\": \"The transfer has been accepted and a task has been created and queued for execution\",\n",
       "   \"request_id\": \"zC1SfmnSk\",\n",
       "   \"resource\": \"/transfer\",\n",
       "   \"submission_id\": \"24f461b1-4094-11ef-888f-2b3122c1d121\",\n",
       "   \"task_id\": \"24f461b0-4094-11ef-888f-2b3122c1d121\",\n",
       "   \"task_link\": {\n",
       "     \"DATA_TYPE\": \"link\",\n",
       "     \"href\": \"task/24f461b0-4094-11ef-888f-2b3122c1d121?format=json\",\n",
       "     \"rel\": \"related\",\n",
       "     \"resource\": \"task\",\n",
       "     \"title\": \"related task\"\n",
       "   }\n",
       " })}"
      ]
     },
     "execution_count": 7,
     "metadata": {},
     "output_type": "execute_result"
    }
   ],
   "source": [
    "## INPUTS: most_recent_only_log_file_df\n",
    "apogee_gen_scripts_folder_bookmark = Bookmark(bookmark_id='4f1229fe-3eba-11ef-9637-453c3ae125a5', name='Apogee - gen_scripts', endpoint_id='84991054-07b4-11ed-8d83-a54cf61939f8', path='/K/scratch/gen_scripts/')\n",
    "\n",
    "# r\"F:\\Data\\gen_script_logs\"\n",
    "\n",
    "\n",
    "active_file_paths: List[Path] = [Path(row.parent_path).joinpath(row.name) for row in most_recent_only_log_file_df.itertuples(name='LogFile')]\n",
    "\n",
    "## INPUTS: most_recent_only_log_file_paths\n",
    "\n",
    "src_lines: List[str] = [str(a_line.as_posix()) for a_line in active_file_paths]\n",
    "dest_lines: List[str] = [a_line.replace('/umms-kdiba/Data/Output/gen_scripts/', '/K/scratch/gen_scripts/', 1) for a_line in src_lines]\n",
    "\n",
    "## INPUTS: src_lines, dest_lines, apogee_gen_scripts_folder_bookmark, lab_Greatlakes_gen_scripts\n",
    "endpoint_relative_src_lines = [a_line for a_line in src_lines]\n",
    "endpoint_relative_dest_lines = [a_line for a_line in dest_lines]\n",
    "\n",
    "# ## Async:\n",
    "# _transfer_task = connect_man.batch_transfer_files(source_endpoint=lab_Greatlakes_gen_scripts.endpoint_id, destination_endpoint=apogee_gen_scripts_folder_bookmark.endpoint_id, filelist_source=endpoint_relative_src_lines, filelist_dest=endpoint_relative_dest_lines)\n",
    "# _transfer_task\n",
    "# Synchronously wait for transfer to complete\n",
    "pending_tasks, (completed_tasks, failed_tasks) = connect_man.batch_transfer_files(source_endpoint=lab_Greatlakes_gen_scripts.endpoint_id, destination_endpoint=apogee_gen_scripts_folder_bookmark.endpoint_id,\n",
    "\t\t\t\t\t\t\t\t\t\t\t\t\t\t\t\t\t\t\t\t   filelist_source=endpoint_relative_src_lines, filelist_dest=endpoint_relative_dest_lines,\n",
    "\t\t\t\t\t\t\t\t\t\t\t\t\t\t\t\t\t\t\t\t    synchronous_wait=True, label='GL->Apogee Batch Run Log Files')\n",
    "completed_tasks"
   ]
  },
  {
   "cell_type": "code",
   "execution_count": null,
   "metadata": {},
   "outputs": [],
   "source": []
  },
  {
   "cell_type": "markdown",
   "metadata": {},
   "source": [
    "# 2024-07-10 - Copying Greatlakes Collected Outputs Exported .CSVs"
   ]
  },
  {
   "cell_type": "code",
   "execution_count": 6,
   "metadata": {},
   "outputs": [],
   "source": [
    "\n",
    "\n",
    "top_level_parts_separators = ['-', '__']\n",
    "\n",
    "def get_only_most_recent_output_files(a_file_df: pd.DataFrame) -> pd.DataFrame:\n",
    "    \"\"\" returns a dataframe containing only the most recent '.err' and '.log' file for each session. \n",
    "    \n",
    "    from phoglobushelpers.compatibility_objects.Files import File, FilesystemDataType, FileList, get_only_most_recent_log_files\n",
    "    \n",
    "    \n",
    "    \"\"\"\n",
    "    df = deepcopy(a_file_df)\n",
    "    df['last_modified'] = pd.to_datetime(df['last_modified'])\n",
    "\n",
    "    # Separate .csv and .h5 files\n",
    "    csv_files = df[df['name'].str.endswith('.csv')]\n",
    "    h5_files = df[df['name'].str.endswith('.h5')]\n",
    "\n",
    "    # Get the most recent .err and .log file for each parent_path\n",
    "    most_recent_csv = csv_files.loc[csv_files.groupby('parent_path')['last_modified'].idxmax()]\n",
    "    most_recent_h5 = h5_files.loc[h5_files.groupby('parent_path')['last_modified'].idxmax()]\n",
    "\n",
    "    # Concatenate the results\n",
    "    most_recent_files = pd.concat([most_recent_csv, most_recent_h5]).sort_values(by=['parent_path', 'last_modified'], ascending=[True, False])\n",
    "    return most_recent_files\n",
    "\n",
    "\n",
    "\n",
    "# most_recent_only_csv_file_df = get_only_most_recent_log_files(log_file_df=all_file_df)"
   ]
  },
  {
   "cell_type": "code",
   "execution_count": 8,
   "metadata": {},
   "outputs": [
    {
     "name": "stdout",
     "output_type": "stream",
     "text": [
      "earliest_search_day_date: 2024-07-13\n",
      "WARNING: filter was modified to include \"type:dir\" because `should_list_recursively=True`. Otherwise no subdirectories would be returned.\n"
     ]
    },
    {
     "ename": "TransferAPIError",
     "evalue": "('GET', 'https://transfer.api.globus.org/v0.10/operation/endpoint/8c185a84-5c61-4bbc-b12b-11430e20010f/ls?path=%2Fumms-kdiba%2FData%2FOutput%2Fcollected_outputs%2F&orderby=last_modified+DESC%2Cname&filter=name%3A~%2A.csv&filter=type%3Adir', 'Bearer', 502, 'ExternalError.DirListingFailed.Timeout', 'Command Failed: Error (list)\\nEndpoint: UMich ARC Non-Sensitive Turbo Volume Collection (8c185a84-5c61-4bbc-b12b-11430e20010f)\\nServer: 141.211.212.174:443\\nCommand: MLSC /umms-kdiba/Data/Output/collected_outputs/\\nMessage: The operation timed out\\n---\\nDetails: Timeout waiting for response\\n', 'CczR8jMV4')",
     "output_type": "error",
     "traceback": [
      "\u001b[1;31m---------------------------------------------------------------------------\u001b[0m",
      "\u001b[1;31mTransferAPIError\u001b[0m                          Traceback (most recent call last)",
      "\u001b[1;32mc:\\Users\\pho\\repos\\PhoGlobusHelpers\\notebooks\\greatlakes_file_transfers_notebook.ipynb Cell 16\u001b[0m line \u001b[0;36m3\n\u001b[0;32m      <a href='vscode-notebook-cell:/c%3A/Users/pho/repos/PhoGlobusHelpers/notebooks/greatlakes_file_transfers_notebook.ipynb#X21sZmlsZQ%3D%3D?line=0'>1</a>\u001b[0m \u001b[39m# lab_Turbo_collected_outputs_bookmark = Bookmark(bookmark_id='91181e28-f90d-11ee-9222-472b0fe4395a', name='KDIBA Lab Turbo - collected_outputs', endpoint_id='8c185a84-5c61-4bbc-b12b-11430e20010f', path='/umms-kdiba/Data/Output/collected_outputs/')\u001b[39;00m\n\u001b[0;32m      <a href='vscode-notebook-cell:/c%3A/Users/pho/repos/PhoGlobusHelpers/notebooks/greatlakes_file_transfers_notebook.ipynb#X21sZmlsZQ%3D%3D?line=1'>2</a>\u001b[0m \u001b[39m# all_file_df: pd.DataFrame = connect_man.get_greatlakes_collected_outputs_files(max_num_day_ago=1, filter=\"name:~*.csv,~*.h5\")\u001b[39;00m\n\u001b[1;32m----> <a href='vscode-notebook-cell:/c%3A/Users/pho/repos/PhoGlobusHelpers/notebooks/greatlakes_file_transfers_notebook.ipynb#X21sZmlsZQ%3D%3D?line=2'>3</a>\u001b[0m all_file_df: pd\u001b[39m.\u001b[39mDataFrame \u001b[39m=\u001b[39m connect_man\u001b[39m.\u001b[39;49mget_greatlakes_collected_outputs_files(max_num_day_ago\u001b[39m=\u001b[39;49m\u001b[39m2\u001b[39;49m, \u001b[39mfilter\u001b[39;49m\u001b[39m=\u001b[39;49m\u001b[39m\"\u001b[39;49m\u001b[39mname:~*.csv\u001b[39;49m\u001b[39m\"\u001b[39;49m)\n\u001b[0;32m      <a href='vscode-notebook-cell:/c%3A/Users/pho/repos/PhoGlobusHelpers/notebooks/greatlakes_file_transfers_notebook.ipynb#X21sZmlsZQ%3D%3D?line=3'>4</a>\u001b[0m all_file_df\n",
      "File \u001b[1;32m~\\repos\\PhoGlobusHelpers\\src\\phoglobushelpers\\PhoGlobusHelper.py:385\u001b[0m, in \u001b[0;36mGlobusConnector.get_greatlakes_collected_outputs_files\u001b[1;34m(self, max_num_day_ago, start_date, filter)\u001b[0m\n\u001b[0;32m    383\u001b[0m lab_Turbo_collected_outputs_bookmark \u001b[39m=\u001b[39m Bookmark(bookmark_id\u001b[39m=\u001b[39m\u001b[39m'\u001b[39m\u001b[39m91181e28-f90d-11ee-9222-472b0fe4395a\u001b[39m\u001b[39m'\u001b[39m, name\u001b[39m=\u001b[39m\u001b[39m'\u001b[39m\u001b[39mKDIBA Lab Turbo - collected_outputs\u001b[39m\u001b[39m'\u001b[39m, endpoint_id\u001b[39m=\u001b[39m\u001b[39m'\u001b[39m\u001b[39m8c185a84-5c61-4bbc-b12b-11430e20010f\u001b[39m\u001b[39m'\u001b[39m, path\u001b[39m=\u001b[39m\u001b[39m'\u001b[39m\u001b[39m/umms-kdiba/Data/Output/collected_outputs/\u001b[39m\u001b[39m'\u001b[39m)\n\u001b[0;32m    384\u001b[0m lab_Greatlakes_gen_scripts \u001b[39m=\u001b[39m Bookmark(bookmark_id\u001b[39m=\u001b[39m\u001b[39m'\u001b[39m\u001b[39m99efa634-3ead-11ef-888b-2b3122c1d121\u001b[39m\u001b[39m'\u001b[39m, name\u001b[39m=\u001b[39m\u001b[39m'\u001b[39m\u001b[39mGreatlakes gen_scripts\u001b[39m\u001b[39m'\u001b[39m, endpoint_id\u001b[39m=\u001b[39m\u001b[39m'\u001b[39m\u001b[39m8c185a84-5c61-4bbc-b12b-11430e20010f\u001b[39m\u001b[39m'\u001b[39m, path\u001b[39m=\u001b[39m\u001b[39m'\u001b[39m\u001b[39m/umms-kdiba/Data/Output/gen_scripts/\u001b[39m\u001b[39m'\u001b[39m)\n\u001b[1;32m--> 385\u001b[0m file_list: FileList \u001b[39m=\u001b[39m \u001b[39mself\u001b[39;49m\u001b[39m.\u001b[39;49mlist_files(endpoint\u001b[39m=\u001b[39;49mlab_Turbo_collected_outputs_bookmark\u001b[39m.\u001b[39;49mendpoint_id, path\u001b[39m=\u001b[39;49mlab_Turbo_collected_outputs_bookmark\u001b[39m.\u001b[39;49mpath, start_date\u001b[39m=\u001b[39;49mstart_date, end_date\u001b[39m=\u001b[39;49m\u001b[39mNone\u001b[39;49;00m, should_list_recursively\u001b[39m=\u001b[39;49m\u001b[39mTrue\u001b[39;49;00m, max_depth\u001b[39m=\u001b[39;49m\u001b[39m2\u001b[39;49m, \u001b[39mfilter\u001b[39;49m\u001b[39m=\u001b[39;49m\u001b[39mfilter\u001b[39;49m)\n\u001b[0;32m    386\u001b[0m all_file_df: pd\u001b[39m.\u001b[39mDataFrame \u001b[39m=\u001b[39m file_list\u001b[39m.\u001b[39mto_dataframe() \u001b[39m#.columns\u001b[39;00m\n\u001b[0;32m    388\u001b[0m \u001b[39m# most_recent_only_file_df = get_only_most_recent_log_files(log_file_df=all_file_df)\u001b[39;00m\n",
      "File \u001b[1;32m~\\repos\\PhoGlobusHelpers\\src\\phoglobushelpers\\PhoGlobusHelper.py:273\u001b[0m, in \u001b[0;36mGlobusConnector.list_files\u001b[1;34m(self, endpoint, path, start_date, end_date, should_list_recursively, max_depth, _current_depth, filter)\u001b[0m\n\u001b[0;32m    270\u001b[0m transfer_client: TransferClient \u001b[39m=\u001b[39m \u001b[39mself\u001b[39m\u001b[39m.\u001b[39mtransfer_client\n\u001b[0;32m    272\u001b[0m \u001b[39mtry\u001b[39;00m:\n\u001b[1;32m--> 273\u001b[0m     response_dict \u001b[39m=\u001b[39m transfer_client\u001b[39m.\u001b[39;49moperation_ls(\n\u001b[0;32m    274\u001b[0m         endpoint_id\u001b[39m=\u001b[39;49mendpoint,\n\u001b[0;32m    275\u001b[0m         path\u001b[39m=\u001b[39;49mpath,\n\u001b[0;32m    276\u001b[0m         orderby\u001b[39m=\u001b[39;49m[\u001b[39m\"\u001b[39;49m\u001b[39mlast_modified DESC\u001b[39;49m\u001b[39m\"\u001b[39;49m, \u001b[39m\"\u001b[39;49m\u001b[39mname\u001b[39;49m\u001b[39m\"\u001b[39;49m],\n\u001b[0;32m    277\u001b[0m         \u001b[39m# orderby=[\"last_modified\", \"name\"],\u001b[39;49;00m\n\u001b[0;32m    278\u001b[0m         \u001b[39m# orderby=[\"type\", \"name\"],\u001b[39;49;00m\n\u001b[0;32m    279\u001b[0m         \u001b[39mfilter\u001b[39;49m\u001b[39m=\u001b[39;49m\u001b[39mfilter\u001b[39;49m\n\u001b[0;32m    280\u001b[0m     )\n\u001b[0;32m    281\u001b[0m \u001b[39mexcept\u001b[39;00m globus_sdk\u001b[39m.\u001b[39mTransferAPIError \u001b[39mas\u001b[39;00m err:\n\u001b[0;32m    282\u001b[0m     \u001b[39mif\u001b[39;00m \u001b[39mnot\u001b[39;00m err\u001b[39m.\u001b[39minfo\u001b[39m.\u001b[39mconsent_required:\n",
      "File \u001b[1;32mk:\\FastSwap\\Environments\\pypoetry\\pypoetry\\Cache\\virtualenvs\\phoglobushelpers-IN_mbgpd-py3.11\\Lib\\site-packages\\globus_sdk\\services\\transfer\\client.py:1304\u001b[0m, in \u001b[0;36mTransferClient.operation_ls\u001b[1;34m(self, endpoint_id, path, show_hidden, orderby, filter, local_user, query_params)\u001b[0m\n\u001b[0;32m   1300\u001b[0m     query_params[\u001b[39m\"\u001b[39m\u001b[39mlocal_user\u001b[39m\u001b[39m\"\u001b[39m] \u001b[39m=\u001b[39m local_user\n\u001b[0;32m   1302\u001b[0m log\u001b[39m.\u001b[39minfo(\u001b[39mf\u001b[39m\u001b[39m\"\u001b[39m\u001b[39mTransferClient.operation_ls(\u001b[39m\u001b[39m{\u001b[39;00mendpoint_id\u001b[39m}\u001b[39;00m\u001b[39m, \u001b[39m\u001b[39m{\u001b[39;00mquery_params\u001b[39m}\u001b[39;00m\u001b[39m)\u001b[39m\u001b[39m\"\u001b[39m)\n\u001b[0;32m   1303\u001b[0m \u001b[39mreturn\u001b[39;00m IterableTransferResponse(\n\u001b[1;32m-> 1304\u001b[0m     \u001b[39mself\u001b[39;49m\u001b[39m.\u001b[39;49mget(\u001b[39mf\u001b[39;49m\u001b[39m\"\u001b[39;49m\u001b[39moperation/endpoint/\u001b[39;49m\u001b[39m{\u001b[39;49;00mendpoint_id\u001b[39m}\u001b[39;49;00m\u001b[39m/ls\u001b[39;49m\u001b[39m\"\u001b[39;49m, query_params\u001b[39m=\u001b[39;49mquery_params)\n\u001b[0;32m   1305\u001b[0m )\n",
      "File \u001b[1;32mk:\\FastSwap\\Environments\\pypoetry\\pypoetry\\Cache\\virtualenvs\\phoglobushelpers-IN_mbgpd-py3.11\\Lib\\site-packages\\globus_sdk\\client.py:146\u001b[0m, in \u001b[0;36mBaseClient.get\u001b[1;34m(self, path, query_params, headers)\u001b[0m\n\u001b[0;32m    137\u001b[0m \u001b[39m\u001b[39m\u001b[39m\"\"\"\u001b[39;00m\n\u001b[0;32m    138\u001b[0m \u001b[39mMake a GET request to the specified path.\u001b[39;00m\n\u001b[0;32m    139\u001b[0m \n\u001b[1;32m   (...)\u001b[0m\n\u001b[0;32m    143\u001b[0m \u001b[39m<globus_sdk.response.GlobusHTTPResponse>` object\u001b[39;00m\n\u001b[0;32m    144\u001b[0m \u001b[39m\"\"\"\u001b[39;00m\n\u001b[0;32m    145\u001b[0m log\u001b[39m.\u001b[39mdebug(\u001b[39mf\u001b[39m\u001b[39m\"\u001b[39m\u001b[39mGET to \u001b[39m\u001b[39m{\u001b[39;00mpath\u001b[39m}\u001b[39;00m\u001b[39m with query_params \u001b[39m\u001b[39m{\u001b[39;00mquery_params\u001b[39m}\u001b[39;00m\u001b[39m\"\u001b[39m)\n\u001b[1;32m--> 146\u001b[0m \u001b[39mreturn\u001b[39;00m \u001b[39mself\u001b[39;49m\u001b[39m.\u001b[39;49mrequest(\u001b[39m\"\u001b[39;49m\u001b[39mGET\u001b[39;49m\u001b[39m\"\u001b[39;49m, path, query_params\u001b[39m=\u001b[39;49mquery_params, headers\u001b[39m=\u001b[39;49mheaders)\n",
      "File \u001b[1;32mk:\\FastSwap\\Environments\\pypoetry\\pypoetry\\Cache\\virtualenvs\\phoglobushelpers-IN_mbgpd-py3.11\\Lib\\site-packages\\globus_sdk\\client.py:321\u001b[0m, in \u001b[0;36mBaseClient.request\u001b[1;34m(self, method, path, query_params, data, headers, encoding, allow_redirects, stream)\u001b[0m\n\u001b[0;32m    318\u001b[0m     \u001b[39mreturn\u001b[39;00m GlobusHTTPResponse(r, \u001b[39mself\u001b[39m)\n\u001b[0;32m    320\u001b[0m log\u001b[39m.\u001b[39mdebug(\u001b[39mf\u001b[39m\u001b[39m\"\u001b[39m\u001b[39mrequest completed with (error) response code: \u001b[39m\u001b[39m{\u001b[39;00mr\u001b[39m.\u001b[39mstatus_code\u001b[39m}\u001b[39;00m\u001b[39m\"\u001b[39m)\n\u001b[1;32m--> 321\u001b[0m \u001b[39mraise\u001b[39;00m \u001b[39mself\u001b[39m\u001b[39m.\u001b[39merror_class(r)\n",
      "\u001b[1;31mTransferAPIError\u001b[0m: ('GET', 'https://transfer.api.globus.org/v0.10/operation/endpoint/8c185a84-5c61-4bbc-b12b-11430e20010f/ls?path=%2Fumms-kdiba%2FData%2FOutput%2Fcollected_outputs%2F&orderby=last_modified+DESC%2Cname&filter=name%3A~%2A.csv&filter=type%3Adir', 'Bearer', 502, 'ExternalError.DirListingFailed.Timeout', 'Command Failed: Error (list)\\nEndpoint: UMich ARC Non-Sensitive Turbo Volume Collection (8c185a84-5c61-4bbc-b12b-11430e20010f)\\nServer: 141.211.212.174:443\\nCommand: MLSC /umms-kdiba/Data/Output/collected_outputs/\\nMessage: The operation timed out\\n---\\nDetails: Timeout waiting for response\\n', 'CczR8jMV4')"
     ]
    }
   ],
   "source": [
    "# lab_Turbo_collected_outputs_bookmark = Bookmark(bookmark_id='91181e28-f90d-11ee-9222-472b0fe4395a', name='KDIBA Lab Turbo - collected_outputs', endpoint_id='8c185a84-5c61-4bbc-b12b-11430e20010f', path='/umms-kdiba/Data/Output/collected_outputs/')\n",
    "# all_file_df: pd.DataFrame = connect_man.get_greatlakes_collected_outputs_files(max_num_day_ago=1, filter=\"name:~*.csv,~*.h5\")\n",
    "all_file_df: pd.DataFrame = connect_man.get_greatlakes_collected_outputs_files(max_num_day_ago=2, filter=\"name:~*.csv\")\n",
    "all_file_df"
   ]
  },
  {
   "cell_type": "code",
   "execution_count": null,
   "metadata": {},
   "outputs": [],
   "source": [
    "outputs_folder = Path('../EXTERNAL/outputs').resolve()\n",
    "outputs_folder.mkdir(parents=True, exist_ok=True)\n",
    "day_date = '2024-07-15'\n",
    "csv_out_path = outputs_folder.joinpath(f'{day_date}_greatlakes_collected_outputs_csv_files.csv').resolve()\n",
    "# all_file_df.to_csv('greatlakes_collected_outputs_files.csv')\n",
    "all_file_df.to_csv(csv_out_path)"
   ]
  },
  {
   "cell_type": "markdown",
   "metadata": {},
   "source": [
    "## Copy these most recent files to Apogee"
   ]
  },
  {
   "cell_type": "code",
   "execution_count": 9,
   "metadata": {},
   "outputs": [
    {
     "ename": "NameError",
     "evalue": "name 'all_file_df' is not defined",
     "output_type": "error",
     "traceback": [
      "\u001b[1;31m---------------------------------------------------------------------------\u001b[0m",
      "\u001b[1;31mNameError\u001b[0m                                 Traceback (most recent call last)",
      "\u001b[1;32mc:\\Users\\pho\\repos\\PhoGlobusHelpers\\notebooks\\greatlakes_file_transfers_notebook.ipynb Cell 19\u001b[0m line \u001b[0;36m2\n\u001b[0;32m     <a href='vscode-notebook-cell:/c%3A/Users/pho/repos/PhoGlobusHelpers/notebooks/greatlakes_file_transfers_notebook.ipynb#X24sZmlsZQ%3D%3D?line=21'>22</a>\u001b[0m \u001b[39m## rMBP\u001b[39;00m\n\u001b[0;32m     <a href='vscode-notebook-cell:/c%3A/Users/pho/repos/PhoGlobusHelpers/notebooks/greatlakes_file_transfers_notebook.ipynb#X24sZmlsZQ%3D%3D?line=22'>23</a>\u001b[0m collected_outputs_GL_to_rMBP \u001b[39m=\u001b[39m TransferRequest(source_endpoint\u001b[39m=\u001b[39mlab_Turbo_collected_outputs_bookmark, source_endpoint_path\u001b[39m=\u001b[39m\u001b[39m'\u001b[39m\u001b[39m/umms-kdiba/Data/Output/collected_outputs/\u001b[39m\u001b[39m'\u001b[39m,\n\u001b[0;32m     <a href='vscode-notebook-cell:/c%3A/Users/pho/repos/PhoGlobusHelpers/notebooks/greatlakes_file_transfers_notebook.ipynb#X24sZmlsZQ%3D%3D?line=23'>24</a>\u001b[0m \t\t\t\tdest_endpoint\u001b[39m=\u001b[39mrMBP_collected_outputs, dest_path_root\u001b[39m=\u001b[39m\u001b[39m'\u001b[39m\u001b[39m/home/halechr/data/collected_outputs/\u001b[39m\u001b[39m'\u001b[39m,\n\u001b[0;32m     <a href='vscode-notebook-cell:/c%3A/Users/pho/repos/PhoGlobusHelpers/notebooks/greatlakes_file_transfers_notebook.ipynb#X24sZmlsZQ%3D%3D?line=24'>25</a>\u001b[0m \t\t\t\ttransfer_label\u001b[39m=\u001b[39m\u001b[39m'\u001b[39m\u001b[39mGL->rMBP Collected Outputs Files\u001b[39m\u001b[39m'\u001b[39m)\n\u001b[1;32m---> <a href='vscode-notebook-cell:/c%3A/Users/pho/repos/PhoGlobusHelpers/notebooks/greatlakes_file_transfers_notebook.ipynb#X24sZmlsZQ%3D%3D?line=27'>28</a>\u001b[0m active_file_df: pd\u001b[39m.\u001b[39mDataFrame \u001b[39m=\u001b[39m deepcopy(all_file_df)\n\u001b[0;32m     <a href='vscode-notebook-cell:/c%3A/Users/pho/repos/PhoGlobusHelpers/notebooks/greatlakes_file_transfers_notebook.ipynb#X24sZmlsZQ%3D%3D?line=28'>29</a>\u001b[0m connect_man\u001b[39m.\u001b[39mperform_copy_files(active_file_df\u001b[39m=\u001b[39mactive_file_df, transfer\u001b[39m=\u001b[39mcollected_outputs_GL_to_Apogee, synchronous_wait\u001b[39m=\u001b[39m\u001b[39mFalse\u001b[39;00m)\n\u001b[0;32m     <a href='vscode-notebook-cell:/c%3A/Users/pho/repos/PhoGlobusHelpers/notebooks/greatlakes_file_transfers_notebook.ipynb#X24sZmlsZQ%3D%3D?line=29'>30</a>\u001b[0m \u001b[39m# connect_man.perform_copy_files(active_file_df=active_file_df, transfer=collected_outputs_GL_to_Lab, synchronous_wait=False)\u001b[39;00m\n\u001b[0;32m     <a href='vscode-notebook-cell:/c%3A/Users/pho/repos/PhoGlobusHelpers/notebooks/greatlakes_file_transfers_notebook.ipynb#X24sZmlsZQ%3D%3D?line=30'>31</a>\u001b[0m \u001b[39m# connect_man.perform_copy_files(active_file_df=active_file_df, transfer=collected_outputs_GL_to_rMBP, synchronous_wait=False)\u001b[39;00m\n",
      "\u001b[1;31mNameError\u001b[0m: name 'all_file_df' is not defined"
     ]
    }
   ],
   "source": [
    "from phoglobushelpers.PhoGlobusHelper import TransferRequest\n",
    "\n",
    "## Common\n",
    "source_endpoint = lab_Turbo_collected_outputs_bookmark\n",
    "source_endpoint_path = '/umms-kdiba/Data/Output/collected_outputs/'\n",
    "\n",
    "## Apogee:\n",
    "collected_outputs_GL_to_Apogee = TransferRequest(source_endpoint=lab_Turbo_collected_outputs_bookmark, source_endpoint_path='/umms-kdiba/Data/Output/collected_outputs/',\n",
    "\t\t\t\tdest_endpoint=apogee_collected_outputs_folder_bookmark, dest_path_root='/K/scratch/collected_outputs/',\n",
    "\t\t\t\ttransfer_label='GL->Apogee Collected Outputs Files')\n",
    "\n",
    "\n",
    "## Lab\n",
    "# new_path_root = '/home/halechr/FastData/collected_outputs/'\n",
    "# dest_endpoint = lab_RDLU0039_CollectedOutputs \n",
    "# transfer_label = 'GL->Lab Collected Outputs Files'\n",
    "collected_outputs_GL_to_Lab = TransferRequest(source_endpoint=lab_Turbo_collected_outputs_bookmark, source_endpoint_path='/umms-kdiba/Data/Output/collected_outputs/',\n",
    "\t\t\t\tdest_endpoint=lab_RDLU0039_CollectedOutputs, dest_path_root='/home/halechr/FastData/collected_outputs/',\n",
    "\t\t\t\ttransfer_label='GL->Lab Collected Outputs Files')\n",
    "\n",
    "\n",
    "## rMBP\n",
    "collected_outputs_GL_to_rMBP = TransferRequest(source_endpoint=lab_Turbo_collected_outputs_bookmark, source_endpoint_path='/umms-kdiba/Data/Output/collected_outputs/',\n",
    "\t\t\t\tdest_endpoint=rMBP_collected_outputs, dest_path_root='/home/halechr/data/collected_outputs/',\n",
    "\t\t\t\ttransfer_label='GL->rMBP Collected Outputs Files')\n",
    "\n",
    "\n",
    "active_file_df: pd.DataFrame = deepcopy(all_file_df)\n",
    "connect_man.perform_copy_files(active_file_df=active_file_df, transfer=collected_outputs_GL_to_Apogee, synchronous_wait=False)\n",
    "# connect_man.perform_copy_files(active_file_df=active_file_df, transfer=collected_outputs_GL_to_Lab, synchronous_wait=False)\n",
    "# connect_man.perform_copy_files(active_file_df=active_file_df, transfer=collected_outputs_GL_to_rMBP, synchronous_wait=False)\n"
   ]
  },
  {
   "cell_type": "code",
   "execution_count": null,
   "metadata": {},
   "outputs": [],
   "source": []
  }
 ],
 "metadata": {
  "kernelspec": {
   "display_name": "phoglobushelpers-0Z77HMOj-py3.11",
   "language": "python",
   "name": "python3"
  },
  "language_info": {
   "codemirror_mode": {
    "name": "ipython",
    "version": 3
   },
   "file_extension": ".py",
   "mimetype": "text/x-python",
   "name": "python",
   "nbconvert_exporter": "python",
   "pygments_lexer": "ipython3",
   "version": "3.11.9"
  },
  "orig_nbformat": 4
 },
 "nbformat": 4,
 "nbformat_minor": 2
}
