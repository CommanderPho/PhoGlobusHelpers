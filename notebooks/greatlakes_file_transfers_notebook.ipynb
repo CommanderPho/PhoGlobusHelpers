{
 "cells": [
  {
   "cell_type": "code",
   "execution_count": 1,
   "metadata": {
    "notebookRunGroups": {
     "groupValue": "1"
    }
   },
   "outputs": [
    {
     "name": "stdout",
     "output_type": "stream",
     "text": [
      "Automatic pdb calling has been turned OFF\n"
     ]
    }
   ],
   "source": [
    "%config IPCompleter.use_jedi = False\n",
    "%pdb off\n",
    "# %load_ext viztracer\n",
    "# from viztracer import VizTracer\n",
    "%load_ext autoreload\n",
    "%autoreload 3\n",
    "import sys\n",
    "from copy import deepcopy\n",
    "from pathlib import Path\n",
    "import os\n",
    "from datetime import datetime, date, timedelta\n",
    "from typing import Any, List, Dict, Union, Tuple\n",
    "import pandas as pd\n",
    "\n",
    "## Enable full-width pandas dataframe columns so the paths and filenames always fit\n",
    "pd.set_option('display.max_colwidth', None)\n",
    "pd.set_option('display.expand_frame_repr', False)\n",
    "# /umms-kdiba/Data/Output/gen_scripts/\n",
    "\n",
    "import globus_sdk\n",
    "from globus_sdk import AccessTokenAuthorizer, TransferClient, TransferData\n",
    "from globus_sdk.scopes import TransferScopes\n",
    "from attrs import define, field, Factory\n",
    "\n",
    "from phoglobushelpers.PhoGlobusHelper import GlobusConnector, KnownEndpoints\n",
    "from phoglobushelpers.compatibility_objects.Bookmarks import Bookmark, BookmarkList\n",
    "from phoglobushelpers.compatibility_objects.Files import File, FilesystemDataType, FileList\n",
    "from phoglobushelpers.compatibility_objects.Tasks import FatalError, Task, TaskList\n",
    "from phoglobushelpers.PhoGlobusHelper import TransferRequest"
   ]
  },
  {
   "cell_type": "code",
   "execution_count": null,
   "metadata": {
    "notebookRunGroups": {
     "groupValue": "1"
    }
   },
   "outputs": [],
   "source": [
    "connect_man = GlobusConnector.login_and_get_transfer_client()\n",
    "transfer_client = connect_man.transfer_client\n",
    "connect_man.list_endpoints()\n"
   ]
  },
  {
   "cell_type": "markdown",
   "metadata": {},
   "source": [
    "# Tasks"
   ]
  },
  {
   "cell_type": "code",
   "execution_count": null,
   "metadata": {},
   "outputs": [],
   "source": [
    "task_id = \"a5bba88c-fba0-11ee-9063-1f4fee4027cc\""
   ]
  },
  {
   "cell_type": "code",
   "execution_count": null,
   "metadata": {},
   "outputs": [],
   "source": [
    "tasks_list = connect_man.get_tasks()\n",
    "tasks_list_df: pd.DataFrame = tasks_list.to_dataframe()\n",
    "tasks_list_df"
   ]
  },
  {
   "cell_type": "code",
   "execution_count": null,
   "metadata": {},
   "outputs": [],
   "source": [
    "tasks_list_df"
   ]
  },
  {
   "cell_type": "code",
   "execution_count": null,
   "metadata": {},
   "outputs": [],
   "source": [
    "tasks_list_df[tasks_list_df['task_id'] == 'e3b0ee8a-9d4a-11ef-9b69-8fdec6a61c4f']"
   ]
  },
  {
   "cell_type": "markdown",
   "metadata": {},
   "source": [
    "# Bookmarks"
   ]
  },
  {
   "cell_type": "code",
   "execution_count": null,
   "metadata": {
    "notebookRunGroups": {
     "groupValue": "2"
    }
   },
   "outputs": [],
   "source": [
    "bookmark_list = connect_man.get_bookmarks()\n",
    "display(bookmark_list.DATA)\n",
    "\n",
    "lab_Turbo_data_folder_bookmark = Bookmark(bookmark_id='728fb3e8-2597-11ee-80c2-a3018385fcef', name='KDIBA Lab Turbo - Data Global Root Folder', endpoint_id='8c185a84-5c61-4bbc-b12b-11430e20010f', path='/umms-kdiba/Data/')\n",
    "lab_DataDen_data_folder_bookmark = Bookmark(bookmark_id='431c951e-96c6-11ed-9b93-19370d280681', name='kdiba DataDen Data', endpoint_id='ab65757f-00f5-4e5b-aa21-133187732a01', path='/umms-dibalab/Data/')\n",
    "\n",
    "lab_Turbo_collected_outputs_bookmark = Bookmark(bookmark_id='91181e28-f90d-11ee-9222-472b0fe4395a', name='KDIBA Lab Turbo - collected_outputs', endpoint_id='8c185a84-5c61-4bbc-b12b-11430e20010f', path='/umms-kdiba/Data/Output/collected_outputs/')\n",
    "\n",
    "# Figure Outputs:\n",
    "lab_Greatlakes_ProgrammaticDisplayFunctionTesting_bookmark = Bookmark(bookmark_id='f479daf4-2039-11ee-80bc-a3018385fcef', name='umich#greatlakes - ProgrammaticDisplayFunctionTesting', endpoint_id='454f457e-a41b-4807-8775-d132f15a228f', path='/home/halechr/repos/Spike3D/EXTERNAL/Screenshots/ProgrammaticDisplayFunctionTesting/')\n",
    "lab_LNX00052_Fedora_ProgrammaticDisplayFunctionTesting_bookmark = Bookmark(bookmark_id='af68b1ea-20c7-11ee-818f-195c41bc0be4', name='LNX00052_Fedora - ProgrammaticDisplayFunctionTesting', endpoint_id='af3fcfce-f664-11ed-9a7d-83ef71fbf0ae', path='/home/halechr/repo/Spike3D/EXTERNAL/Screenshots/ProgrammaticDisplayFunctionTesting/')\n",
    "\n",
    "## Apogee:\n",
    "home_Apogee_ProgrammaticDisplayFunctionTesting_bookmark = Bookmark(bookmark_id='1c725da6-203a-11ee-80bc-a3018385fcef', name='Apogee - ProgrammaticDisplayFunctionTesting', endpoint_id='84991054-07b4-11ed-8d83-a54cf61939f8', path='/C/Users/pho/repos/Spike3DWorkEnv/Spike3D/EXTERNAL/Screenshots/ProgrammaticDisplayFunctionTesting/')\n",
    "apogee_collected_outputs_folder_bookmark = Bookmark(bookmark_id='965ffa0e-f90d-11ee-9222-472b0fe4395a', name='Apogee - K - collected_outputs', endpoint_id='84991054-07b4-11ed-8d83-a54cf61939f8', path='/K/scratch/collected_outputs/')\n",
    "\n",
    "## `gen_scripts` folders:\n",
    "apogee_gen_scripts_folder_bookmark = Bookmark(bookmark_id='4f1229fe-3eba-11ef-9637-453c3ae125a5', name='Apogee - gen_scripts', endpoint_id='84991054-07b4-11ed-8d83-a54cf61939f8', path='/K/scratch/gen_scripts/')\n",
    "lab_Greatlakes_gen_scripts = Bookmark(bookmark_id='99efa634-3ead-11ef-888b-2b3122c1d121', name='Greatlakes gen_scripts', endpoint_id='8c185a84-5c61-4bbc-b12b-11430e20010f', path='/umms-kdiba/Data/Output/gen_scripts/')\n",
    "# lab_Greatlakes_gen_scripts, apogee_gen_scripts_folder_bookmark\n",
    "\n",
    "lab_RDLU0039_CollectedOutputs = Bookmark(bookmark_id='2cd4df1e-3f94-11ef-9638-453c3ae125a5', name='RDLU0039_DibaLabWorkstation - Collected Outputs', endpoint_id='cee0aaec-3e3b-11ef-9637-453c3ae125a5', path='/home/halechr/FastData/collected_outputs/')\n",
    "lab_RDLU0039_data = Bookmark(bookmark_id='20d34336-3f94-11ef-9638-453c3ae125a5', name='RDLU0039_DibaLabWorkstation - FastData', endpoint_id='cee0aaec-3e3b-11ef-9637-453c3ae125a5', path='/home/halechr/FastData/')\n",
    "lab_RDLU0039_gen_scripts = Bookmark(bookmark_id='295f306c-3f96-11ef-888b-2b3122c1d121', name='RDLU0039_DibaLabWorkstation - gen_scripts', endpoint_id='cee0aaec-3e3b-11ef-9637-453c3ae125a5', path='/home/halechr/FastData/gen_scripts/')\n",
    "\n",
    "rMBP_collected_outputs = Bookmark(bookmark_id='ec5514de-3f9f-11ef-b849-1dd816fe311b', name='Pho Personal Laptop - collected_outputs', endpoint_id='20c84240-1eb1-11eb-81b7-0e2f230cc907', path='/Users/pho/data/collected_outputs/')\n",
    "rMBP_gen_scripts = Bookmark(bookmark_id='2d8a8110-43af-11ef-b84e-1dd816fe311b', name='Pho Personal Laptop - gen_scripts', endpoint_id='20c84240-1eb1-11eb-81b7-0e2f230cc907', path='/Users/pho/data/gen_scripts/')\n",
    "rMBP_data_folder = Bookmark(bookmark_id='e44c77aa-3f9f-11ef-b849-1dd816fe311b', name='Pho Personal Laptop - Data', endpoint_id='20c84240-1eb1-11eb-81b7-0e2f230cc907', path='/Users/pho/data/')\n",
    " \n",
    "## OUTPUTS: lab_Turbo_data_folder_bookmark, lab_DataDen_data_folder_bookmark, lab_Greatlakes_gen_scripts, apogee_gen_scripts_folder_bookmark, apogee_collected_outputs_folder_bookmark\n",
    "\n"
   ]
  },
  {
   "cell_type": "markdown",
   "metadata": {},
   "source": [
    "# 2024-07-10 - Pulling Greatlakes Batch Run Logs"
   ]
  },
  {
   "cell_type": "code",
   "execution_count": null,
   "metadata": {},
   "outputs": [],
   "source": [
    "lab_Greatlakes_gen_scripts = Bookmark(bookmark_id='99efa634-3ead-11ef-888b-2b3122c1d121', name='Greatlakes gen_scripts', endpoint_id='8c185a84-5c61-4bbc-b12b-11430e20010f', path='/umms-kdiba/Data/Output/gen_scripts/')\n",
    "all_log_file_df, most_recent_only_log_file_df = connect_man.get_greatlakes_gen_scripts_log_files(max_num_day_ago=1)\n",
    "most_recent_only_log_file_df"
   ]
  },
  {
   "cell_type": "markdown",
   "metadata": {},
   "source": [
    "## Copy these most recent logs to the desired endpoint"
   ]
  },
  {
   "cell_type": "code",
   "execution_count": null,
   "metadata": {},
   "outputs": [],
   "source": [
    "## Apogee:\n",
    "gen_scripts_GL_to_Apogee = TransferRequest(source_endpoint=lab_Greatlakes_gen_scripts,\n",
    "\t\t\t\tdest_endpoint=apogee_gen_scripts_folder_bookmark,\n",
    "\t\t\t\ttransfer_label='GL->Apogee gen_scripts log Files')\n",
    "\n",
    "## Lab\n",
    "gen_scripts_GL_to_Lab = TransferRequest(source_endpoint=lab_Greatlakes_gen_scripts,\n",
    "\t\t\t\tdest_endpoint=lab_RDLU0039_gen_scripts,\n",
    "\t\t\t\ttransfer_label='GL->Lab gen_scripts log Files')\n",
    "\n",
    "\n",
    "## rMBP\n",
    "gen_scripts_GL_to_rMBP = TransferRequest(source_endpoint=lab_Greatlakes_gen_scripts,\n",
    "\t\t\t\tdest_endpoint=rMBP_gen_scripts,\n",
    "\t\t\t\ttransfer_label='GL->rMBP gen_scripts log Files')\n",
    "\n",
    "\n",
    "## INPUTS: most_recent_only_log_file_df\n",
    "active_file_df: pd.DataFrame = deepcopy(most_recent_only_log_file_df)\n",
    "connect_man.perform_copy_files(active_file_df=active_file_df, transfer=gen_scripts_GL_to_Apogee, synchronous_wait=False)\n",
    "# connect_man.perform_copy_files(active_file_df=active_file_df, transfer=gen_scripts_GL_to_Lab, synchronous_wait=False)\n",
    "# connect_man.perform_copy_files(active_file_df=active_file_df, transfer=gen_scripts_GL_to_rMBP, synchronous_wait=False)"
   ]
  },
  {
   "cell_type": "markdown",
   "metadata": {},
   "source": [
    "# 2024-07-10 - Copying Greatlakes Collected Outputs Exported .CSVs"
   ]
  },
  {
   "cell_type": "code",
   "execution_count": null,
   "metadata": {},
   "outputs": [],
   "source": [
    "\n",
    "\n",
    "top_level_parts_separators = ['-', '__']\n",
    "\n",
    "def get_only_most_recent_output_files(a_file_df: pd.DataFrame) -> pd.DataFrame:\n",
    "    \"\"\" returns a dataframe containing only the most recent '.err' and '.log' file for each session. \n",
    "    \n",
    "    from phoglobushelpers.compatibility_objects.Files import File, FilesystemDataType, FileList, get_only_most_recent_log_files\n",
    "    \n",
    "    \n",
    "    \"\"\"\n",
    "    df = deepcopy(a_file_df)\n",
    "    df['last_modified'] = pd.to_datetime(df['last_modified'])\n",
    "\n",
    "    # Separate .csv and .h5 files\n",
    "    csv_files = df[df['name'].str.endswith('.csv')]\n",
    "    h5_files = df[df['name'].str.endswith('.h5')]\n",
    "\n",
    "    # Get the most recent .err and .log file for each parent_path\n",
    "    most_recent_csv = csv_files.loc[csv_files.groupby('parent_path')['last_modified'].idxmax()]\n",
    "    most_recent_h5 = h5_files.loc[h5_files.groupby('parent_path')['last_modified'].idxmax()]\n",
    "\n",
    "    # Concatenate the results\n",
    "    most_recent_files = pd.concat([most_recent_csv, most_recent_h5]).sort_values(by=['parent_path', 'last_modified'], ascending=[True, False])\n",
    "    return most_recent_files\n",
    "\n",
    "\n",
    "\n",
    "# most_recent_only_csv_file_df = get_only_most_recent_log_files(log_file_df=all_file_df)"
   ]
  },
  {
   "cell_type": "code",
   "execution_count": null,
   "metadata": {},
   "outputs": [],
   "source": [
    "# lab_Turbo_collected_outputs_bookmark = Bookmark(bookmark_id='91181e28-f90d-11ee-9222-472b0fe4395a', name='KDIBA Lab Turbo - collected_outputs', endpoint_id='8c185a84-5c61-4bbc-b12b-11430e20010f', path='/umms-kdiba/Data/Output/collected_outputs/')\n",
    "# all_file_df: pd.DataFrame = connect_man.get_greatlakes_collected_outputs_files(max_num_day_ago=1, filter=\"name:~*.csv,~*.h5\")\n",
    "all_file_df: pd.DataFrame = connect_man.get_greatlakes_collected_outputs_files(max_num_day_ago=1, filter=\"name:~*.csv\")\n",
    "all_file_df"
   ]
  },
  {
   "cell_type": "code",
   "execution_count": null,
   "metadata": {},
   "outputs": [],
   "source": [
    "outputs_folder = Path('../EXTERNAL/outputs').resolve()\n",
    "outputs_folder.mkdir(parents=True, exist_ok=True)\n",
    "day_date = '2024-07-16'\n",
    "csv_out_path = outputs_folder.joinpath(f'{day_date}_greatlakes_collected_outputs_csv_files.csv').resolve()\n",
    "# all_file_df.to_csv('greatlakes_collected_outputs_files.csv')\n",
    "all_file_df.to_csv(csv_out_path)"
   ]
  },
  {
   "cell_type": "markdown",
   "metadata": {},
   "source": [
    "## Copy these most recent files to the desired endpoint"
   ]
  },
  {
   "cell_type": "code",
   "execution_count": null,
   "metadata": {},
   "outputs": [],
   "source": [
    "## Apogee:\n",
    "collected_outputs_GL_to_Apogee = TransferRequest(source_endpoint=lab_Turbo_collected_outputs_bookmark,\n",
    "\t\t\t\tdest_endpoint=apogee_collected_outputs_folder_bookmark,\n",
    "\t\t\t\ttransfer_label='GL->Apogee Collected Outputs Files')\n",
    "\n",
    "\n",
    "## Lab\n",
    "collected_outputs_GL_to_Lab = TransferRequest(source_endpoint=lab_Turbo_collected_outputs_bookmark,\n",
    "\t\t\t\tdest_endpoint=lab_RDLU0039_CollectedOutputs,\n",
    "\t\t\t\ttransfer_label='GL->Lab Collected Outputs Files')\n",
    "\n",
    "\n",
    "## rMBP\n",
    "collected_outputs_GL_to_rMBP = TransferRequest(source_endpoint=lab_Turbo_collected_outputs_bookmark,\n",
    "\t\t\t\tdest_endpoint=rMBP_collected_outputs,\n",
    "\t\t\t\ttransfer_label='GL->rMBP Collected Outputs Files')\n",
    "\n",
    "\n",
    "active_file_df: pd.DataFrame = deepcopy(all_file_df)\n",
    "connect_man.perform_copy_files(active_file_df=active_file_df, transfer=collected_outputs_GL_to_Apogee, synchronous_wait=False)\n",
    "# connect_man.perform_copy_files(active_file_df=active_file_df, transfer=collected_outputs_GL_to_Lab, synchronous_wait=False)\n",
    "connect_man.perform_copy_files(active_file_df=active_file_df, transfer=collected_outputs_GL_to_rMBP, synchronous_wait=False)\n"
   ]
  },
  {
   "cell_type": "code",
   "execution_count": null,
   "metadata": {},
   "outputs": [],
   "source": []
  }
 ],
 "metadata": {
  "kernelspec": {
   "display_name": "phoglobushelpers-0Z77HMOj-py3.11",
   "language": "python",
   "name": "python3"
  },
  "language_info": {
   "codemirror_mode": {
    "name": "ipython",
    "version": 3
   },
   "file_extension": ".py",
   "mimetype": "text/x-python",
   "name": "python",
   "nbconvert_exporter": "python",
   "pygments_lexer": "ipython3",
   "version": "3.11.9"
  },
  "orig_nbformat": 4
 },
 "nbformat": 4,
 "nbformat_minor": 2
}
