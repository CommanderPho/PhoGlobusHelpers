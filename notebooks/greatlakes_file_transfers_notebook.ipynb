{
 "cells": [
  {
   "cell_type": "code",
   "execution_count": 10,
   "metadata": {
    "notebookRunGroups": {
     "groupValue": "1"
    }
   },
   "outputs": [
    {
     "name": "stdout",
     "output_type": "stream",
     "text": [
      "Automatic pdb calling has been turned OFF\n",
      "The autoreload extension is already loaded. To reload it, use:\n",
      "  %reload_ext autoreload\n"
     ]
    }
   ],
   "source": [
    "%config IPCompleter.use_jedi = False\n",
    "%pdb off\n",
    "# %load_ext viztracer\n",
    "# from viztracer import VizTracer\n",
    "%load_ext autoreload\n",
    "%autoreload 3\n",
    "import sys\n",
    "from copy import deepcopy\n",
    "from pathlib import Path\n",
    "import os\n",
    "from datetime import datetime, date, timedelta\n",
    "from typing import Any, List, Dict, Union, Tuple\n",
    "import pandas as pd\n",
    "\n",
    "## Enable full-width pandas dataframe columns so the paths and filenames always fit\n",
    "pd.set_option('display.max_colwidth', None)\n",
    "pd.set_option('display.expand_frame_repr', False)\n",
    "# /umms-kdiba/Data/Output/gen_scripts/\n",
    "\n",
    "import globus_sdk\n",
    "from globus_sdk import AccessTokenAuthorizer, TransferClient, TransferData\n",
    "from globus_sdk.scopes import TransferScopes\n",
    "from attrs import define, field, Factory\n",
    "\n",
    "from phoglobushelpers.PhoGlobusHelper import GlobusConnector, KnownEndpoints\n",
    "from phoglobushelpers.compatibility_objects.Bookmarks import Bookmark, BookmarkList\n",
    "from phoglobushelpers.compatibility_objects.Files import File, FilesystemDataType, FileList\n",
    "from phoglobushelpers.compatibility_objects.Tasks import FatalError, Task, TaskList\n",
    "from phoglobushelpers.PhoGlobusHelper import TransferRequest"
   ]
  },
  {
   "cell_type": "code",
   "execution_count": 2,
   "metadata": {
    "notebookRunGroups": {
     "groupValue": "1"
    }
   },
   "outputs": [
    {
     "name": "stdout",
     "output_type": "stream",
     "text": [
      "Please go to this URL and login: https://auth.globus.org/v2/oauth2/authorize?client_id=769d24e1-d1cc-4198-9ff7-2626485da449&redirect_uri=https%3A%2F%2Fauth.globus.org%2Fv2%2Fweb%2Fauth-code&scope=openid+profile+email+urn%3Aglobus%3Aauth%3Ascope%3Atransfer.api.globus.org%3Aall&state=_default&response_type=code&code_challenge=8DF8VMeQodHHoSTRLkUFxzpfRiICnDu5JhXZsSgl3IQ&code_challenge_method=S256&access_type=offline\n",
      "\t Copied url to clipboard!\n",
      "My Endpoints:\n",
      "[c3a90494-2555-11ec-a47d-a50ad076c282] aleinbook-linux\n",
      "[df4149a0-9925-11ee-be43-c52a29481bea] Aleinware\n",
      "[84991054-07b4-11ed-8d83-a54cf61939f8] Apogee\n",
      "[6d0251c4-2585-11ec-9e35-3df4ed83d858] Cubix Win10\n",
      "[c3578f36-42a8-11ec-a50f-b537d6c07c1d] FlatEdge_Server\n",
      "[af3fcfce-f664-11ed-9a7d-83ef71fbf0ae] LNX00052_Fedora\n",
      "[44727efc-c21b-11ee-89e3-5130436d8581] LNX00052_Ubuntu\n",
      "[2621bd72-f688-11ee-b6ec-473d136f742f] MM2\n",
      "[20c84240-1eb1-11eb-81b7-0e2f230cc907] Pho Personal Laptop\n",
      "[560d3a12-be20-11ed-9916-cb2cff506ca5] Pho_Personal_Testix\n",
      "[cee0aaec-3e3b-11ef-9637-453c3ae125a5] RDLU0039_DibaLabWorkstation\n",
      "[debb635c-2556-11ec-a47d-a50ad076c282] rMBP Pink Dot\n",
      "[e414f584-2556-11ec-a0a7-6b21ca6daf73] rMBP Pink Dot\n",
      "[41b8fb12-516b-11ee-8a4b-b1038a0991ac] rMBP-PinkDot\n",
      "[3fc00ebe-f142-11ee-91fe-472b0fe4395a] TempVM_VS_NonGPU\n"
     ]
    }
   ],
   "source": [
    "connect_man = GlobusConnector.login_and_get_transfer_client()\n",
    "transfer_client = connect_man.transfer_client\n",
    "connect_man.list_endpoints()\n"
   ]
  },
  {
   "cell_type": "markdown",
   "metadata": {},
   "source": [
    "# Tasks"
   ]
  },
  {
   "cell_type": "code",
   "execution_count": null,
   "metadata": {},
   "outputs": [],
   "source": [
    "task_id = \"a5bba88c-fba0-11ee-9063-1f4fee4027cc\""
   ]
  },
  {
   "cell_type": "code",
   "execution_count": null,
   "metadata": {},
   "outputs": [],
   "source": [
    "tasks_list = connect_man.get_tasks()\n",
    "tasks_list_df = tasks_list.to_dataframe()\n",
    "tasks_list_df"
   ]
  },
  {
   "cell_type": "code",
   "execution_count": null,
   "metadata": {},
   "outputs": [],
   "source": [
    "tasks_list_df"
   ]
  },
  {
   "cell_type": "markdown",
   "metadata": {},
   "source": [
    "# Bookmarks"
   ]
  },
  {
   "cell_type": "code",
   "execution_count": 11,
   "metadata": {
    "notebookRunGroups": {
     "groupValue": "2"
    }
   },
   "outputs": [
    {
     "data": {
      "text/plain": [
       "[Bookmark(bookmark_id='9a8eccc8-2558-11ec-a0a7-6b21ca6daf73', name='aleinbook-linux - PhoPy3DPositionAnalysis', endpoint_id='c3a90494-2555-11ec-a47d-a50ad076c282', path='/~/repo/PhoPy3DPositionAnalysis/'),\n",
       " Bookmark(bookmark_id='3453290e-9926-11ee-8c90-fd88ce9321ad', name='Aleinware SmallSSD', endpoint_id='df4149a0-9925-11ee-be43-c52a29481bea', path='/F/'),\n",
       " Bookmark(bookmark_id='2a9f2464-01ad-11ee-be0e-195c41bc0be4', name='Apogee Data W', endpoint_id='84991054-07b4-11ed-8d83-a54cf61939f8', path='/~/W/Data/'),\n",
       " Bookmark(bookmark_id='fa915572-43a0-11ee-a06e-eb83daae1adf', name='Apogee DibaLabGDriveMount', endpoint_id='84991054-07b4-11ed-8d83-a54cf61939f8', path='/~/L/'),\n",
       " Bookmark(bookmark_id='4f1229fe-3eba-11ef-9637-453c3ae125a5', name='Apogee - gen_scripts', endpoint_id='84991054-07b4-11ed-8d83-a54cf61939f8', path='/K/scratch/gen_scripts/'),\n",
       " Bookmark(bookmark_id='965ffa0e-f90d-11ee-9222-472b0fe4395a', name='Apogee - K - collected_outputs', endpoint_id='84991054-07b4-11ed-8d83-a54cf61939f8', path='/K/scratch/collected_outputs/'),\n",
       " Bookmark(bookmark_id='a267ed38-8d7f-11ee-be03-c52a29481bea', name='Apogee - K - UE5_3 - Plugins', endpoint_id='84991054-07b4-11ed-8d83-a54cf61939f8', path='/K/FastSwap/ProgramFiles/UE_5.3/Engine/Plugins/'),\n",
       " Bookmark(bookmark_id='63655524-164e-11ee-bfba-195c41bc0be4', name='Apogee - PersonalFastSwapShare', endpoint_id='84991054-07b4-11ed-8d83-a54cf61939f8', path='/W/FastSwap/PersonalFastSwapShare/'),\n",
       " Bookmark(bookmark_id='1c725da6-203a-11ee-80bc-a3018385fcef', name='Apogee - ProgrammaticDisplayFunctionTesting', endpoint_id='84991054-07b4-11ed-8d83-a54cf61939f8', path='/C/Users/pho/repos/Spike3DWorkEnv/Spike3D/EXTERNAL/Screenshots/ProgrammaticDisplayFunctionTesting/'),\n",
       " Bookmark(bookmark_id='eeab2364-f8c2-11ee-921f-472b0fe4395a', name='Apogee - Spike3DWorkEnv - Output', endpoint_id='84991054-07b4-11ed-8d83-a54cf61939f8', path='/C/Users/pho/repos/Spike3DWorkEnv/Spike3D/output/'),\n",
       " Bookmark(bookmark_id='66ead9ec-2e56-11ee-b3ed-ad2493b708f4', name='Apogee - Unreal Root', endpoint_id='84991054-07b4-11ed-8d83-a54cf61939f8', path='/~/E/UNREAL/'),\n",
       " Bookmark(bookmark_id='78ca952e-2586-11ec-9e35-3df4ed83d858', name='Cubix Win10 PhoPy3DPositionAnalysis2021', endpoint_id='6d0251c4-2585-11ec-9e35-3df4ed83d858', path='/~/repos/PhoPy3DPositionAnalysis2021/'),\n",
       " Bookmark(bookmark_id='06f3fc6e-b65d-11ee-84a8-f1441124ff66', name='Day5TwoNovel', endpoint_id='ab65757f-00f5-4e5b-aa21-133187732a01', path='/umms-dibalab/Data/Bapun/RatS/Day5TwoNovel/'),\n",
       " Bookmark(bookmark_id='c23b0afa-3261-11ef-b82c-1dd816fe311b', name='DellaKouroshReMazeDataShare', endpoint_id='ab65757f-00f5-4e5b-aa21-133187732a01', path='/umms-dibalab/_TEMP/DellaKouroshReMazeDataShare/'),\n",
       " Bookmark(bookmark_id='99efa634-3ead-11ef-888b-2b3122c1d121', name='Greatlakes gen_scripts', endpoint_id='8c185a84-5c61-4bbc-b12b-11430e20010f', path='/umms-kdiba/Data/Output/gen_scripts/'),\n",
       " Bookmark(bookmark_id='431c951e-96c6-11ed-9b93-19370d280681', name='kdiba DataDen Data', endpoint_id='ab65757f-00f5-4e5b-aa21-133187732a01', path='/umms-dibalab/Data/'),\n",
       " Bookmark(bookmark_id='8ce139f8-9d46-11ed-a2a2-8383522b48d9', name='KDIBA Lab Turbo', endpoint_id='8c185a84-5c61-4bbc-b12b-11430e20010f', path='/umms-kdiba/'),\n",
       " Bookmark(bookmark_id='91181e28-f90d-11ee-9222-472b0fe4395a', name='KDIBA Lab Turbo - collected_outputs', endpoint_id='8c185a84-5c61-4bbc-b12b-11430e20010f', path='/umms-kdiba/Data/Output/collected_outputs/'),\n",
       " Bookmark(bookmark_id='728fb3e8-2597-11ee-80c2-a3018385fcef', name='KDIBA Lab Turbo - Data Global Root Folder', endpoint_id='8c185a84-5c61-4bbc-b12b-11430e20010f', path='/umms-kdiba/Data/'),\n",
       " Bookmark(bookmark_id='fa5567f4-5d97-11ee-8e55-e7956a689924', name='LNX00052_Fedora - BETAMAX 20TB Disk', endpoint_id='af3fcfce-f664-11ed-9a7d-83ef71fbf0ae', path='/mnt/BETAMAX/'),\n",
       " Bookmark(bookmark_id='de42717e-5d97-11ee-8e55-e7956a689924', name='LNX00052_Fedora - DELTAMAX 20TB Disk', endpoint_id='af3fcfce-f664-11ed-9a7d-83ef71fbf0ae', path='/mnt/DELTAMAX/'),\n",
       " Bookmark(bookmark_id='7b24feb0-5e26-11ee-8776-1dc3121de006', name='LNX00052_Fedora - FastData Global Data Root', endpoint_id='af3fcfce-f664-11ed-9a7d-83ef71fbf0ae', path='/home/halechr/FastData/'),\n",
       " Bookmark(bookmark_id='e50e6dd2-5d97-11ee-8e55-e7956a689924', name='LNX00052_Fedora - GAMMAMAX 20TB Disk', endpoint_id='af3fcfce-f664-11ed-9a7d-83ef71fbf0ae', path='/mnt/GAMMAMAX/'),\n",
       " Bookmark(bookmark_id='6e727c22-5d97-11ee-8e55-e7956a689924', name='LNX00052_Fedora - GDrive_Diba_Shared Data', endpoint_id='af3fcfce-f664-11ed-9a7d-83ef71fbf0ae', path='/media/MAX/cloud/GDrive_Diba_Shared/Data/'),\n",
       " Bookmark(bookmark_id='211f7d4e-478a-11ee-a072-eb83daae1adf', name='LNX00052_Fedora - HugePort 20TB Disk', endpoint_id='af3fcfce-f664-11ed-9a7d-83ef71fbf0ae', path='/media/HugePort/'),\n",
       " Bookmark(bookmark_id='82d87ba0-5d59-11ee-8e55-e7956a689924', name='LNX00052_Fedora - HUUUGE 20TB Disk', endpoint_id='af3fcfce-f664-11ed-9a7d-83ef71fbf0ae', path='/mnt/wwn-0x5000cca2b3c3f6f7-part1/'),\n",
       " Bookmark(bookmark_id='248a9a30-164e-11ee-bfba-195c41bc0be4', name='LNX00052_Fedora - MAX', endpoint_id='af3fcfce-f664-11ed-9a7d-83ef71fbf0ae', path='/media/MAX/'),\n",
       " Bookmark(bookmark_id='fb16ea72-8d6d-11ee-8c73-fd88ce9321ad', name='LNX00052_Fedora - MAX - UnrealProjects', endpoint_id='af3fcfce-f664-11ed-9a7d-83ef71fbf0ae', path='/media/MAX/Personal/UnrealProjects/'),\n",
       " Bookmark(bookmark_id='c817bbf0-4da9-11ee-a088-eb83daae1adf', name='LNX00052_Fedora - New ProgrammaticDisplayFunctionTesting', endpoint_id='af3fcfce-f664-11ed-9a7d-83ef71fbf0ae', path='/home/halechr/repos/Spike3D/EXTERNAL/Screenshots/ProgrammaticDisplayFunctionTesting/'),\n",
       " Bookmark(bookmark_id='af68b1ea-20c7-11ee-818f-195c41bc0be4', name='LNX00052_Fedora - ProgrammaticDisplayFunctionTesting', endpoint_id='af3fcfce-f664-11ed-9a7d-83ef71fbf0ae', path='/home/halechr/repo/Spike3D/EXTERNAL/Screenshots/ProgrammaticDisplayFunctionTesting/'),\n",
       " Bookmark(bookmark_id='b214aca0-4da9-11ee-a088-eb83daae1adf', name='LNX00052_Fedora - Spike3D Repo', endpoint_id='af3fcfce-f664-11ed-9a7d-83ef71fbf0ae', path='/home/halechr/repos/Spike3D/'),\n",
       " Bookmark(bookmark_id='ca95eb76-c21c-11ee-84b4-f1441124ff66', name='LNX00052_Ubuntu', endpoint_id='44727efc-c21b-11ee-89e3-5130436d8581', path='/~/'),\n",
       " Bookmark(bookmark_id='25a26f84-cd13-11ee-a48f-73d2c6fd707d', name='LNX00052_Ubuntu - UnrealProjects', endpoint_id='44727efc-c21b-11ee-89e3-5130436d8581', path='/media/halechr/MAX/Personal/UnrealProjects/'),\n",
       " Bookmark(bookmark_id='b6d70674-3144-11ee-87a9-4dfadf03ac7e', name='lsa-halechr Personal Turbo', endpoint_id='ab65757f-00f5-4e5b-aa21-133187732a01', path='/lsa-halechr/'),\n",
       " Bookmark(bookmark_id='034e1614-3c19-11ec-90c8-7fa38c35632a', name='NYU Langone Health DTN1 - Buzsakilab Public Datasets', endpoint_id='188a6110-96db-11eb-b7a9-f57b2d55370d', path='/'),\n",
       " Bookmark(bookmark_id='ec5514de-3f9f-11ef-b849-1dd816fe311b', name='Pho Personal Laptop - collected_outputs', endpoint_id='20c84240-1eb1-11eb-81b7-0e2f230cc907', path='/Users/pho/data/collected_outputs/'),\n",
       " Bookmark(bookmark_id='e44c77aa-3f9f-11ef-b849-1dd816fe311b', name='Pho Personal Laptop - Data', endpoint_id='20c84240-1eb1-11eb-81b7-0e2f230cc907', path='/Users/pho/data/'),\n",
       " Bookmark(bookmark_id='bbb4a1a8-f0b9-11ee-91fe-472b0fe4395a', name='Pho Personal Laptop - DibaMac', endpoint_id='20c84240-1eb1-11eb-81b7-0e2f230cc907', path='/Volumes/DibaMac/'),\n",
       " Bookmark(bookmark_id='b0066292-f0b9-11ee-91fe-472b0fe4395a', name='Pho Personal Laptop - halechrGDrive', endpoint_id='20c84240-1eb1-11eb-81b7-0e2f230cc907', path='/Volumes/DibaMac/Backups/Pho/'),\n",
       " Bookmark(bookmark_id='1805df24-e618-11ed-9a63-83ef71fbf0ae', name='Pho Personal Laptop - PegasusR6 - Data', endpoint_id='20c84240-1eb1-11eb-81b7-0e2f230cc907', path='/Volumes/Pegasus R6/Data/'),\n",
       " Bookmark(bookmark_id='3a94f9b2-03ef-11ef-82a6-57b5c7e2fa2b', name='Pho Personal Laptop - SwapSSD Data', endpoint_id='20c84240-1eb1-11eb-81b7-0e2f230cc907', path='/Volumes/SwapSSD/Data/'),\n",
       " Bookmark(bookmark_id='2cd4df1e-3f94-11ef-9638-453c3ae125a5', name='RDLU0039_DibaLabWorkstation - Collected Outputs', endpoint_id='cee0aaec-3e3b-11ef-9637-453c3ae125a5', path='/home/halechr/FastData/collected_outputs/'),\n",
       " Bookmark(bookmark_id='20d34336-3f94-11ef-9638-453c3ae125a5', name='RDLU0039_DibaLabWorkstation - FastData', endpoint_id='cee0aaec-3e3b-11ef-9637-453c3ae125a5', path='/home/halechr/FastData/'),\n",
       " Bookmark(bookmark_id='295f306c-3f96-11ef-888b-2b3122c1d121', name='RDLU0039_DibaLabWorkstation - gen_scripts', endpoint_id='cee0aaec-3e3b-11ef-9637-453c3ae125a5', path='/home/halechr/FastData/gen_scripts/'),\n",
       " Bookmark(bookmark_id='be76c06a-51e2-11ee-a0a8-eb83daae1adf', name='rMBP-PinkDot - LargeDisk', endpoint_id='41b8fb12-516b-11ee-8a4b-b1038a0991ac', path='/Volumes/LargeDisk/'),\n",
       " Bookmark(bookmark_id='883e37d8-f142-11ee-904b-1f4fee4027cc', name='TempVM_VS_NonGPU', endpoint_id='3fc00ebe-f142-11ee-91fe-472b0fe4395a', path='/'),\n",
       " Bookmark(bookmark_id='d85320ee-f142-11ee-904b-1f4fee4027cc', name='TempVM_VS_NonGPU - GDrive - WatsonLab2019-2020', endpoint_id='3fc00ebe-f142-11ee-91fe-472b0fe4395a', path='/L/MED-WatsonDigitalPhenotyping/FromGDrive2024/Watson Lab 2019-2020/'),\n",
       " Bookmark(bookmark_id='90d94d74-f142-11ee-904b-1f4fee4027cc', name='TempVM_VS_NonGPU - K - GDrive', endpoint_id='3fc00ebe-f142-11ee-91fe-472b0fe4395a', path='/K/'),\n",
       " Bookmark(bookmark_id='c1dae626-f142-11ee-904b-1f4fee4027cc', name='TempVM_VS_NonGPU - L - Dropbox', endpoint_id='3fc00ebe-f142-11ee-91fe-472b0fe4395a', path='/L/'),\n",
       " Bookmark(bookmark_id='99ce1e08-bdf1-11ed-8cec-f9fa098153fc', name='UMich Diba Turbo - Pho Directory', endpoint_id='8c185a84-5c61-4bbc-b12b-11430e20010f', path='/umms-kdiba/Pho/'),\n",
       " Bookmark(bookmark_id='b1668f08-2036-11ee-80bc-a3018385fcef', name='umich#greatlakes - halechr homedir', endpoint_id='454f457e-a41b-4807-8775-d132f15a228f', path='/home/halechr/'),\n",
       " Bookmark(bookmark_id='f479daf4-2039-11ee-80bc-a3018385fcef', name='umich#greatlakes - ProgrammaticDisplayFunctionTesting', endpoint_id='454f457e-a41b-4807-8775-d132f15a228f', path='/home/halechr/repos/Spike3D/EXTERNAL/Screenshots/ProgrammaticDisplayFunctionTesting/'),\n",
       " Bookmark(bookmark_id='d7c1b398-4ca6-11ee-a085-eb83daae1adf', name='umich#greatlakes - Scratch', endpoint_id='454f457e-a41b-4807-8775-d132f15a228f', path='/scratch/kdiba_root/'),\n",
       " Bookmark(bookmark_id='bef81650-96c5-11ed-9b93-19370d280681', name='umms-dibalab DataDen', endpoint_id='ab65757f-00f5-4e5b-aa21-133187732a01', path='/umms-dibalab/')]"
      ]
     },
     "metadata": {},
     "output_type": "display_data"
    }
   ],
   "source": [
    "bookmark_list = connect_man.get_bookmarks()\n",
    "display(bookmark_list.DATA)\n",
    "\n",
    "lab_Turbo_data_folder_bookmark = Bookmark(bookmark_id='728fb3e8-2597-11ee-80c2-a3018385fcef', name='KDIBA Lab Turbo - Data Global Root Folder', endpoint_id='8c185a84-5c61-4bbc-b12b-11430e20010f', path='/umms-kdiba/Data/')\n",
    "lab_DataDen_data_folder_bookmark = Bookmark(bookmark_id='431c951e-96c6-11ed-9b93-19370d280681', name='kdiba DataDen Data', endpoint_id='ab65757f-00f5-4e5b-aa21-133187732a01', path='/umms-dibalab/Data/')\n",
    "\n",
    "lab_Turbo_collected_outputs_bookmark = Bookmark(bookmark_id='91181e28-f90d-11ee-9222-472b0fe4395a', name='KDIBA Lab Turbo - collected_outputs', endpoint_id='8c185a84-5c61-4bbc-b12b-11430e20010f', path='/umms-kdiba/Data/Output/collected_outputs/')\n",
    "\n",
    "# Figure Outputs:\n",
    "lab_Greatlakes_ProgrammaticDisplayFunctionTesting_bookmark = Bookmark(bookmark_id='f479daf4-2039-11ee-80bc-a3018385fcef', name='umich#greatlakes - ProgrammaticDisplayFunctionTesting', endpoint_id='454f457e-a41b-4807-8775-d132f15a228f', path='/home/halechr/repos/Spike3D/EXTERNAL/Screenshots/ProgrammaticDisplayFunctionTesting/')\n",
    "lab_LNX00052_Fedora_ProgrammaticDisplayFunctionTesting_bookmark = Bookmark(bookmark_id='af68b1ea-20c7-11ee-818f-195c41bc0be4', name='LNX00052_Fedora - ProgrammaticDisplayFunctionTesting', endpoint_id='af3fcfce-f664-11ed-9a7d-83ef71fbf0ae', path='/home/halechr/repo/Spike3D/EXTERNAL/Screenshots/ProgrammaticDisplayFunctionTesting/')\n",
    "\n",
    "## Apogee:\n",
    "home_Apogee_ProgrammaticDisplayFunctionTesting_bookmark = Bookmark(bookmark_id='1c725da6-203a-11ee-80bc-a3018385fcef', name='Apogee - ProgrammaticDisplayFunctionTesting', endpoint_id='84991054-07b4-11ed-8d83-a54cf61939f8', path='/C/Users/pho/repos/Spike3DWorkEnv/Spike3D/EXTERNAL/Screenshots/ProgrammaticDisplayFunctionTesting/')\n",
    "apogee_collected_outputs_folder_bookmark = Bookmark(bookmark_id='965ffa0e-f90d-11ee-9222-472b0fe4395a', name='Apogee - K - collected_outputs', endpoint_id='84991054-07b4-11ed-8d83-a54cf61939f8', path='/K/scratch/collected_outputs/')\n",
    "\n",
    "## `gen_scripts` folders:\n",
    "apogee_gen_scripts_folder_bookmark = Bookmark(bookmark_id='4f1229fe-3eba-11ef-9637-453c3ae125a5', name='Apogee - gen_scripts', endpoint_id='84991054-07b4-11ed-8d83-a54cf61939f8', path='/K/scratch/gen_scripts/')\n",
    "lab_Greatlakes_gen_scripts = Bookmark(bookmark_id='99efa634-3ead-11ef-888b-2b3122c1d121', name='Greatlakes gen_scripts', endpoint_id='8c185a84-5c61-4bbc-b12b-11430e20010f', path='/umms-kdiba/Data/Output/gen_scripts/')\n",
    "# lab_Greatlakes_gen_scripts, apogee_gen_scripts_folder_bookmark\n",
    "\n",
    "lab_RDLU0039_CollectedOutputs = Bookmark(bookmark_id='2cd4df1e-3f94-11ef-9638-453c3ae125a5', name='RDLU0039_DibaLabWorkstation - Collected Outputs', endpoint_id='cee0aaec-3e3b-11ef-9637-453c3ae125a5', path='/home/halechr/FastData/collected_outputs/')\n",
    "lab_RDLU0039_data = Bookmark(bookmark_id='20d34336-3f94-11ef-9638-453c3ae125a5', name='RDLU0039_DibaLabWorkstation - FastData', endpoint_id='cee0aaec-3e3b-11ef-9637-453c3ae125a5', path='/home/halechr/FastData/')\n",
    "lab_RDLU0039_gen_scripts = Bookmark(bookmark_id='295f306c-3f96-11ef-888b-2b3122c1d121', name='RDLU0039_DibaLabWorkstation - gen_scripts', endpoint_id='cee0aaec-3e3b-11ef-9637-453c3ae125a5', path='/home/halechr/FastData/gen_scripts/')\n",
    "\n",
    "rMBP_collected_outputs = Bookmark(bookmark_id='ec5514de-3f9f-11ef-b849-1dd816fe311b', name='Pho Personal Laptop - collected_outputs', endpoint_id='20c84240-1eb1-11eb-81b7-0e2f230cc907', path='/Users/pho/data/collected_outputs/')\n",
    "\n",
    "## OUTPUTS: lab_Turbo_data_folder_bookmark, lab_DataDen_data_folder_bookmark, lab_Greatlakes_gen_scripts, apogee_gen_scripts_folder_bookmark, apogee_collected_outputs_folder_bookmark"
   ]
  },
  {
   "cell_type": "markdown",
   "metadata": {},
   "source": [
    "# 2024-07-10 - Pulling Greatlakes Batch Run Logs"
   ]
  },
  {
   "cell_type": "code",
   "execution_count": 4,
   "metadata": {},
   "outputs": [
    {
     "name": "stdout",
     "output_type": "stream",
     "text": [
      "earliest_search_day_date: 2024-07-15\n",
      "WARNING: filter was modified to include \"type:dir\" because `should_list_recursively=True`. Otherwise no subdirectories would be returned.\n"
     ]
    },
    {
     "data": {
      "text/html": [
       "<div>\n",
       "<style scoped>\n",
       "    .dataframe tbody tr th:only-of-type {\n",
       "        vertical-align: middle;\n",
       "    }\n",
       "\n",
       "    .dataframe tbody tr th {\n",
       "        vertical-align: top;\n",
       "    }\n",
       "\n",
       "    .dataframe thead th {\n",
       "        text-align: right;\n",
       "    }\n",
       "</style>\n",
       "<table border=\"1\" class=\"dataframe\">\n",
       "  <thead>\n",
       "    <tr style=\"text-align: right;\">\n",
       "      <th></th>\n",
       "      <th>type</th>\n",
       "      <th>parent_path</th>\n",
       "      <th>name</th>\n",
       "      <th>last_modified</th>\n",
       "      <th>size</th>\n",
       "    </tr>\n",
       "  </thead>\n",
       "  <tbody>\n",
       "    <tr>\n",
       "      <th>0</th>\n",
       "      <td>file</td>\n",
       "      <td>/umms-kdiba/Data/Output/gen_scripts/run_kdiba_gor01_one_2006-6-08_14-26-15</td>\n",
       "      <td>debug_2024-07-16_09-07-38.gl3026.arc-ts.umich.edu.kdiba.gor01.one.2006-6-08_14-26-15.log</td>\n",
       "      <td>2024-07-16 14:52:09+00:00</td>\n",
       "      <td>528086</td>\n",
       "    </tr>\n",
       "    <tr>\n",
       "      <th>12</th>\n",
       "      <td>file</td>\n",
       "      <td>/umms-kdiba/Data/Output/gen_scripts/run_kdiba_gor01_one_2006-6-09_1-22-43</td>\n",
       "      <td>debug_2024-07-16_09-07-32.gl3044.arc-ts.umich.edu.kdiba.gor01.one.2006-6-09_1-22-43.log</td>\n",
       "      <td>2024-07-16 13:34:53+00:00</td>\n",
       "      <td>13170</td>\n",
       "    </tr>\n",
       "    <tr>\n",
       "      <th>16</th>\n",
       "      <td>file</td>\n",
       "      <td>/umms-kdiba/Data/Output/gen_scripts/run_kdiba_gor01_one_2006-6-12_15-55-31</td>\n",
       "      <td>debug_2024-07-16_09-07-32.gl3052.arc-ts.umich.edu.kdiba.gor01.one.2006-6-12_15-55-31.log</td>\n",
       "      <td>2024-07-16 13:09:47+00:00</td>\n",
       "      <td>13199</td>\n",
       "    </tr>\n",
       "    <tr>\n",
       "      <th>20</th>\n",
       "      <td>file</td>\n",
       "      <td>/umms-kdiba/Data/Output/gen_scripts/run_kdiba_gor01_two_2006-6-07_16-40-19</td>\n",
       "      <td>debug_2024-07-16_09-07-32.gl3052.arc-ts.umich.edu.kdiba.gor01.two.2006-6-07_16-40-19.log</td>\n",
       "      <td>2024-07-16 15:19:56+00:00</td>\n",
       "      <td>1050780</td>\n",
       "    </tr>\n",
       "    <tr>\n",
       "      <th>24</th>\n",
       "      <td>file</td>\n",
       "      <td>/umms-kdiba/Data/Output/gen_scripts/run_kdiba_gor01_two_2006-6-08_21-16-25</td>\n",
       "      <td>debug_2024-07-16_09-07-32.gl3065.arc-ts.umich.edu.kdiba.gor01.two.2006-6-08_21-16-25.log</td>\n",
       "      <td>2024-07-16 13:30:15+00:00</td>\n",
       "      <td>13199</td>\n",
       "    </tr>\n",
       "    <tr>\n",
       "      <th>48</th>\n",
       "      <td>file</td>\n",
       "      <td>/umms-kdiba/Data/Output/gen_scripts/run_kdiba_gor01_two_2006-6-09_22-24-40</td>\n",
       "      <td>debug_2024-07-16_09-07-18.gl3072.arc-ts.umich.edu.kdiba.gor01.two.2006-6-09_22-24-40.log</td>\n",
       "      <td>2024-07-16 15:08:08+00:00</td>\n",
       "      <td>1051194</td>\n",
       "    </tr>\n",
       "    <tr>\n",
       "      <th>52</th>\n",
       "      <td>file</td>\n",
       "      <td>/umms-kdiba/Data/Output/gen_scripts/run_kdiba_gor01_two_2006-6-12_16-53-46</td>\n",
       "      <td>debug_2024-07-16_09-07-18.gl3075.arc-ts.umich.edu.kdiba.gor01.two.2006-6-12_16-53-46.log</td>\n",
       "      <td>2024-07-16 13:04:30+00:00</td>\n",
       "      <td>19235</td>\n",
       "    </tr>\n",
       "    <tr>\n",
       "      <th>28</th>\n",
       "      <td>file</td>\n",
       "      <td>/umms-kdiba/Data/Output/gen_scripts/run_kdiba_pin01_one_11-02_17-46-44</td>\n",
       "      <td>debug_2024-07-16_09-07-32.gl3117.arc-ts.umich.edu.kdiba.pin01.one.11-02_17-46-44.log</td>\n",
       "      <td>2024-07-16 13:17:25+00:00</td>\n",
       "      <td>13083</td>\n",
       "    </tr>\n",
       "    <tr>\n",
       "      <th>32</th>\n",
       "      <td>file</td>\n",
       "      <td>/umms-kdiba/Data/Output/gen_scripts/run_kdiba_pin01_one_11-02_19-28-0</td>\n",
       "      <td>debug_2024-07-16_09-07-32.gl3130.arc-ts.umich.edu.kdiba.pin01.one.11-02_19-28-0.log</td>\n",
       "      <td>2024-07-16 13:17:47+00:00</td>\n",
       "      <td>13054</td>\n",
       "    </tr>\n",
       "    <tr>\n",
       "      <th>36</th>\n",
       "      <td>file</td>\n",
       "      <td>/umms-kdiba/Data/Output/gen_scripts/run_kdiba_pin01_one_11-03_12-3-25</td>\n",
       "      <td>debug_2024-07-16_09-07-32.gl3151.arc-ts.umich.edu.kdiba.pin01.one.11-03_12-3-25.log</td>\n",
       "      <td>2024-07-16 13:10:40+00:00</td>\n",
       "      <td>13054</td>\n",
       "    </tr>\n",
       "    <tr>\n",
       "      <th>56</th>\n",
       "      <td>file</td>\n",
       "      <td>/umms-kdiba/Data/Output/gen_scripts/run_kdiba_pin01_one_fet11-01_12-58-54</td>\n",
       "      <td>debug_2024-07-16_09-07-18.gl3162.arc-ts.umich.edu.kdiba.pin01.one.fet11-01_12-58-54.log</td>\n",
       "      <td>2024-07-16 13:57:27+00:00</td>\n",
       "      <td>534159</td>\n",
       "    </tr>\n",
       "    <tr>\n",
       "      <th>8</th>\n",
       "      <td>file</td>\n",
       "      <td>/umms-kdiba/Data/Output/gen_scripts/run_kdiba_vvp01_one_2006-4-09_17-29-30</td>\n",
       "      <td>debug_2024-07-16_09-07-34.gl3090.arc-ts.umich.edu.kdiba.vvp01.one.2006-4-09_17-29-30.log</td>\n",
       "      <td>2024-07-16 13:16:16+00:00</td>\n",
       "      <td>13199</td>\n",
       "    </tr>\n",
       "    <tr>\n",
       "      <th>4</th>\n",
       "      <td>file</td>\n",
       "      <td>/umms-kdiba/Data/Output/gen_scripts/run_kdiba_vvp01_one_2006-4-10_12-25-50</td>\n",
       "      <td>debug_2024-07-16_09-07-35.gl3115.arc-ts.umich.edu.kdiba.vvp01.one.2006-4-10_12-25-50.log</td>\n",
       "      <td>2024-07-16 13:17:07+00:00</td>\n",
       "      <td>13199</td>\n",
       "    </tr>\n",
       "    <tr>\n",
       "      <th>40</th>\n",
       "      <td>file</td>\n",
       "      <td>/umms-kdiba/Data/Output/gen_scripts/run_kdiba_vvp01_two_2006-4-09_16-40-54</td>\n",
       "      <td>debug_2024-07-16_09-07-32.gl3117.arc-ts.umich.edu.kdiba.vvp01.two.2006-4-09_16-40-54.log</td>\n",
       "      <td>2024-07-16 13:14:55+00:00</td>\n",
       "      <td>13199</td>\n",
       "    </tr>\n",
       "    <tr>\n",
       "      <th>44</th>\n",
       "      <td>file</td>\n",
       "      <td>/umms-kdiba/Data/Output/gen_scripts/run_kdiba_vvp01_two_2006-4-10_12-58-3</td>\n",
       "      <td>debug_2024-07-16_09-07-32.gl3117.arc-ts.umich.edu.kdiba.vvp01.two.2006-4-10_12-58-3.log</td>\n",
       "      <td>2024-07-16 13:17:30+00:00</td>\n",
       "      <td>13170</td>\n",
       "    </tr>\n",
       "  </tbody>\n",
       "</table>\n",
       "</div>"
      ],
      "text/plain": [
       "    type                                                                 parent_path                                                                                      name             last_modified     size\n",
       "0   file  /umms-kdiba/Data/Output/gen_scripts/run_kdiba_gor01_one_2006-6-08_14-26-15  debug_2024-07-16_09-07-38.gl3026.arc-ts.umich.edu.kdiba.gor01.one.2006-6-08_14-26-15.log 2024-07-16 14:52:09+00:00   528086\n",
       "12  file   /umms-kdiba/Data/Output/gen_scripts/run_kdiba_gor01_one_2006-6-09_1-22-43   debug_2024-07-16_09-07-32.gl3044.arc-ts.umich.edu.kdiba.gor01.one.2006-6-09_1-22-43.log 2024-07-16 13:34:53+00:00    13170\n",
       "16  file  /umms-kdiba/Data/Output/gen_scripts/run_kdiba_gor01_one_2006-6-12_15-55-31  debug_2024-07-16_09-07-32.gl3052.arc-ts.umich.edu.kdiba.gor01.one.2006-6-12_15-55-31.log 2024-07-16 13:09:47+00:00    13199\n",
       "20  file  /umms-kdiba/Data/Output/gen_scripts/run_kdiba_gor01_two_2006-6-07_16-40-19  debug_2024-07-16_09-07-32.gl3052.arc-ts.umich.edu.kdiba.gor01.two.2006-6-07_16-40-19.log 2024-07-16 15:19:56+00:00  1050780\n",
       "24  file  /umms-kdiba/Data/Output/gen_scripts/run_kdiba_gor01_two_2006-6-08_21-16-25  debug_2024-07-16_09-07-32.gl3065.arc-ts.umich.edu.kdiba.gor01.two.2006-6-08_21-16-25.log 2024-07-16 13:30:15+00:00    13199\n",
       "48  file  /umms-kdiba/Data/Output/gen_scripts/run_kdiba_gor01_two_2006-6-09_22-24-40  debug_2024-07-16_09-07-18.gl3072.arc-ts.umich.edu.kdiba.gor01.two.2006-6-09_22-24-40.log 2024-07-16 15:08:08+00:00  1051194\n",
       "52  file  /umms-kdiba/Data/Output/gen_scripts/run_kdiba_gor01_two_2006-6-12_16-53-46  debug_2024-07-16_09-07-18.gl3075.arc-ts.umich.edu.kdiba.gor01.two.2006-6-12_16-53-46.log 2024-07-16 13:04:30+00:00    19235\n",
       "28  file      /umms-kdiba/Data/Output/gen_scripts/run_kdiba_pin01_one_11-02_17-46-44      debug_2024-07-16_09-07-32.gl3117.arc-ts.umich.edu.kdiba.pin01.one.11-02_17-46-44.log 2024-07-16 13:17:25+00:00    13083\n",
       "32  file       /umms-kdiba/Data/Output/gen_scripts/run_kdiba_pin01_one_11-02_19-28-0       debug_2024-07-16_09-07-32.gl3130.arc-ts.umich.edu.kdiba.pin01.one.11-02_19-28-0.log 2024-07-16 13:17:47+00:00    13054\n",
       "36  file       /umms-kdiba/Data/Output/gen_scripts/run_kdiba_pin01_one_11-03_12-3-25       debug_2024-07-16_09-07-32.gl3151.arc-ts.umich.edu.kdiba.pin01.one.11-03_12-3-25.log 2024-07-16 13:10:40+00:00    13054\n",
       "56  file   /umms-kdiba/Data/Output/gen_scripts/run_kdiba_pin01_one_fet11-01_12-58-54   debug_2024-07-16_09-07-18.gl3162.arc-ts.umich.edu.kdiba.pin01.one.fet11-01_12-58-54.log 2024-07-16 13:57:27+00:00   534159\n",
       "8   file  /umms-kdiba/Data/Output/gen_scripts/run_kdiba_vvp01_one_2006-4-09_17-29-30  debug_2024-07-16_09-07-34.gl3090.arc-ts.umich.edu.kdiba.vvp01.one.2006-4-09_17-29-30.log 2024-07-16 13:16:16+00:00    13199\n",
       "4   file  /umms-kdiba/Data/Output/gen_scripts/run_kdiba_vvp01_one_2006-4-10_12-25-50  debug_2024-07-16_09-07-35.gl3115.arc-ts.umich.edu.kdiba.vvp01.one.2006-4-10_12-25-50.log 2024-07-16 13:17:07+00:00    13199\n",
       "40  file  /umms-kdiba/Data/Output/gen_scripts/run_kdiba_vvp01_two_2006-4-09_16-40-54  debug_2024-07-16_09-07-32.gl3117.arc-ts.umich.edu.kdiba.vvp01.two.2006-4-09_16-40-54.log 2024-07-16 13:14:55+00:00    13199\n",
       "44  file   /umms-kdiba/Data/Output/gen_scripts/run_kdiba_vvp01_two_2006-4-10_12-58-3   debug_2024-07-16_09-07-32.gl3117.arc-ts.umich.edu.kdiba.vvp01.two.2006-4-10_12-58-3.log 2024-07-16 13:17:30+00:00    13170"
      ]
     },
     "execution_count": 4,
     "metadata": {},
     "output_type": "execute_result"
    }
   ],
   "source": [
    "lab_Greatlakes_gen_scripts = Bookmark(bookmark_id='99efa634-3ead-11ef-888b-2b3122c1d121', name='Greatlakes gen_scripts', endpoint_id='8c185a84-5c61-4bbc-b12b-11430e20010f', path='/umms-kdiba/Data/Output/gen_scripts/')\n",
    "all_log_file_df, most_recent_only_log_file_df = connect_man.get_greatlakes_gen_scripts_log_files(max_num_day_ago=1)\n",
    "most_recent_only_log_file_df"
   ]
  },
  {
   "cell_type": "markdown",
   "metadata": {},
   "source": [
    "## Copy these most recent logs to Apogee"
   ]
  },
  {
   "cell_type": "code",
   "execution_count": null,
   "metadata": {},
   "outputs": [],
   "source": [
    "## INPUTS: most_recent_only_log_file_df\n",
    "apogee_gen_scripts_folder_bookmark = Bookmark(bookmark_id='4f1229fe-3eba-11ef-9637-453c3ae125a5', name='Apogee - gen_scripts', endpoint_id='84991054-07b4-11ed-8d83-a54cf61939f8', path='/K/scratch/gen_scripts/')\n",
    "\n",
    "# r\"F:\\Data\\gen_script_logs\"\n",
    "\n",
    "\n",
    "active_file_paths: List[Path] = [Path(row.parent_path).joinpath(row.name) for row in most_recent_only_log_file_df.itertuples(name='LogFile')]\n",
    "\n",
    "## INPUTS: most_recent_only_log_file_paths\n",
    "\n",
    "src_lines: List[str] = [str(a_line.as_posix()) for a_line in active_file_paths]\n",
    "dest_lines: List[str] = [a_line.replace('/umms-kdiba/Data/Output/gen_scripts/', '/K/scratch/gen_scripts/', 1) for a_line in src_lines]\n",
    "\n",
    "## INPUTS: src_lines, dest_lines, apogee_gen_scripts_folder_bookmark, lab_Greatlakes_gen_scripts\n",
    "endpoint_relative_src_lines = [a_line for a_line in src_lines]\n",
    "endpoint_relative_dest_lines = [a_line for a_line in dest_lines]\n",
    "\n",
    "# ## Async:\n",
    "# _transfer_task = connect_man.batch_transfer_files(source_endpoint=lab_Greatlakes_gen_scripts.endpoint_id, destination_endpoint=apogee_gen_scripts_folder_bookmark.endpoint_id, filelist_source=endpoint_relative_src_lines, filelist_dest=endpoint_relative_dest_lines)\n",
    "# _transfer_task\n",
    "# Synchronously wait for transfer to complete\n",
    "pending_tasks, (completed_tasks, failed_tasks) = connect_man.batch_transfer_files(source_endpoint=lab_Greatlakes_gen_scripts.endpoint_id, destination_endpoint=apogee_gen_scripts_folder_bookmark.endpoint_id,\n",
    "\t\t\t\t\t\t\t\t\t\t\t\t\t\t\t\t\t\t\t\t   filelist_source=endpoint_relative_src_lines, filelist_dest=endpoint_relative_dest_lines,\n",
    "\t\t\t\t\t\t\t\t\t\t\t\t\t\t\t\t\t\t\t\t    synchronous_wait=True, label='GL->Apogee Batch Run Log Files')\n",
    "completed_tasks"
   ]
  },
  {
   "cell_type": "code",
   "execution_count": 13,
   "metadata": {},
   "outputs": [
    {
     "data": {
      "text/plain": [
       "'/umms-kdiba/Data/Output/gen_scripts/'"
      ]
     },
     "execution_count": 13,
     "metadata": {},
     "output_type": "execute_result"
    }
   ],
   "source": [
    "lab_Greatlakes_gen_scripts.path"
   ]
  },
  {
   "cell_type": "code",
   "execution_count": 14,
   "metadata": {},
   "outputs": [],
   "source": [
    "## Apogee:\n",
    "gen_scripts_GL_to_Apogee = TransferRequest(source_endpoint=lab_Greatlakes_gen_scripts,\n",
    "\t\t\t\tdest_endpoint=apogee_gen_scripts_folder_bookmark,\n",
    "\t\t\t\ttransfer_label='GL->Apogee Collected Outputs Files')\n"
   ]
  },
  {
   "cell_type": "code",
   "execution_count": 15,
   "metadata": {},
   "outputs": [
    {
     "name": "stdout",
     "output_type": "stream",
     "text": [
      "Submitted transfer task 420ea928-4395-11ef-9641-453c3ae125a5 with 15 files.\n"
     ]
    },
    {
     "data": {
      "text/plain": [
       "{'420ea928-4395-11ef-9641-453c3ae125a5': GlobusHTTPResponse({\n",
       "   \"DATA_TYPE\": \"transfer_result\",\n",
       "   \"code\": \"Accepted\",\n",
       "   \"message\": \"The transfer has been accepted and a task has been created and queued for execution\",\n",
       "   \"request_id\": \"CMDFMWPxS\",\n",
       "   \"resource\": \"/transfer\",\n",
       "   \"submission_id\": \"420ea929-4395-11ef-9641-453c3ae125a5\",\n",
       "   \"task_id\": \"420ea928-4395-11ef-9641-453c3ae125a5\",\n",
       "   \"task_link\": {\n",
       "     \"DATA_TYPE\": \"link\",\n",
       "     \"href\": \"task/420ea928-4395-11ef-9641-453c3ae125a5?format=json\",\n",
       "     \"rel\": \"related\",\n",
       "     \"resource\": \"task\",\n",
       "     \"title\": \"related task\"\n",
       "   }\n",
       " })}"
      ]
     },
     "execution_count": 15,
     "metadata": {},
     "output_type": "execute_result"
    }
   ],
   "source": [
    "## Lab\n",
    "gen_scripts_GL_to_Lab = TransferRequest(source_endpoint=lab_Greatlakes_gen_scripts,\n",
    "\t\t\t\tdest_endpoint=lab_RDLU0039_gen_scripts,\n",
    "\t\t\t\ttransfer_label='GL->Lab Collected Outputs Files')\n",
    "\n",
    "\n",
    "# ## rMBP\n",
    "# collected_outputs_GL_to_rMBP = TransferRequest(source_endpoint=lab_Greatlakes_gen_scripts,\n",
    "# \t\t\t\tdest_endpoint=rMBP_gen,\n",
    "# \t\t\t\ttransfer_label='GL->rMBP Collected Outputs Files')\n",
    "\n",
    "\n",
    "active_file_df: pd.DataFrame = deepcopy(most_recent_only_log_file_df)\n",
    "# connect_man.perform_copy_files(active_file_df=active_file_df, transfer=collected_outputs_GL_to_Apogee, synchronous_wait=False)\n",
    "connect_man.perform_copy_files(active_file_df=active_file_df, transfer=gen_scripts_GL_to_Lab, synchronous_wait=False)\n",
    "# connect_man.perform_copy_files(active_file_df=active_file_df, transfer=collected_outputs_GL_to_rMBP, synchronous_wait=False)"
   ]
  },
  {
   "cell_type": "markdown",
   "metadata": {},
   "source": [
    "# 2024-07-10 - Copying Greatlakes Collected Outputs Exported .CSVs"
   ]
  },
  {
   "cell_type": "code",
   "execution_count": 5,
   "metadata": {},
   "outputs": [],
   "source": [
    "\n",
    "\n",
    "top_level_parts_separators = ['-', '__']\n",
    "\n",
    "def get_only_most_recent_output_files(a_file_df: pd.DataFrame) -> pd.DataFrame:\n",
    "    \"\"\" returns a dataframe containing only the most recent '.err' and '.log' file for each session. \n",
    "    \n",
    "    from phoglobushelpers.compatibility_objects.Files import File, FilesystemDataType, FileList, get_only_most_recent_log_files\n",
    "    \n",
    "    \n",
    "    \"\"\"\n",
    "    df = deepcopy(a_file_df)\n",
    "    df['last_modified'] = pd.to_datetime(df['last_modified'])\n",
    "\n",
    "    # Separate .csv and .h5 files\n",
    "    csv_files = df[df['name'].str.endswith('.csv')]\n",
    "    h5_files = df[df['name'].str.endswith('.h5')]\n",
    "\n",
    "    # Get the most recent .err and .log file for each parent_path\n",
    "    most_recent_csv = csv_files.loc[csv_files.groupby('parent_path')['last_modified'].idxmax()]\n",
    "    most_recent_h5 = h5_files.loc[h5_files.groupby('parent_path')['last_modified'].idxmax()]\n",
    "\n",
    "    # Concatenate the results\n",
    "    most_recent_files = pd.concat([most_recent_csv, most_recent_h5]).sort_values(by=['parent_path', 'last_modified'], ascending=[True, False])\n",
    "    return most_recent_files\n",
    "\n",
    "\n",
    "\n",
    "# most_recent_only_csv_file_df = get_only_most_recent_log_files(log_file_df=all_file_df)"
   ]
  },
  {
   "cell_type": "code",
   "execution_count": 6,
   "metadata": {},
   "outputs": [
    {
     "name": "stdout",
     "output_type": "stream",
     "text": [
      "earliest_search_day_date: 2024-07-15\n",
      "WARNING: filter was modified to include \"type:dir\" because `should_list_recursively=True`. Otherwise no subdirectories would be returned.\n"
     ]
    },
    {
     "data": {
      "text/html": [
       "<div>\n",
       "<style scoped>\n",
       "    .dataframe tbody tr th:only-of-type {\n",
       "        vertical-align: middle;\n",
       "    }\n",
       "\n",
       "    .dataframe tbody tr th {\n",
       "        vertical-align: top;\n",
       "    }\n",
       "\n",
       "    .dataframe thead th {\n",
       "        text-align: right;\n",
       "    }\n",
       "</style>\n",
       "<table border=\"1\" class=\"dataframe\">\n",
       "  <thead>\n",
       "    <tr style=\"text-align: right;\">\n",
       "      <th></th>\n",
       "      <th>type</th>\n",
       "      <th>parent_path</th>\n",
       "      <th>name</th>\n",
       "      <th>last_modified</th>\n",
       "      <th>size</th>\n",
       "    </tr>\n",
       "  </thead>\n",
       "  <tbody>\n",
       "    <tr>\n",
       "      <th>0</th>\n",
       "      <td>file</td>\n",
       "      <td>/umms-kdiba/Data/Output/collected_outputs/</td>\n",
       "      <td>2024-07-16_GL-2006-6-09_1-22-43_merged_complete_epoch_stats_df.csv</td>\n",
       "      <td>2024-07-16 13:34:29+00:00</td>\n",
       "      <td>196773</td>\n",
       "    </tr>\n",
       "    <tr>\n",
       "      <th>1</th>\n",
       "      <td>file</td>\n",
       "      <td>/umms-kdiba/Data/Output/collected_outputs/</td>\n",
       "      <td>2024-07-16_GL-2006-6-08_21-16-25_merged_complete_epoch_stats_df.csv</td>\n",
       "      <td>2024-07-16 13:30:10+00:00</td>\n",
       "      <td>75320</td>\n",
       "    </tr>\n",
       "    <tr>\n",
       "      <th>2</th>\n",
       "      <td>file</td>\n",
       "      <td>/umms-kdiba/Data/Output/collected_outputs/</td>\n",
       "      <td>2024-07-16_GL-11-02_19-28-0_merged_complete_epoch_stats_df.csv</td>\n",
       "      <td>2024-07-16 13:17:36+00:00</td>\n",
       "      <td>21737</td>\n",
       "    </tr>\n",
       "    <tr>\n",
       "      <th>3</th>\n",
       "      <td>file</td>\n",
       "      <td>/umms-kdiba/Data/Output/collected_outputs/</td>\n",
       "      <td>2024-07-16_GL-2006-4-10_12-58-3_merged_complete_epoch_stats_df.csv</td>\n",
       "      <td>2024-07-16 13:17:18+00:00</td>\n",
       "      <td>30703</td>\n",
       "    </tr>\n",
       "    <tr>\n",
       "      <th>4</th>\n",
       "      <td>file</td>\n",
       "      <td>/umms-kdiba/Data/Output/collected_outputs/</td>\n",
       "      <td>2024-07-16_GL-11-02_17-46-44_merged_complete_epoch_stats_df.csv</td>\n",
       "      <td>2024-07-16 13:17:13+00:00</td>\n",
       "      <td>2614</td>\n",
       "    </tr>\n",
       "    <tr>\n",
       "      <th>...</th>\n",
       "      <td>...</td>\n",
       "      <td>...</td>\n",
       "      <td>...</td>\n",
       "      <td>...</td>\n",
       "      <td>...</td>\n",
       "    </tr>\n",
       "    <tr>\n",
       "      <th>1841</th>\n",
       "      <td>file</td>\n",
       "      <td>/umms-kdiba/Data/Output/collected_outputs/</td>\n",
       "      <td>2024-07-15_GL-2006-6-12_15-55-31_merged_complete_epoch_stats_df.csv</td>\n",
       "      <td>2024-07-16 00:02:45+00:00</td>\n",
       "      <td>44926</td>\n",
       "    </tr>\n",
       "    <tr>\n",
       "      <th>1842</th>\n",
       "      <td>file</td>\n",
       "      <td>/umms-kdiba/Data/Output/collected_outputs/</td>\n",
       "      <td>2024-07-15_0755PM-kdiba_gor01_two_2006-6-12_16-53-46-(laps_marginals_df)_tbin-0.25.csv</td>\n",
       "      <td>2024-07-15 23:57:26+00:00</td>\n",
       "      <td>8312</td>\n",
       "    </tr>\n",
       "    <tr>\n",
       "      <th>1843</th>\n",
       "      <td>file</td>\n",
       "      <td>/umms-kdiba/Data/Output/collected_outputs/</td>\n",
       "      <td>2024-07-15_0755PM-kdiba_gor01_two_2006-6-12_16-53-46-(laps_time_bin_marginals_df)_tbin-0.25.csv</td>\n",
       "      <td>2024-07-15 23:57:26+00:00</td>\n",
       "      <td>137459</td>\n",
       "    </tr>\n",
       "    <tr>\n",
       "      <th>1844</th>\n",
       "      <td>file</td>\n",
       "      <td>/umms-kdiba/Data/Output/collected_outputs/</td>\n",
       "      <td>2024-07-15_0755PM-kdiba_gor01_two_2006-6-12_16-53-46-(ripple_marginals_df)_tbin-0.025.csv</td>\n",
       "      <td>2024-07-15 23:57:26+00:00</td>\n",
       "      <td>12362</td>\n",
       "    </tr>\n",
       "    <tr>\n",
       "      <th>1845</th>\n",
       "      <td>file</td>\n",
       "      <td>/umms-kdiba/Data/Output/collected_outputs/</td>\n",
       "      <td>2024-07-15_0755PM-kdiba_gor01_two_2006-6-12_16-53-46-(ripple_time_bin_marginals_df)_tbin-0.025.csv</td>\n",
       "      <td>2024-07-15 23:57:26+00:00</td>\n",
       "      <td>79048</td>\n",
       "    </tr>\n",
       "  </tbody>\n",
       "</table>\n",
       "<p>1846 rows × 5 columns</p>\n",
       "</div>"
      ],
      "text/plain": [
       "      type                                 parent_path                                                                                                name              last_modified    size\n",
       "0     file  /umms-kdiba/Data/Output/collected_outputs/                                  2024-07-16_GL-2006-6-09_1-22-43_merged_complete_epoch_stats_df.csv  2024-07-16 13:34:29+00:00  196773\n",
       "1     file  /umms-kdiba/Data/Output/collected_outputs/                                 2024-07-16_GL-2006-6-08_21-16-25_merged_complete_epoch_stats_df.csv  2024-07-16 13:30:10+00:00   75320\n",
       "2     file  /umms-kdiba/Data/Output/collected_outputs/                                      2024-07-16_GL-11-02_19-28-0_merged_complete_epoch_stats_df.csv  2024-07-16 13:17:36+00:00   21737\n",
       "3     file  /umms-kdiba/Data/Output/collected_outputs/                                  2024-07-16_GL-2006-4-10_12-58-3_merged_complete_epoch_stats_df.csv  2024-07-16 13:17:18+00:00   30703\n",
       "4     file  /umms-kdiba/Data/Output/collected_outputs/                                     2024-07-16_GL-11-02_17-46-44_merged_complete_epoch_stats_df.csv  2024-07-16 13:17:13+00:00    2614\n",
       "...    ...                                         ...                                                                                                 ...                        ...     ...\n",
       "1841  file  /umms-kdiba/Data/Output/collected_outputs/                                 2024-07-15_GL-2006-6-12_15-55-31_merged_complete_epoch_stats_df.csv  2024-07-16 00:02:45+00:00   44926\n",
       "1842  file  /umms-kdiba/Data/Output/collected_outputs/              2024-07-15_0755PM-kdiba_gor01_two_2006-6-12_16-53-46-(laps_marginals_df)_tbin-0.25.csv  2024-07-15 23:57:26+00:00    8312\n",
       "1843  file  /umms-kdiba/Data/Output/collected_outputs/     2024-07-15_0755PM-kdiba_gor01_two_2006-6-12_16-53-46-(laps_time_bin_marginals_df)_tbin-0.25.csv  2024-07-15 23:57:26+00:00  137459\n",
       "1844  file  /umms-kdiba/Data/Output/collected_outputs/           2024-07-15_0755PM-kdiba_gor01_two_2006-6-12_16-53-46-(ripple_marginals_df)_tbin-0.025.csv  2024-07-15 23:57:26+00:00   12362\n",
       "1845  file  /umms-kdiba/Data/Output/collected_outputs/  2024-07-15_0755PM-kdiba_gor01_two_2006-6-12_16-53-46-(ripple_time_bin_marginals_df)_tbin-0.025.csv  2024-07-15 23:57:26+00:00   79048\n",
       "\n",
       "[1846 rows x 5 columns]"
      ]
     },
     "execution_count": 6,
     "metadata": {},
     "output_type": "execute_result"
    }
   ],
   "source": [
    "# lab_Turbo_collected_outputs_bookmark = Bookmark(bookmark_id='91181e28-f90d-11ee-9222-472b0fe4395a', name='KDIBA Lab Turbo - collected_outputs', endpoint_id='8c185a84-5c61-4bbc-b12b-11430e20010f', path='/umms-kdiba/Data/Output/collected_outputs/')\n",
    "# all_file_df: pd.DataFrame = connect_man.get_greatlakes_collected_outputs_files(max_num_day_ago=1, filter=\"name:~*.csv,~*.h5\")\n",
    "all_file_df: pd.DataFrame = connect_man.get_greatlakes_collected_outputs_files(max_num_day_ago=1, filter=\"name:~*.csv\")\n",
    "all_file_df"
   ]
  },
  {
   "cell_type": "code",
   "execution_count": 8,
   "metadata": {},
   "outputs": [],
   "source": [
    "outputs_folder = Path('../EXTERNAL/outputs').resolve()\n",
    "outputs_folder.mkdir(parents=True, exist_ok=True)\n",
    "day_date = '2024-07-16'\n",
    "csv_out_path = outputs_folder.joinpath(f'{day_date}_greatlakes_collected_outputs_csv_files.csv').resolve()\n",
    "# all_file_df.to_csv('greatlakes_collected_outputs_files.csv')\n",
    "all_file_df.to_csv(csv_out_path)"
   ]
  },
  {
   "cell_type": "markdown",
   "metadata": {},
   "source": [
    "## Copy these most recent files to Apogee"
   ]
  },
  {
   "cell_type": "code",
   "execution_count": 9,
   "metadata": {},
   "outputs": [
    {
     "name": "stdout",
     "output_type": "stream",
     "text": [
      "Submitted transfer task 7c466be6-4393-11ef-8896-2b3122c1d121 with 1000 files.\n",
      "Submitted transfer task 7cb4557a-4393-11ef-8896-2b3122c1d121 with 846 files.\n"
     ]
    },
    {
     "data": {
      "text/plain": [
       "{'7c466be6-4393-11ef-8896-2b3122c1d121': GlobusHTTPResponse({\n",
       "   \"DATA_TYPE\": \"transfer_result\",\n",
       "   \"code\": \"Accepted\",\n",
       "   \"message\": \"The transfer has been accepted and a task has been created and queued for execution\",\n",
       "   \"request_id\": \"9lDkgHig0\",\n",
       "   \"resource\": \"/transfer\",\n",
       "   \"submission_id\": \"7c466be7-4393-11ef-8896-2b3122c1d121\",\n",
       "   \"task_id\": \"7c466be6-4393-11ef-8896-2b3122c1d121\",\n",
       "   \"task_link\": {\n",
       "     \"DATA_TYPE\": \"link\",\n",
       "     \"href\": \"task/7c466be6-4393-11ef-8896-2b3122c1d121?format=json\",\n",
       "     \"rel\": \"related\",\n",
       "     \"resource\": \"task\",\n",
       "     \"title\": \"related task\"\n",
       "   }\n",
       " }),\n",
       " '7cb4557a-4393-11ef-8896-2b3122c1d121': GlobusHTTPResponse({\n",
       "   \"DATA_TYPE\": \"transfer_result\",\n",
       "   \"code\": \"Accepted\",\n",
       "   \"message\": \"The transfer has been accepted and a task has been created and queued for execution\",\n",
       "   \"request_id\": \"CsRNOwlAx\",\n",
       "   \"resource\": \"/transfer\",\n",
       "   \"submission_id\": \"7cb4557b-4393-11ef-8896-2b3122c1d121\",\n",
       "   \"task_id\": \"7cb4557a-4393-11ef-8896-2b3122c1d121\",\n",
       "   \"task_link\": {\n",
       "     \"DATA_TYPE\": \"link\",\n",
       "     \"href\": \"task/7cb4557a-4393-11ef-8896-2b3122c1d121?format=json\",\n",
       "     \"rel\": \"related\",\n",
       "     \"resource\": \"task\",\n",
       "     \"title\": \"related task\"\n",
       "   }\n",
       " })}"
      ]
     },
     "execution_count": 9,
     "metadata": {},
     "output_type": "execute_result"
    }
   ],
   "source": [
    "## Common\n",
    "source_endpoint = lab_Turbo_collected_outputs_bookmark\n",
    "source_endpoint_path = '/umms-kdiba/Data/Output/collected_outputs/'\n",
    "\n",
    "## Apogee:\n",
    "collected_outputs_GL_to_Apogee = TransferRequest(source_endpoint=lab_Turbo_collected_outputs_bookmark,\n",
    "\t\t\t\tdest_endpoint=apogee_collected_outputs_folder_bookmark,\n",
    "\t\t\t\ttransfer_label='GL->Apogee Collected Outputs Files')\n",
    "\n",
    "\n",
    "## Lab\n",
    "# new_path_root = '/home/halechr/FastData/collected_outputs/'\n",
    "# dest_endpoint = lab_RDLU0039_CollectedOutputs \n",
    "# transfer_label = 'GL->Lab Collected Outputs Files'\n",
    "collected_outputs_GL_to_Lab = TransferRequest(source_endpoint=lab_Turbo_collected_outputs_bookmark,\n",
    "\t\t\t\tdest_endpoint=lab_RDLU0039_CollectedOutputs,\n",
    "\t\t\t\ttransfer_label='GL->Lab Collected Outputs Files')\n",
    "\n",
    "\n",
    "## rMBP\n",
    "collected_outputs_GL_to_rMBP = TransferRequest(source_endpoint=lab_Turbo_collected_outputs_bookmark,\n",
    "\t\t\t\tdest_endpoint=rMBP_collected_outputs,\n",
    "\t\t\t\ttransfer_label='GL->rMBP Collected Outputs Files')\n",
    "\n",
    "\n",
    "active_file_df: pd.DataFrame = deepcopy(all_file_df)\n",
    "# connect_man.perform_copy_files(active_file_df=active_file_df, transfer=collected_outputs_GL_to_Apogee, synchronous_wait=False)\n",
    "connect_man.perform_copy_files(active_file_df=active_file_df, transfer=collected_outputs_GL_to_Lab, synchronous_wait=False)\n",
    "# connect_man.perform_copy_files(active_file_df=active_file_df, transfer=collected_outputs_GL_to_rMBP, synchronous_wait=False)\n"
   ]
  },
  {
   "cell_type": "code",
   "execution_count": null,
   "metadata": {},
   "outputs": [],
   "source": []
  }
 ],
 "metadata": {
  "kernelspec": {
   "display_name": "phoglobushelpers-0Z77HMOj-py3.11",
   "language": "python",
   "name": "python3"
  },
  "language_info": {
   "codemirror_mode": {
    "name": "ipython",
    "version": 3
   },
   "file_extension": ".py",
   "mimetype": "text/x-python",
   "name": "python",
   "nbconvert_exporter": "python",
   "pygments_lexer": "ipython3",
   "version": "3.11.9"
  },
  "orig_nbformat": 4
 },
 "nbformat": 4,
 "nbformat_minor": 2
}
