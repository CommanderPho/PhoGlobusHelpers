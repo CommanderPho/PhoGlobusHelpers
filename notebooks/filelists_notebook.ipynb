{
 "cells": [
  {
   "cell_type": "code",
   "execution_count": null,
   "metadata": {},
   "outputs": [],
   "source": [
    "/home/halechr/repos/PhoGlobusHelpers/filelists/GreatGDriveMigration2023/dirsize"
   ]
  },
  {
   "cell_type": "markdown",
   "metadata": {},
   "source": [
    "# 2023-09-12 - New Filelist Transfer"
   ]
  },
  {
   "cell_type": "code",
   "execution_count": 8,
   "metadata": {},
   "outputs": [
    {
     "data": {
      "text/html": [
       "<div>\n",
       "<style scoped>\n",
       "    .dataframe tbody tr th:only-of-type {\n",
       "        vertical-align: middle;\n",
       "    }\n",
       "\n",
       "    .dataframe tbody tr th {\n",
       "        vertical-align: top;\n",
       "    }\n",
       "\n",
       "    .dataframe thead th {\n",
       "        text-align: right;\n",
       "    }\n",
       "</style>\n",
       "<table border=\"1\" class=\"dataframe\">\n",
       "  <thead>\n",
       "    <tr style=\"text-align: right;\">\n",
       "      <th></th>\n",
       "      <th>name</th>\n",
       "      <th>modified_dt</th>\n",
       "      <th>size_bytes</th>\n",
       "    </tr>\n",
       "  </thead>\n",
       "  <tbody>\n",
       "    <tr>\n",
       "      <th>0</th>\n",
       "      <td>Hiro_10hrPost_reclustered/wake10hrPost-behavio...</td>\n",
       "      <td>2018-01-04 15:20:20</td>\n",
       "      <td>48898</td>\n",
       "    </tr>\n",
       "    <tr>\n",
       "      <th>1</th>\n",
       "      <td>Hiro_10hrPost_reclustered/wake10hrPost-basics.mat</td>\n",
       "      <td>2018-01-04 15:20:18</td>\n",
       "      <td>2260</td>\n",
       "    </tr>\n",
       "    <tr>\n",
       "      <th>2</th>\n",
       "      <td>RatJ/timestamps.npy</td>\n",
       "      <td>2020-01-19 17:46:39</td>\n",
       "      <td>13857681728</td>\n",
       "    </tr>\n",
       "    <tr>\n",
       "      <th>3</th>\n",
       "      <td>ReclusteredDatas/Hiro/readme.txt</td>\n",
       "      <td>2018-04-13 01:08:57</td>\n",
       "      <td>556</td>\n",
       "    </tr>\n",
       "    <tr>\n",
       "      <th>4</th>\n",
       "      <td>RatK/Day4Openfield/RatK_Day4_2019-08-16_04-42-...</td>\n",
       "      <td>2022-08-03 14:51:21</td>\n",
       "      <td>86624914</td>\n",
       "    </tr>\n",
       "    <tr>\n",
       "      <th>...</th>\n",
       "      <td>...</td>\n",
       "      <td>...</td>\n",
       "      <td>...</td>\n",
       "    </tr>\n",
       "    <tr>\n",
       "      <th>5607</th>\n",
       "      <td>RatV/RatVDay2SD/Raw_data/2021-10-04_08-15-13/R...</td>\n",
       "      <td>2021-10-04 09:02:23</td>\n",
       "      <td>128</td>\n",
       "    </tr>\n",
       "    <tr>\n",
       "      <th>5608</th>\n",
       "      <td>RatV/RatVDay2SD/Raw_data/2021-10-04_08-15-13/R...</td>\n",
       "      <td>2021-10-04 09:02:23</td>\n",
       "      <td>128</td>\n",
       "    </tr>\n",
       "    <tr>\n",
       "      <th>5609</th>\n",
       "      <td>RatV/RatVDay2SD/Raw_data/2021-10-04_08-15-13/R...</td>\n",
       "      <td>2021-10-04 09:02:23</td>\n",
       "      <td>128</td>\n",
       "    </tr>\n",
       "    <tr>\n",
       "      <th>5610</th>\n",
       "      <td>RatV/RatVDay2SD/Raw_data/2021-10-04_08-15-13/R...</td>\n",
       "      <td>2021-10-04 09:02:23</td>\n",
       "      <td>128</td>\n",
       "    </tr>\n",
       "    <tr>\n",
       "      <th>5611</th>\n",
       "      <td>RatV/RatVDay2SD/Raw_data/2021-10-04_08-15-13/R...</td>\n",
       "      <td>2021-10-04 09:02:23</td>\n",
       "      <td>128</td>\n",
       "    </tr>\n",
       "  </tbody>\n",
       "</table>\n",
       "<p>5612 rows × 3 columns</p>\n",
       "</div>"
      ],
      "text/plain": [
       "                                                   name          modified_dt  \\\n",
       "0     Hiro_10hrPost_reclustered/wake10hrPost-behavio...  2018-01-04 15:20:20   \n",
       "1     Hiro_10hrPost_reclustered/wake10hrPost-basics.mat  2018-01-04 15:20:18   \n",
       "2                                   RatJ/timestamps.npy  2020-01-19 17:46:39   \n",
       "3                      ReclusteredDatas/Hiro/readme.txt  2018-04-13 01:08:57   \n",
       "4     RatK/Day4Openfield/RatK_Day4_2019-08-16_04-42-...  2022-08-03 14:51:21   \n",
       "...                                                 ...                  ...   \n",
       "5607  RatV/RatVDay2SD/Raw_data/2021-10-04_08-15-13/R...  2021-10-04 09:02:23   \n",
       "5608  RatV/RatVDay2SD/Raw_data/2021-10-04_08-15-13/R...  2021-10-04 09:02:23   \n",
       "5609  RatV/RatVDay2SD/Raw_data/2021-10-04_08-15-13/R...  2021-10-04 09:02:23   \n",
       "5610  RatV/RatVDay2SD/Raw_data/2021-10-04_08-15-13/R...  2021-10-04 09:02:23   \n",
       "5611  RatV/RatVDay2SD/Raw_data/2021-10-04_08-15-13/R...  2021-10-04 09:02:23   \n",
       "\n",
       "       size_bytes  \n",
       "0           48898  \n",
       "1            2260  \n",
       "2     13857681728  \n",
       "3             556  \n",
       "4        86624914  \n",
       "...           ...  \n",
       "5607          128  \n",
       "5608          128  \n",
       "5609          128  \n",
       "5610          128  \n",
       "5611          128  \n",
       "\n",
       "[5612 rows x 3 columns]"
      ]
     },
     "execution_count": 8,
     "metadata": {},
     "output_type": "execute_result"
    }
   ],
   "source": [
    "from typing import List\n",
    "from pathlib import Path\n",
    "import numpy as np\n",
    "import pandas as pd\n",
    "\n",
    "def convert_filelist_to_new_parent(filelist_source: List[Path], original_parent_path: Path = Path(r'/media/MAX/cloud/turbo/Data'), dest_parent_path: Path = Path(r'/media/MAX/Data')):\n",
    "    \"\"\" Converts a list of file paths from their current parent, specified by `original_parent_path`, to their new parent `dest_parent_path` \"\"\"\n",
    "    filelist_dest = []\n",
    "    for path in filelist_source:\n",
    "        relative_path = str(path.relative_to(original_parent_path))\n",
    "        new_path = Path(dest_parent_path) / relative_path\n",
    "        filelist_dest.append(new_path)\n",
    "    return filelist_dest\n",
    "\n",
    "# Load filelist from disk\n",
    "# active_filelist_path = Path('/home/halechr/repo/PhoGlobusHelpers/filelists/session_results_filelist_2023-07-12.csv').resolve()\n",
    "active_filelist_path = Path('/home/halechr/repos/PhoGlobusHelpers/filelists/GreatGDriveMigration2023/dirsize/Bapun_dirsize.csv').resolve()\n",
    "\n",
    "filelist_df = pd.read_csv(active_filelist_path, header=0, names=[\"name\", \"modified_dt\", \"size_bytes\"])\n",
    "filelist_df\n"
   ]
  },
  {
   "cell_type": "code",
   "execution_count": 9,
   "metadata": {},
   "outputs": [
    {
     "data": {
      "text/plain": [
       "21955757.33845806"
      ]
     },
     "execution_count": 9,
     "metadata": {},
     "output_type": "execute_result"
    }
   ],
   "source": [
    "np.sum(filelist_df['size_bytes']/(1024.0 * 1024.0)) # Convert to GigaBytes (GB)\n",
    "\n"
   ]
  },
  {
   "cell_type": "code",
   "execution_count": 6,
   "metadata": {},
   "outputs": [
    {
     "data": {
      "text/plain": [
       "name           object\n",
       "modified_dt    object\n",
       "size_bytes      int64\n",
       "dtype: object"
      ]
     },
     "execution_count": 6,
     "metadata": {},
     "output_type": "execute_result"
    }
   ],
   "source": [
    "filelist_df.dtypes"
   ]
  },
  {
   "cell_type": "code",
   "execution_count": null,
   "metadata": {},
   "outputs": [],
   "source": [
    "filelist_source = [Path(a_path_str).resolve() for a_path_str in filelist_df.Path]\n",
    "\n",
    "\n",
    "\n",
    "source_parent_path = Path(r'/media/MAX/cloud/turbo/Data')\n",
    "dest_parent_path = Path(r'/media/MAX/Data')\n",
    "# # Build the destination filelist from the source_filelist and the two paths:\n",
    "filelist_dest = convert_filelist_to_new_parent(filelist_source, original_parent_path=source_parent_path, dest_parent_path=dest_parent_path)\n",
    "filelist_dest\n",
    "\n",
    "# filelist_source\n",
    "# filelist_dest"
   ]
  }
 ],
 "metadata": {
  "kernelspec": {
   "display_name": ".venv",
   "language": "python",
   "name": "python3"
  },
  "language_info": {
   "codemirror_mode": {
    "name": "ipython",
    "version": 3
   },
   "file_extension": ".py",
   "mimetype": "text/x-python",
   "name": "python",
   "nbconvert_exporter": "python",
   "pygments_lexer": "ipython3",
   "version": "3.11.5"
  },
  "orig_nbformat": 4
 },
 "nbformat": 4,
 "nbformat_minor": 2
}
