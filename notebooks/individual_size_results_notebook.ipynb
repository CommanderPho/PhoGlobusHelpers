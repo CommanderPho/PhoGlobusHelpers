{
 "cells": [
  {
   "cell_type": "code",
   "execution_count": 11,
   "metadata": {},
   "outputs": [
    {
     "name": "stdout",
     "output_type": "stream",
     "text": [
      "            Name  Total objects  Total Size (GiB)  unsizable_objects\n",
      "3     Data/KDIBA          10002         351.42300                0.0\n",
      "9      Data/Utku           2698        9695.23200                0.0\n",
      "6       Data/Nat          88774        7622.65600               49.0\n",
      "0     Data/Bapun           5615       21441.53600                2.0\n",
      "4   Data/Kourosh             84         312.21000                0.0\n",
      "8    Data/Rachel           2061        1128.44800                0.0\n",
      "1      Data/Hiro           8036        5110.78400                0.0\n",
      "5    Data/Laurel          32095        6787.07200                0.0\n",
      "2  Data/Jahangir           2720       15384.57600               37.0\n",
      "7    Data/Output            696           0.20768                0.0\n"
     ]
    }
   ],
   "source": [
    "import numpy as np\n",
    "import pandas as pd\n",
    "from pathlib import Path\n",
    "\n",
    "def sort_dataframe_by_explicit_list(df, column_name, explicit_order):\n",
    "    sorter_index = dict(zip(explicit_order, range(len(explicit_order))))\n",
    "    df['Rank'] = df[column_name].map(sorter_index)\n",
    "    return df.sort_values('Rank').drop('Rank', axis=1)\n",
    "\n",
    "\n",
    "# Raw data as string\n",
    "data_str = \"\"\"\n",
    "# Data/Bapun\n",
    "<5>NOTICE: Google drive root 'Data/Bapun': Size may be underestimated due to 2 objects with unknown size\n",
    "Total objects: 5.615k (5615)\n",
    "Total size: 20.939 TiB (23022337704558 Byte)\n",
    "Total objects with unknown size: 2 (2)\n",
    "\n",
    "# Data/Hiro:\n",
    "Total objects: 8.036k (8036)\n",
    "Total size: 4.991 TiB (5487246060762 Byte)\n",
    "\n",
    "# Data/Jahangir\n",
    "<5>NOTICE: Google drive root 'Data/Jahangir': Size may be underestimated due to 37 objects with unknown size\n",
    "Total objects: 2.720k (2720)\n",
    "Total size: 15.024 TiB (16519203892508 Byte)\n",
    "Total objects with unknown size: 37 (37)\n",
    "\n",
    "# Data/KDIBA\n",
    "Total objects: 10.002k (10002)\n",
    "Total size: 351.423 GiB (377337175347 Byte)\n",
    "\n",
    "# Data/Kourosh\n",
    "Total objects: 84 (84)\n",
    "Total size: 312.210 GiB (335233248677 Byte)\n",
    "\n",
    "# Data/Laurel\n",
    "Total objects: 32.095k (32095)\n",
    "Total size: 6.628 TiB (7287121141962 Byte)\n",
    "\n",
    "# Data/Nat\n",
    "<5>NOTICE: Google drive root 'Data/Nat': Size may be underestimated due to 49 objects with unknown size\n",
    "Total objects: 88.774k (88774)\n",
    "Total size: 7.444 TiB (8185217690135 Byte)\n",
    "Total objects with unknown size: 49 (49)\n",
    "\n",
    "# Data/Output\n",
    "Total objects: 696 (696)\n",
    "Total size: 212.664 MiB (222994516 Byte)\n",
    "\n",
    "# Data/Rachel\n",
    "Total objects: 2.061k (2061)\n",
    "Total size: 1.102 TiB (1211611387062 Byte)\n",
    "\n",
    "# Data/Utku\n",
    "Total objects: 2.698k (2698)\n",
    "Total size: 9.468 TiB (10409887413858 Byte)\n",
    "\"\"\"\n",
    "\n",
    "# Split the data into sections for each name\n",
    "sections = [section.strip() for section in data_str.split(\"#\") if section.strip()]\n",
    "\n",
    "# Extract the data for each section\n",
    "data = []\n",
    "for section in sections:\n",
    "    lines = section.split('\\n')\n",
    "    name = lines[0].replace(\":\", \"\").strip()\n",
    "    \n",
    "    # Extract total objects\n",
    "    total_objects_line = [line for line in lines if \"Total objects:\" in line][0]\n",
    "    total_objects = int(total_objects_line.split('(')[1].split(')')[0])\n",
    "    \n",
    "    # Extract total size and convert to GiB\n",
    "    total_size_line = [line for line in lines if \"Total size:\" in line][0]\n",
    "    size_value = float(total_size_line.split(' ')[2])\n",
    "    size_unit = total_size_line.split(' ')[3]\n",
    "    if size_unit == \"TiB\":\n",
    "        size_value *= 1024  # Convert TiB to GiB\n",
    "    elif size_unit == \"MiB\":\n",
    "        size_value /= 1024  # Convert MiB to GiB\n",
    "    \n",
    "    # Extract notice if exists\n",
    "    notice_line = [line for line in lines if \"NOTICE:\" in line]\n",
    "    notice = notice_line[0] if notice_line else \"\"\n",
    "    \n",
    "    data.append([name, total_objects, size_value, notice])\n",
    "\n",
    "# Convert data to DataFrame\n",
    "df = pd.DataFrame(data, columns=['Name', 'Total objects', 'Total Size (GiB)', 'Notes'])\n",
    "# Extracting 'Total objects with unknown size' information\n",
    "for section in sections:\n",
    "    lines = section.split('\\n')\n",
    "    name = lines[0].replace(\":\", \"\").strip()\n",
    "    \n",
    "    # Find the row with the given name\n",
    "    row_idx = df[df['Name'] == name].index[0]\n",
    "    \n",
    "    # Extract total objects with unknown size\n",
    "    unsizable_objects_line = [line for line in lines if \"Total objects with unknown size:\" in line]\n",
    "    if unsizable_objects_line:\n",
    "        unsizable_objects = int(unsizable_objects_line[0].split('(')[1].split(')')[0])\n",
    "    else:\n",
    "        unsizable_objects = 0\n",
    "    \n",
    "    df.at[row_idx, 'unsizable_objects'] = unsizable_objects\n",
    "\n",
    "\n",
    "df = df[['Name', 'Total objects', 'Total Size (GiB)', 'unsizable_objects']]\n",
    "df\n",
    "\n",
    "sorted_df = sort_dataframe_by_explicit_list(df, 'Name', ['Data/KDIBA','Data/Utku','Data/Nat','Data/Bapun','Data/Kourosh','Data/Rachel','Data/Hiro','Data/Laurel','Data/Jahangir'])\n",
    "print(sorted_df)"
   ]
  },
  {
   "cell_type": "code",
   "execution_count": 9,
   "metadata": {},
   "outputs": [
    {
     "name": "stdout",
     "output_type": "stream",
     "text": [
      "\n"
     ]
    }
   ],
   "source": [
    "df.to_clipboard(excel=True, index=False, sep=',')"
   ]
  },
  {
   "cell_type": "code",
   "execution_count": 12,
   "metadata": {},
   "outputs": [
    {
     "data": {
      "text/plain": [
       "67834.1446796875"
      ]
     },
     "execution_count": 12,
     "metadata": {},
     "output_type": "execute_result"
    }
   ],
   "source": [
    "total_combined_size_GB = df['Total Size (GiB)'].sum()\n",
    "total_combined_size_GB"
   ]
  },
  {
   "cell_type": "code",
   "execution_count": 14,
   "metadata": {},
   "outputs": [
    {
     "data": {
      "text/html": [
       "<div>\n",
       "<style scoped>\n",
       "    .dataframe tbody tr th:only-of-type {\n",
       "        vertical-align: middle;\n",
       "    }\n",
       "\n",
       "    .dataframe tbody tr th {\n",
       "        vertical-align: top;\n",
       "    }\n",
       "\n",
       "    .dataframe thead th {\n",
       "        text-align: right;\n",
       "    }\n",
       "</style>\n",
       "<table border=\"1\" class=\"dataframe\">\n",
       "  <thead>\n",
       "    <tr style=\"text-align: right;\">\n",
       "      <th></th>\n",
       "      <th>device</th>\n",
       "      <th>mount_point</th>\n",
       "      <th>fstype</th>\n",
       "      <th>total</th>\n",
       "      <th>used</th>\n",
       "      <th>free</th>\n",
       "      <th>percent</th>\n",
       "    </tr>\n",
       "  </thead>\n",
       "  <tbody>\n",
       "    <tr>\n",
       "      <th>30</th>\n",
       "      <td>/dev/sda2</td>\n",
       "      <td>/media/HugePort</td>\n",
       "      <td>exfat</td>\n",
       "      <td>20000.538624</td>\n",
       "      <td>19271.786693</td>\n",
       "      <td>728.751931</td>\n",
       "      <td>96.4</td>\n",
       "    </tr>\n",
       "    <tr>\n",
       "      <th>68</th>\n",
       "      <td>/dev/sdb1</td>\n",
       "      <td>/media/MAX</td>\n",
       "      <td>ext4</td>\n",
       "      <td>15873.631351</td>\n",
       "      <td>11699.510141</td>\n",
       "      <td>3374.059508</td>\n",
       "      <td>77.6</td>\n",
       "    </tr>\n",
       "    <tr>\n",
       "      <th>69</th>\n",
       "      <td>/dev/sdd1</td>\n",
       "      <td>/run/media/halechr/HUUUGE</td>\n",
       "      <td>btrfs</td>\n",
       "      <td>20000.580567</td>\n",
       "      <td>5764.704481</td>\n",
       "      <td>14234.491343</td>\n",
       "      <td>28.8</td>\n",
       "    </tr>\n",
       "  </tbody>\n",
       "</table>\n",
       "</div>"
      ],
      "text/plain": [
       "       device                mount_point fstype         total          used  \\\n",
       "30  /dev/sda2            /media/HugePort  exfat  20000.538624  19271.786693   \n",
       "68  /dev/sdb1                 /media/MAX   ext4  15873.631351  11699.510141   \n",
       "69  /dev/sdd1  /run/media/halechr/HUUUGE  btrfs  20000.580567   5764.704481   \n",
       "\n",
       "            free  percent  \n",
       "30    728.751931     96.4  \n",
       "68   3374.059508     77.6  \n",
       "69  14234.491343     28.8  "
      ]
     },
     "execution_count": 14,
     "metadata": {},
     "output_type": "execute_result"
    }
   ],
   "source": [
    "from phoglobushelpers.data_planning_helpers import get_mounted_disks_info, DiskInfo\n",
    "\n",
    "# Usage\n",
    "df = get_mounted_disks_info()\n",
    "included_mounts = ['/media/MAX', '/run/media/halechr/HUUUGE', '/media/HugePort']\n",
    "df = df[np.isin(df['mount_point'], included_mounts)]\n",
    "df"
   ]
  },
  {
   "cell_type": "code",
   "execution_count": 15,
   "metadata": {},
   "outputs": [
    {
     "data": {
      "text/plain": [
       "18337.302781952"
      ]
     },
     "execution_count": 15,
     "metadata": {},
     "output_type": "execute_result"
    }
   ],
   "source": [
    "df.free.sum()"
   ]
  },
  {
   "cell_type": "code",
   "execution_count": null,
   "metadata": {},
   "outputs": [],
   "source": [
    "'/media/MAX/cloud/turbo'\n",
    "'/media/MAX/cloud/Dropbox_Diba_Shared/MED-DibaLabDropbox'\n"
   ]
  },
  {
   "cell_type": "code",
   "execution_count": null,
   "metadata": {},
   "outputs": [],
   "source": [
    "# All refer to the same location\n",
    "['/media/MAX/cloud/Dropbox_Diba_Shared/MED-DibaLabDropbox/Data',\n",
    " '/media/HugePort/Data',\n",
    " '/media/MAX/Data',\n",
    " '/run/media/halechr/HUUUGE/Data',\n",
    " '/media/MAX/cloud/turbo/Data,'\n",
    "]\n",
    "\n"
   ]
  }
 ],
 "metadata": {
  "kernelspec": {
   "display_name": ".venv",
   "language": "python",
   "name": "python3"
  },
  "language_info": {
   "codemirror_mode": {
    "name": "ipython",
    "version": 3
   },
   "file_extension": ".py",
   "mimetype": "text/x-python",
   "name": "python",
   "nbconvert_exporter": "python",
   "pygments_lexer": "ipython3",
   "version": "3.11.5"
  },
  "orig_nbformat": 4
 },
 "nbformat": 4,
 "nbformat_minor": 2
}
