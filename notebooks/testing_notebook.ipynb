{
 "cells": [
  {
   "cell_type": "code",
   "execution_count": 1,
   "metadata": {},
   "outputs": [
    {
     "name": "stdout",
     "output_type": "stream",
     "text": [
      "Automatic pdb calling has been turned OFF\n"
     ]
    }
   ],
   "source": [
    "%config IPCompleter.use_jedi = False\n",
    "%pdb off\n",
    "# %load_ext viztracer\n",
    "# from viztracer import VizTracer\n",
    "%load_ext autoreload\n",
    "%autoreload 3\n",
    "import sys\n",
    "from pathlib import Path\n",
    "import os\n",
    "from datetime import datetime\n",
    "from typing import Any, List\n",
    "import pandas as pd\n",
    "import globus_sdk\n",
    "from globus_sdk import AccessTokenAuthorizer, TransferClient, TransferData\n",
    "from globus_sdk.scopes import TransferScopes\n",
    "from attrs import define, field, Factory\n",
    "\n",
    "from phoglobushelpers.PhoGlobusHelper import GlobusConnector, KnownEndpoints\n",
    "from phoglobushelpers.compatibility_objects.Bookmarks import Bookmark, BookmarkList\n",
    "from phoglobushelpers.compatibility_objects.Files import File, FilesystemDataType, FileList\n",
    "from phoglobushelpers.compatibility_objects.Tasks import FatalError, Task, TaskList"
   ]
  },
  {
   "cell_type": "code",
   "execution_count": 8,
   "metadata": {},
   "outputs": [
    {
     "name": "stdout",
     "output_type": "stream",
     "text": [
      "Please go to this URL and login: https://auth.globus.org/v2/oauth2/authorize?client_id=769d24e1-d1cc-4198-9ff7-2626485da449&redirect_uri=https%3A%2F%2Fauth.globus.org%2Fv2%2Fweb%2Fauth-code&scope=openid+profile+email+urn%3Aglobus%3Aauth%3Ascope%3Atransfer.api.globus.org%3Aall&state=_default&response_type=code&code_challenge=B3XumZhu--9WvSEGPxxfKnXw3Tt5i0SY-TbfhVT9rpY&code_challenge_method=S256&access_type=offline\n",
      "\t Copied url to clipboard!\n",
      "My Endpoints:\n",
      "[c3a90494-2555-11ec-a47d-a50ad076c282] aleinbook-linux\n",
      "[84991054-07b4-11ed-8d83-a54cf61939f8] Apogee\n",
      "[6d0251c4-2585-11ec-9e35-3df4ed83d858] Cubix Win10\n",
      "[c3578f36-42a8-11ec-a50f-b537d6c07c1d] FlatEdge_Server\n",
      "[af3fcfce-f664-11ed-9a7d-83ef71fbf0ae] LNX00052_Fedora\n",
      "[20c84240-1eb1-11eb-81b7-0e2f230cc907] Pho Personal Laptop\n",
      "[560d3a12-be20-11ed-9916-cb2cff506ca5] Pho_Personal_Testix\n",
      "[debb635c-2556-11ec-a47d-a50ad076c282] rMBP Pink Dot\n",
      "[e414f584-2556-11ec-a0a7-6b21ca6daf73] rMBP Pink Dot\n"
     ]
    }
   ],
   "source": [
    "connect_man = GlobusConnector.login_and_get_transfer_client()\n",
    "transfer_client = connect_man.transfer_client\n",
    "connect_man.list_endpoints()\n"
   ]
  },
  {
   "cell_type": "markdown",
   "metadata": {},
   "source": [
    "# Tasks"
   ]
  },
  {
   "cell_type": "code",
   "execution_count": null,
   "metadata": {},
   "outputs": [],
   "source": [
    "task_id = \"3bc6e65c-24f1-11ee-abf4-63e0d97254cd\""
   ]
  },
  {
   "cell_type": "code",
   "execution_count": null,
   "metadata": {},
   "outputs": [],
   "source": [
    "tasks_list = connect_man.get_tasks()\n",
    "tasks_list_df = tasks_list.to_dataframe()\n"
   ]
  },
  {
   "cell_type": "code",
   "execution_count": null,
   "metadata": {},
   "outputs": [],
   "source": [
    "tasks_list_df"
   ]
  },
  {
   "cell_type": "code",
   "execution_count": null,
   "metadata": {},
   "outputs": [],
   "source": [
    "# [Bookmark(bookmark_id='9a8eccc8-2558-11ec-a0a7-6b21ca6daf73', name='aleinbook-linux - PhoPy3DPositionAnalysis', endpoint_id='c3a90494-2555-11ec-a47d-a50ad076c282', path='/~/repo/PhoPy3DPositionAnalysis/'),\n",
    "#  Bookmark(bookmark_id='2a9f2464-01ad-11ee-be0e-195c41bc0be4', name='Apogee Data W', endpoint_id='84991054-07b4-11ed-8d83-a54cf61939f8', path='/~/W/Data/'),\n",
    "#  Bookmark(bookmark_id='caf6bf20-9c14-11ed-a29d-8383522b48d9', name='Apogee greatlakes_halechr Folder', endpoint_id='84991054-07b4-11ed-8d83-a54cf61939f8', path='/W/Data/greatlakes_halechr/'),\n",
    "#  Bookmark(bookmark_id='e1ef1556-4985-11ed-89d5-ede5bae4f491', name='Apogee Personal Dropbox Active', endpoint_id='84991054-07b4-11ed-8d83-a54cf61939f8', path='/E/Dropbox (Personal)/Active/'),\n",
    "#  Bookmark(bookmark_id='63655524-164e-11ee-bfba-195c41bc0be4', name='Apogee - PersonalFastSwapShare', endpoint_id='84991054-07b4-11ed-8d83-a54cf61939f8', path='/W/FastSwap/PersonalFastSwapShare/'),\n",
    "#  Bookmark(bookmark_id='1c725da6-203a-11ee-80bc-a3018385fcef', name='Apogee - ProgrammaticDisplayFunctionTesting', endpoint_id='84991054-07b4-11ed-8d83-a54cf61939f8', path='/C/Users/pho/repos/Spike3DWorkEnv/Spike3D/EXTERNAL/Screenshots/ProgrammaticDisplayFunctionTesting/'),\n",
    "#  Bookmark(bookmark_id='4152f10a-a17b-11ed-a2a4-8383522b48d9', name='Apogee R VMs', endpoint_id='84991054-07b4-11ed-8d83-a54cf61939f8', path='/R/FastSwap/Virtual Machines/'),\n",
    "#  Bookmark(bookmark_id='78ca952e-2586-11ec-9e35-3df4ed83d858', name='Cubix Win10 PhoPy3DPositionAnalysis2021', endpoint_id='6d0251c4-2585-11ec-9e35-3df4ed83d858', path='/~/repos/PhoPy3DPositionAnalysis2021/'),\n",
    "#  Bookmark(bookmark_id='e5c8531c-3b77-11ec-adf2-0748e6f5ffe3', name='Cubix Win10 - PhoPy3DPositionAnalysis2021 - data', endpoint_id='6d0251c4-2585-11ec-9e35-3df4ed83d858', path='/~/repos/PhoPy3DPositionAnalysis2021/data/'),\n",
    "#  Bookmark(bookmark_id='3844ee50-9826-11ed-a849-256017f36728', name='Diba Lab Workstation 2022 - Cloud', endpoint_id='f418ea94-07aa-11ed-8d83-a54cf61939f8', path='/home/halechr/cloud/'),\n",
    "#  Bookmark(bookmark_id='3995215e-b76a-11ed-a982-5f0e34a3cc4f', name='Diba Lab Workstation 2022 - Cloud - MED-DibaLabDropbox', endpoint_id='f418ea94-07aa-11ed-8d83-a54cf61939f8', path='/home/halechr/cloud/Dropbox_Diba_Shared/MED-DibaLabDropbox/'),\n",
    "#  Bookmark(bookmark_id='561e4ad0-b76a-11ed-a982-5f0e34a3cc4f', name='Diba Lab Workstation 2022 - Cloud - MED-DibaLabDropbox/Data/', endpoint_id='f418ea94-07aa-11ed-8d83-a54cf61939f8', path='/home/halechr/cloud/Dropbox_Diba_Shared/MED-DibaLabDropbox/Data/'),\n",
    "#  Bookmark(bookmark_id='ba158112-dfd2-11ed-9b9b-c9bb788c490e', name='Diba Lab Workstation 2022 - GDrive Diba Shared', endpoint_id='f418ea94-07aa-11ed-8d83-a54cf61939f8', path='/media/MAX/cloud/GDrive_Diba_Shared/Data/'),\n",
    "#  Bookmark(bookmark_id='55246d18-9ce3-11ed-b577-33287ee02ec7', name='Diba Lab Workstation 2022 - greatlakes homedir', endpoint_id='f418ea94-07aa-11ed-8d83-a54cf61939f8', path='/media/MAX/greatlakes_halechr/'),\n",
    "#  Bookmark(bookmark_id='f7bd6c36-9825-11ed-a849-256017f36728', name='Diba Lab Workstation 2022 - MAX', endpoint_id='f418ea94-07aa-11ed-8d83-a54cf61939f8', path='/media/MAX/Data/'),\n",
    "#  Bookmark(bookmark_id='431c951e-96c6-11ed-9b93-19370d280681', name='kdiba DataDen Data', endpoint_id='ab65757f-00f5-4e5b-aa21-133187732a01', path='/umms-dibalab/Data/'),\n",
    "#  Bookmark(bookmark_id='8ce139f8-9d46-11ed-a2a2-8383522b48d9', name='KDIBA Lab Turbo', endpoint_id='8c185a84-5c61-4bbc-b12b-11430e20010f', path='/umms-kdiba/'),\n",
    "#  Bookmark(bookmark_id='728fb3e8-2597-11ee-80c2-a3018385fcef', name='KDIBA Lab Turbo - Data Global Root Folder', endpoint_id='8c185a84-5c61-4bbc-b12b-11430e20010f', path='/umms-kdiba/Data/'),\n",
    "#  Bookmark(bookmark_id='248a9a30-164e-11ee-bfba-195c41bc0be4', name='LNX00052_Fedora - MAX', endpoint_id='af3fcfce-f664-11ed-9a7d-83ef71fbf0ae', path='/media/MAX/'),\n",
    "#  Bookmark(bookmark_id='af68b1ea-20c7-11ee-818f-195c41bc0be4', name='LNX00052_Fedora - ProgrammaticDisplayFunctionTesting', endpoint_id='af3fcfce-f664-11ed-9a7d-83ef71fbf0ae', path='/home/halechr/repo/Spike3D/EXTERNAL/Screenshots/ProgrammaticDisplayFunctionTesting/'),\n",
    "#  Bookmark(bookmark_id='034e1614-3c19-11ec-90c8-7fa38c35632a', name='NYU Langone Health DTN1 - Buzsakilab Public Datasets', endpoint_id='188a6110-96db-11eb-b7a9-f57b2d55370d', path='/'),\n",
    "#  Bookmark(bookmark_id='0bc636fc-3997-11ec-9f1c-db52857db67d', name='Pho Personal Laptop - Hiro_Datasets', endpoint_id='20c84240-1eb1-11eb-81b7-0e2f230cc907', path='/Volumes/iNeo/Data/Rotation_3_Kamran Diba Lab/DataProcessingProject/'),\n",
    "#  Bookmark(bookmark_id='1805df24-e618-11ed-9a63-83ef71fbf0ae', name='Pho Personal Laptop - PegasusR6 - Data', endpoint_id='20c84240-1eb1-11eb-81b7-0e2f230cc907', path='/Volumes/Pegasus R6/Data/'),\n",
    "#  Bookmark(bookmark_id='bc4aa210-3b77-11ec-adf2-0748e6f5ffe3', name='Pho Personal Laptop - PhoMatlabDataScripting Exported Data', endpoint_id='20c84240-1eb1-11eb-81b7-0e2f230cc907', path='/~/repo/Python Projects/PhoNeuronGillespie2021CodeRepo/PhoMatlabDataScripting/'),\n",
    "#  Bookmark(bookmark_id='8f77467e-2558-11ec-a0a7-6b21ca6daf73', name='Pho Personal Laptop - PhoPy3DPositionAnalysis', endpoint_id='20c84240-1eb1-11eb-81b7-0e2f230cc907', path='/~/repo/Python Projects/PhoPy3DPositionAnalysis/'),\n",
    "#  Bookmark(bookmark_id='99ce1e08-bdf1-11ed-8cec-f9fa098153fc', name='UMich Diba Turbo - Pho Directory', endpoint_id='8c185a84-5c61-4bbc-b12b-11430e20010f', path='/umms-kdiba/Pho/'),\n",
    "#  Bookmark(bookmark_id='b1668f08-2036-11ee-80bc-a3018385fcef', name='umich#greatlakes - halechr homedir', endpoint_id='454f457e-a41b-4807-8775-d132f15a228f', path='/home/halechr/'),\n",
    "#  Bookmark(bookmark_id='b0569b9c-2558-11ec-a0a7-6b21ca6daf73', name='umich#greatlakes - halechr home folder', endpoint_id='e0370902-9f48-11e9-821b-02b7a92d8e58', path='/~/'),\n",
    "#  Bookmark(bookmark_id='f479daf4-2039-11ee-80bc-a3018385fcef', name='umich#greatlakes - ProgrammaticDisplayFunctionTesting', endpoint_id='454f457e-a41b-4807-8775-d132f15a228f', path='/home/halechr/repos/Spike3D/EXTERNAL/Screenshots/ProgrammaticDisplayFunctionTesting/'),\n",
    "#  Bookmark(bookmark_id='bef81650-96c5-11ed-9b93-19370d280681', name='umms-dibalab DataDen', endpoint_id='ab65757f-00f5-4e5b-aa21-133187732a01', path='/umms-dibalab/')]\n",
    "\n",
    "bookmark_list = connect_man.get_bookmarks()\n",
    "bookmark_list.DATA"
   ]
  },
  {
   "cell_type": "code",
   "execution_count": 3,
   "metadata": {},
   "outputs": [
    {
     "data": {
      "text/plain": [
       "Bookmark(bookmark_id='728fb3e8-2597-11ee-80c2-a3018385fcef', name='KDIBA Lab Turbo - Data Global Root Folder', endpoint_id='8c185a84-5c61-4bbc-b12b-11430e20010f', path='/umms-kdiba/Data/')"
      ]
     },
     "execution_count": 3,
     "metadata": {},
     "output_type": "execute_result"
    }
   ],
   "source": [
    "lab_Turbo_data_folder_bookmark = Bookmark(bookmark_id='728fb3e8-2597-11ee-80c2-a3018385fcef', name='KDIBA Lab Turbo - Data Global Root Folder', endpoint_id='8c185a84-5c61-4bbc-b12b-11430e20010f', path='/umms-kdiba/Data/')\n",
    "lab_Turbo_data_folder_bookmark"
   ]
  },
  {
   "cell_type": "code",
   "execution_count": 4,
   "metadata": {},
   "outputs": [
    {
     "data": {
      "text/plain": [
       "Bookmark(bookmark_id='431c951e-96c6-11ed-9b93-19370d280681', name='kdiba DataDen Data', endpoint_id='ab65757f-00f5-4e5b-aa21-133187732a01', path='/umms-dibalab/Data/')"
      ]
     },
     "execution_count": 4,
     "metadata": {},
     "output_type": "execute_result"
    }
   ],
   "source": [
    "lab_DataDen_data_folder_bookmark = Bookmark(bookmark_id='431c951e-96c6-11ed-9b93-19370d280681', name='kdiba DataDen Data', endpoint_id='ab65757f-00f5-4e5b-aa21-133187732a01', path='/umms-dibalab/Data/')\n",
    "lab_DataDen_data_folder_bookmark"
   ]
  },
  {
   "cell_type": "code",
   "execution_count": 5,
   "metadata": {},
   "outputs": [],
   "source": [
    "# Figure Outputs:\n",
    "lab_Greatlakes_ProgrammaticDisplayFunctionTesting_bookmark = Bookmark(bookmark_id='f479daf4-2039-11ee-80bc-a3018385fcef', name='umich#greatlakes - ProgrammaticDisplayFunctionTesting', endpoint_id='454f457e-a41b-4807-8775-d132f15a228f', path='/home/halechr/repos/Spike3D/EXTERNAL/Screenshots/ProgrammaticDisplayFunctionTesting/')\n",
    "lab_LNX00052_Fedora_ProgrammaticDisplayFunctionTesting_bookmark = Bookmark(bookmark_id='af68b1ea-20c7-11ee-818f-195c41bc0be4', name='LNX00052_Fedora - ProgrammaticDisplayFunctionTesting', endpoint_id='af3fcfce-f664-11ed-9a7d-83ef71fbf0ae', path='/home/halechr/repo/Spike3D/EXTERNAL/Screenshots/ProgrammaticDisplayFunctionTesting/')\n",
    "home_Apogee_ProgrammaticDisplayFunctionTesting_bookmark = Bookmark(bookmark_id='1c725da6-203a-11ee-80bc-a3018385fcef', name='Apogee - ProgrammaticDisplayFunctionTesting', endpoint_id='84991054-07b4-11ed-8d83-a54cf61939f8', path='/C/Users/pho/repos/Spike3DWorkEnv/Spike3D/EXTERNAL/Screenshots/ProgrammaticDisplayFunctionTesting/')\n"
   ]
  },
  {
   "cell_type": "code",
   "execution_count": 6,
   "metadata": {},
   "outputs": [
    {
     "data": {
      "text/plain": [
       "Bookmark(bookmark_id='f479daf4-2039-11ee-80bc-a3018385fcef', name='umich#greatlakes - ProgrammaticDisplayFunctionTesting', endpoint_id='454f457e-a41b-4807-8775-d132f15a228f', path='/home/halechr/repos/Spike3D/EXTERNAL/Screenshots/ProgrammaticDisplayFunctionTesting/')"
      ]
     },
     "execution_count": 6,
     "metadata": {},
     "output_type": "execute_result"
    }
   ],
   "source": [
    "# target_bookmark: Bookmark = lab_DataDen_data_folder_bookmark\n",
    "# target_bookmark: Bookmark = lab_Turbo_data_folder_bookmark\n",
    "target_bookmark = lab_Greatlakes_ProgrammaticDisplayFunctionTesting_bookmark\n",
    "target_bookmark"
   ]
  },
  {
   "cell_type": "code",
   "execution_count": 14,
   "metadata": {},
   "outputs": [
    {
     "data": {
      "text/html": [
       "<div>\n",
       "<style scoped>\n",
       "    .dataframe tbody tr th:only-of-type {\n",
       "        vertical-align: middle;\n",
       "    }\n",
       "\n",
       "    .dataframe tbody tr th {\n",
       "        vertical-align: top;\n",
       "    }\n",
       "\n",
       "    .dataframe thead th {\n",
       "        text-align: right;\n",
       "    }\n",
       "</style>\n",
       "<table border=\"1\" class=\"dataframe\">\n",
       "  <thead>\n",
       "    <tr style=\"text-align: right;\">\n",
       "      <th></th>\n",
       "      <th>type</th>\n",
       "      <th>parent_path</th>\n",
       "      <th>name</th>\n",
       "      <th>last_modified</th>\n",
       "      <th>size</th>\n",
       "    </tr>\n",
       "  </thead>\n",
       "  <tbody>\n",
       "  </tbody>\n",
       "</table>\n",
       "</div>"
      ],
      "text/plain": [
       "Empty DataFrame\n",
       "Columns: [type, parent_path, name, last_modified, size]\n",
       "Index: []"
      ]
     },
     "execution_count": 14,
     "metadata": {},
     "output_type": "execute_result"
    }
   ],
   "source": [
    "file_list = connect_man.list_files(endpoint=target_bookmark.endpoint_id, path=target_bookmark.path, start_date=None, end_date=None, should_list_recursively=False)\n",
    "file_list.to_dataframe()"
   ]
  },
  {
   "cell_type": "code",
   "execution_count": 15,
   "metadata": {},
   "outputs": [
    {
     "data": {
      "text/html": [
       "<div>\n",
       "<style scoped>\n",
       "    .dataframe tbody tr th:only-of-type {\n",
       "        vertical-align: middle;\n",
       "    }\n",
       "\n",
       "    .dataframe tbody tr th {\n",
       "        vertical-align: top;\n",
       "    }\n",
       "\n",
       "    .dataframe thead th {\n",
       "        text-align: right;\n",
       "    }\n",
       "</style>\n",
       "<table border=\"1\" class=\"dataframe\">\n",
       "  <thead>\n",
       "    <tr style=\"text-align: right;\">\n",
       "      <th></th>\n",
       "      <th>type</th>\n",
       "      <th>parent_path</th>\n",
       "      <th>name</th>\n",
       "      <th>last_modified</th>\n",
       "      <th>size</th>\n",
       "    </tr>\n",
       "  </thead>\n",
       "  <tbody>\n",
       "    <tr>\n",
       "      <th>0</th>\n",
       "      <td>file</td>\n",
       "      <td>/home/halechr/repos/Spike3D/EXTERNAL/Screensho...</td>\n",
       "      <td>display_short_long_pf1D_comparison_long.png</td>\n",
       "      <td>2023-08-08 12:24:20+00:00</td>\n",
       "      <td>186365</td>\n",
       "    </tr>\n",
       "    <tr>\n",
       "      <th>1</th>\n",
       "      <td>file</td>\n",
       "      <td>/home/halechr/repos/Spike3D/EXTERNAL/Screensho...</td>\n",
       "      <td>display_short_long_pf1D_comparison_short.png</td>\n",
       "      <td>2023-08-08 12:24:22+00:00</td>\n",
       "      <td>210341</td>\n",
       "    </tr>\n",
       "    <tr>\n",
       "      <th>2</th>\n",
       "      <td>file</td>\n",
       "      <td>/home/halechr/repos/Spike3D/EXTERNAL/Screensho...</td>\n",
       "      <td>display_short_long_pf1D_comparison_long.png</td>\n",
       "      <td>2023-08-08 12:24:07+00:00</td>\n",
       "      <td>182772</td>\n",
       "    </tr>\n",
       "    <tr>\n",
       "      <th>3</th>\n",
       "      <td>file</td>\n",
       "      <td>/home/halechr/repos/Spike3D/EXTERNAL/Screensho...</td>\n",
       "      <td>display_short_long_pf1D_comparison_short.png</td>\n",
       "      <td>2023-08-08 12:24:09+00:00</td>\n",
       "      <td>218250</td>\n",
       "    </tr>\n",
       "    <tr>\n",
       "      <th>4</th>\n",
       "      <td>file</td>\n",
       "      <td>/home/halechr/repos/Spike3D/EXTERNAL/Screensho...</td>\n",
       "      <td>display_short_long_pf1D_comparison_long.png</td>\n",
       "      <td>2023-08-08 12:23:31+00:00</td>\n",
       "      <td>126148</td>\n",
       "    </tr>\n",
       "    <tr>\n",
       "      <th>5</th>\n",
       "      <td>file</td>\n",
       "      <td>/home/halechr/repos/Spike3D/EXTERNAL/Screensho...</td>\n",
       "      <td>display_short_long_pf1D_comparison_short.png</td>\n",
       "      <td>2023-08-08 12:23:34+00:00</td>\n",
       "      <td>134707</td>\n",
       "    </tr>\n",
       "    <tr>\n",
       "      <th>6</th>\n",
       "      <td>file</td>\n",
       "      <td>/home/halechr/repos/Spike3D/EXTERNAL/Screensho...</td>\n",
       "      <td>display_short_long_pf1D_comparison_long.png</td>\n",
       "      <td>2023-08-08 12:24:17+00:00</td>\n",
       "      <td>126852</td>\n",
       "    </tr>\n",
       "    <tr>\n",
       "      <th>7</th>\n",
       "      <td>file</td>\n",
       "      <td>/home/halechr/repos/Spike3D/EXTERNAL/Screensho...</td>\n",
       "      <td>display_short_long_pf1D_comparison_short.png</td>\n",
       "      <td>2023-08-08 12:24:19+00:00</td>\n",
       "      <td>155448</td>\n",
       "    </tr>\n",
       "    <tr>\n",
       "      <th>8</th>\n",
       "      <td>file</td>\n",
       "      <td>/home/halechr/repos/Spike3D/EXTERNAL/Screensho...</td>\n",
       "      <td>display_short_long_pf1D_comparison_long.png</td>\n",
       "      <td>2023-08-08 12:23:48+00:00</td>\n",
       "      <td>163832</td>\n",
       "    </tr>\n",
       "    <tr>\n",
       "      <th>9</th>\n",
       "      <td>file</td>\n",
       "      <td>/home/halechr/repos/Spike3D/EXTERNAL/Screensho...</td>\n",
       "      <td>display_short_long_pf1D_comparison_short.png</td>\n",
       "      <td>2023-08-08 12:23:52+00:00</td>\n",
       "      <td>192899</td>\n",
       "    </tr>\n",
       "    <tr>\n",
       "      <th>10</th>\n",
       "      <td>file</td>\n",
       "      <td>/home/halechr/repos/Spike3D/EXTERNAL/Screensho...</td>\n",
       "      <td>display_short_long_pf1D_comparison_long.png</td>\n",
       "      <td>2023-08-08 12:24:25+00:00</td>\n",
       "      <td>147765</td>\n",
       "    </tr>\n",
       "    <tr>\n",
       "      <th>11</th>\n",
       "      <td>file</td>\n",
       "      <td>/home/halechr/repos/Spike3D/EXTERNAL/Screensho...</td>\n",
       "      <td>display_short_long_pf1D_comparison_short.png</td>\n",
       "      <td>2023-08-08 12:24:27+00:00</td>\n",
       "      <td>194797</td>\n",
       "    </tr>\n",
       "    <tr>\n",
       "      <th>12</th>\n",
       "      <td>file</td>\n",
       "      <td>/home/halechr/repos/Spike3D/EXTERNAL/Screensho...</td>\n",
       "      <td>display_short_long_pf1D_comparison_long.png</td>\n",
       "      <td>2023-08-08 12:23:24+00:00</td>\n",
       "      <td>134227</td>\n",
       "    </tr>\n",
       "    <tr>\n",
       "      <th>13</th>\n",
       "      <td>file</td>\n",
       "      <td>/home/halechr/repos/Spike3D/EXTERNAL/Screensho...</td>\n",
       "      <td>display_short_long_pf1D_comparison_short.png</td>\n",
       "      <td>2023-08-08 12:23:27+00:00</td>\n",
       "      <td>140600</td>\n",
       "    </tr>\n",
       "    <tr>\n",
       "      <th>14</th>\n",
       "      <td>file</td>\n",
       "      <td>/home/halechr/repos/Spike3D/EXTERNAL/Screensho...</td>\n",
       "      <td>display_short_long_pf1D_comparison_long.png</td>\n",
       "      <td>2023-08-08 12:23:50+00:00</td>\n",
       "      <td>101070</td>\n",
       "    </tr>\n",
       "    <tr>\n",
       "      <th>15</th>\n",
       "      <td>file</td>\n",
       "      <td>/home/halechr/repos/Spike3D/EXTERNAL/Screensho...</td>\n",
       "      <td>display_short_long_pf1D_comparison_short.png</td>\n",
       "      <td>2023-08-08 12:23:52+00:00</td>\n",
       "      <td>109320</td>\n",
       "    </tr>\n",
       "  </tbody>\n",
       "</table>\n",
       "</div>"
      ],
      "text/plain": [
       "    type                                        parent_path  \\\n",
       "0   file  /home/halechr/repos/Spike3D/EXTERNAL/Screensho...   \n",
       "1   file  /home/halechr/repos/Spike3D/EXTERNAL/Screensho...   \n",
       "2   file  /home/halechr/repos/Spike3D/EXTERNAL/Screensho...   \n",
       "3   file  /home/halechr/repos/Spike3D/EXTERNAL/Screensho...   \n",
       "4   file  /home/halechr/repos/Spike3D/EXTERNAL/Screensho...   \n",
       "5   file  /home/halechr/repos/Spike3D/EXTERNAL/Screensho...   \n",
       "6   file  /home/halechr/repos/Spike3D/EXTERNAL/Screensho...   \n",
       "7   file  /home/halechr/repos/Spike3D/EXTERNAL/Screensho...   \n",
       "8   file  /home/halechr/repos/Spike3D/EXTERNAL/Screensho...   \n",
       "9   file  /home/halechr/repos/Spike3D/EXTERNAL/Screensho...   \n",
       "10  file  /home/halechr/repos/Spike3D/EXTERNAL/Screensho...   \n",
       "11  file  /home/halechr/repos/Spike3D/EXTERNAL/Screensho...   \n",
       "12  file  /home/halechr/repos/Spike3D/EXTERNAL/Screensho...   \n",
       "13  file  /home/halechr/repos/Spike3D/EXTERNAL/Screensho...   \n",
       "14  file  /home/halechr/repos/Spike3D/EXTERNAL/Screensho...   \n",
       "15  file  /home/halechr/repos/Spike3D/EXTERNAL/Screensho...   \n",
       "\n",
       "                                            name              last_modified  \\\n",
       "0    display_short_long_pf1D_comparison_long.png  2023-08-08 12:24:20+00:00   \n",
       "1   display_short_long_pf1D_comparison_short.png  2023-08-08 12:24:22+00:00   \n",
       "2    display_short_long_pf1D_comparison_long.png  2023-08-08 12:24:07+00:00   \n",
       "3   display_short_long_pf1D_comparison_short.png  2023-08-08 12:24:09+00:00   \n",
       "4    display_short_long_pf1D_comparison_long.png  2023-08-08 12:23:31+00:00   \n",
       "5   display_short_long_pf1D_comparison_short.png  2023-08-08 12:23:34+00:00   \n",
       "6    display_short_long_pf1D_comparison_long.png  2023-08-08 12:24:17+00:00   \n",
       "7   display_short_long_pf1D_comparison_short.png  2023-08-08 12:24:19+00:00   \n",
       "8    display_short_long_pf1D_comparison_long.png  2023-08-08 12:23:48+00:00   \n",
       "9   display_short_long_pf1D_comparison_short.png  2023-08-08 12:23:52+00:00   \n",
       "10   display_short_long_pf1D_comparison_long.png  2023-08-08 12:24:25+00:00   \n",
       "11  display_short_long_pf1D_comparison_short.png  2023-08-08 12:24:27+00:00   \n",
       "12   display_short_long_pf1D_comparison_long.png  2023-08-08 12:23:24+00:00   \n",
       "13  display_short_long_pf1D_comparison_short.png  2023-08-08 12:23:27+00:00   \n",
       "14   display_short_long_pf1D_comparison_long.png  2023-08-08 12:23:50+00:00   \n",
       "15  display_short_long_pf1D_comparison_short.png  2023-08-08 12:23:52+00:00   \n",
       "\n",
       "      size  \n",
       "0   186365  \n",
       "1   210341  \n",
       "2   182772  \n",
       "3   218250  \n",
       "4   126148  \n",
       "5   134707  \n",
       "6   126852  \n",
       "7   155448  \n",
       "8   163832  \n",
       "9   192899  \n",
       "10  147765  \n",
       "11  194797  \n",
       "12  134227  \n",
       "13  140600  \n",
       "14  101070  \n",
       "15  109320  "
      ]
     },
     "execution_count": 15,
     "metadata": {},
     "output_type": "execute_result"
    }
   ],
   "source": [
    "recent_file_list = connect_man.list_files(endpoint=target_bookmark.endpoint_id, path=target_bookmark.path, start_date=\"2023-08-07\", end_date=None, should_list_recursively=True)\n",
    "recent_file_list.to_dataframe() #.columns"
   ]
  },
  {
   "cell_type": "code",
   "execution_count": null,
   "metadata": {},
   "outputs": [],
   "source": [
    "recent_file_list = connect_man.list_files(endpoint=home_Apogee_ProgrammaticDisplayFunctionTesting_bookmark.endpoint_id, path=home_Apogee_ProgrammaticDisplayFunctionTesting_bookmark.path, start_date=\"2023-08-07\", end_date=None, should_list_recursively=True)\n",
    "recent_file_list.to_dataframe() #.columns"
   ]
  },
  {
   "cell_type": "code",
   "execution_count": null,
   "metadata": {},
   "outputs": [],
   "source": [
    "recent_file_list = connect_man.list_files(endpoint=target_bookmark.endpoint_id, path=target_bookmark.path, start_date=\"2023-08-07\", end_date=None, should_list_recursively=True)\n",
    "recent_file_list # 1m 44.7 sec"
   ]
  },
  {
   "cell_type": "code",
   "execution_count": null,
   "metadata": {},
   "outputs": [],
   "source": [
    "recent_file_list_df = recent_file_list.to_dataframe()\n",
    "recent_file_list_df"
   ]
  },
  {
   "cell_type": "code",
   "execution_count": null,
   "metadata": {},
   "outputs": [],
   "source": [
    "recent_file_list.path"
   ]
  },
  {
   "cell_type": "markdown",
   "metadata": {},
   "source": [
    "# Loading filelists:"
   ]
  },
  {
   "cell_type": "code",
   "execution_count": null,
   "metadata": {},
   "outputs": [],
   "source": [
    "from phoglobushelpers.path_helpers import convert_filelist_to_new_parent, read_lines_from_file, find_matching_parent_path, known_global_data_root_parent_paths\n",
    "\n",
    "\n",
    "filelist_source_path = Path('../filelists/fileList_Greatlakes_2023-08-07.txt').resolve()\n",
    "src_lines = read_lines_from_file(filelist_source_path)\n",
    "\n",
    "filelist_dest_path = '../filelists/dest_fileList_Apogee_2023-08-07.txt'\n",
    "dest_lines = read_lines_from_file(filelist_dest_path)\n",
    "\n",
    "\n",
    "filelist_source_path = Path('../filelists/fileList_Greatlakes_HDF5_2023-08-07.txt').resolve()\n",
    "src_lines = read_lines_from_file(filelist_source_path)\n"
   ]
  },
  {
   "cell_type": "code",
   "execution_count": null,
   "metadata": {},
   "outputs": [],
   "source": [
    "filelist_source_path = Path('../filelists/fileList_Greatlakes_pkls_2023-08-07.txt').resolve()\n",
    "src_lines = read_lines_from_file(filelist_source_path)\n",
    "src_lines"
   ]
  },
  {
   "cell_type": "code",
   "execution_count": null,
   "metadata": {},
   "outputs": [],
   "source": [
    "filelist_source_path = Path('../filelists/fileList_Greatlakes_HDF5_2023-08-07.txt').resolve()\n",
    "src_lines = read_lines_from_file(filelist_source_path)\n",
    "src_lines"
   ]
  },
  {
   "cell_type": "code",
   "execution_count": null,
   "metadata": {},
   "outputs": [],
   "source": [
    "src_lines = [a_line.replace('/nfs/turbo/umms-kdiba/Data/', '/umms-kdiba/Data/', 1) for a_line in src_lines]\n",
    "src_lines\n",
    "\n",
    "dest_lines = [a_line.replace('/umms-kdiba/Data/', '/~/W/Data/', 1) for a_line in src_lines]\n",
    "dest_lines"
   ]
  },
  {
   "cell_type": "code",
   "execution_count": null,
   "metadata": {},
   "outputs": [],
   "source": [
    "from pathlib import Path\n",
    "\n",
    "\n",
    "curr_filelist = [Path(a_line) for a_line in src_lines]\n",
    "\n",
    "desired_global_data_root_parent_path = Path('/~/W/Data/')\n",
    "prev_global_data_root_parent_path = find_matching_parent_path(known_global_data_root_parent_paths, curr_filelist[0]) # TODO: assumes all have the same root, which is a valid assumption so far. ## prev_global_data_root_parent_path should contain the matching path from the list.\n",
    "assert prev_global_data_root_parent_path is not None, f\"No matching root parent path could be found!!\"\n",
    "converted_dest_paths = convert_filelist_to_new_parent(curr_filelist, original_parent_path=prev_global_data_root_parent_path, dest_parent_path=desired_global_data_root_parent_path)\n",
    "dest_lines = [str(a_path) for a_path in converted_dest_paths]\n",
    "dest_lines\n",
    "converted_dest_paths[0]"
   ]
  },
  {
   "cell_type": "code",
   "execution_count": null,
   "metadata": {},
   "outputs": [],
   "source": [
    "from phoglobushelpers.path_helpers import convert_filelist_to_new_parent\n",
    "\n",
    "# source_parent_path = Path(r'/media/MAX/cloud/turbo/Data')\n",
    "source_parent_path = Path(r'/nfs/turbo/umms-kdiba/Data')\n",
    "dest_parent_path = Path(r'/~/W/Data/')\n",
    "# # Build the destination filelist from the source_filelist and the two paths:\n",
    "filelist_source = hdf5_output_paths\n",
    "filelist_dest_paths = convert_filelist_to_new_parent(filelist_source, original_parent_path=source_parent_path, dest_parent_path=dest_parent_path)\n",
    "filelist_dest_paths"
   ]
  },
  {
   "cell_type": "markdown",
   "metadata": {},
   "source": []
  },
  {
   "cell_type": "code",
   "execution_count": null,
   "metadata": {},
   "outputs": [],
   "source": [
    "apogee_data_folder_bookmark = Bookmark(bookmark_id='2a9f2464-01ad-11ee-be0e-195c41bc0be4', name='Apogee Data W', endpoint_id='84991054-07b4-11ed-8d83-a54cf61939f8', path='/~/W/Data/')\n",
    "lab_Turbo_data_folder_bookmark = Bookmark(bookmark_id='728fb3e8-2597-11ee-80c2-a3018385fcef', name='KDIBA Lab Turbo - Data Global Root Folder', endpoint_id='8c185a84-5c61-4bbc-b12b-11430e20010f', path='/umms-kdiba/Data/')\n",
    "\n",
    "# endpoint_relative_src_lines = [a_line.replace('/umms-kdiba/Data/', '/', 1) for a_line in src_lines]\n",
    "# endpoint_relative_dest_lines = [a_line.replace('/~/W/Data/', '/', 1) for a_line in dest_lines]\n",
    "\n",
    "endpoint_relative_src_lines = [a_line for a_line in src_lines]\n",
    "endpoint_relative_dest_lines = [a_line for a_line in dest_lines]\n",
    "_transfer_task = connect_man.batch_transfer_files(source_endpoint=lab_Turbo_data_folder_bookmark.endpoint_id, destination_endpoint=apogee_data_folder_bookmark.endpoint_id, filelist_source=endpoint_relative_src_lines, filelist_dest=endpoint_relative_dest_lines, max_single_file_wait_time_seconds=60.0)\n",
    "_transfer_task"
   ]
  },
  {
   "cell_type": "code",
   "execution_count": null,
   "metadata": {},
   "outputs": [],
   "source": [
    "unique_rows_df = spikes_df.spikes.extract_unique_neuron_identities()"
   ]
  }
 ],
 "metadata": {
  "kernelspec": {
   "display_name": "phoglobushelpers-0Z77HMOj-py3.11",
   "language": "python",
   "name": "python3"
  },
  "language_info": {
   "codemirror_mode": {
    "name": "ipython",
    "version": 3
   },
   "file_extension": ".py",
   "mimetype": "text/x-python",
   "name": "python",
   "nbconvert_exporter": "python",
   "pygments_lexer": "ipython3",
   "version": "3.11.4"
  },
  "orig_nbformat": 4
 },
 "nbformat": 4,
 "nbformat_minor": 2
}
