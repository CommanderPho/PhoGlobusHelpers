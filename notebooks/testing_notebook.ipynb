{
 "cells": [
  {
   "cell_type": "code",
   "execution_count": 2,
   "metadata": {},
   "outputs": [
    {
     "name": "stdout",
     "output_type": "stream",
     "text": [
      "Automatic pdb calling has been turned OFF\n"
     ]
    }
   ],
   "source": [
    "%config IPCompleter.use_jedi = False\n",
    "%pdb off\n",
    "# %load_ext viztracer\n",
    "# from viztracer import VizTracer\n",
    "%load_ext autoreload\n",
    "%autoreload 3\n",
    "import sys\n",
    "from pathlib import Path\n",
    "import os\n",
    "from datetime import datetime, date, timedelta\n",
    "from typing import Any, List, Dict, Union, Tuple\n",
    "import pandas as pd\n",
    "\n",
    "## Enable full-width pandas dataframe columns so the paths and filenames always fit\n",
    "pd.set_option('display.max_colwidth', None)\n",
    "pd.set_option('display.expand_frame_repr', False)\n",
    "# /umms-kdiba/Data/Output/gen_scripts/\n",
    "\n",
    "import globus_sdk\n",
    "from globus_sdk import AccessTokenAuthorizer, TransferClient, TransferData\n",
    "from globus_sdk.scopes import TransferScopes\n",
    "from attrs import define, field, Factory\n",
    "\n",
    "from phoglobushelpers.PhoGlobusHelper import GlobusConnector, KnownEndpoints\n",
    "from phoglobushelpers.compatibility_objects.Bookmarks import Bookmark, BookmarkList\n",
    "from phoglobushelpers.compatibility_objects.Files import File, FilesystemDataType, FileList\n",
    "from phoglobushelpers.compatibility_objects.Tasks import FatalError, Task, TaskList"
   ]
  },
  {
   "cell_type": "code",
   "execution_count": 3,
   "metadata": {},
   "outputs": [
    {
     "name": "stdout",
     "output_type": "stream",
     "text": [
      "Please go to this URL and login: https://auth.globus.org/v2/oauth2/authorize?client_id=769d24e1-d1cc-4198-9ff7-2626485da449&redirect_uri=https%3A%2F%2Fauth.globus.org%2Fv2%2Fweb%2Fauth-code&scope=openid+profile+email+urn%3Aglobus%3Aauth%3Ascope%3Atransfer.api.globus.org%3Aall&state=_default&response_type=code&code_challenge=sQa9kbwYbTYzoqlujYZVvM3UYYBqjW_1SXt0Ocgyf-E&code_challenge_method=S256&access_type=offline\n",
      "\t Copied url to clipboard!\n"
     ]
    },
    {
     "name": "stdout",
     "output_type": "stream",
     "text": [
      "My Endpoints:\n",
      "[c3a90494-2555-11ec-a47d-a50ad076c282] aleinbook-linux\n",
      "[df4149a0-9925-11ee-be43-c52a29481bea] Aleinware\n",
      "[84991054-07b4-11ed-8d83-a54cf61939f8] Apogee\n",
      "[6d0251c4-2585-11ec-9e35-3df4ed83d858] Cubix Win10\n",
      "[c3578f36-42a8-11ec-a50f-b537d6c07c1d] FlatEdge_Server\n",
      "[af3fcfce-f664-11ed-9a7d-83ef71fbf0ae] LNX00052_Fedora\n",
      "[44727efc-c21b-11ee-89e3-5130436d8581] LNX00052_Ubuntu\n",
      "[2621bd72-f688-11ee-b6ec-473d136f742f] MM2\n",
      "[20c84240-1eb1-11eb-81b7-0e2f230cc907] Pho Personal Laptop\n",
      "[560d3a12-be20-11ed-9916-cb2cff506ca5] Pho_Personal_Testix\n",
      "[cee0aaec-3e3b-11ef-9637-453c3ae125a5] RDLU0039_DibaLabWorkstation\n",
      "[debb635c-2556-11ec-a47d-a50ad076c282] rMBP Pink Dot\n",
      "[e414f584-2556-11ec-a0a7-6b21ca6daf73] rMBP Pink Dot\n",
      "[41b8fb12-516b-11ee-8a4b-b1038a0991ac] rMBP-PinkDot\n",
      "[3fc00ebe-f142-11ee-91fe-472b0fe4395a] TempVM_VS_NonGPU\n"
     ]
    }
   ],
   "source": [
    "connect_man = GlobusConnector.login_and_get_transfer_client()\n",
    "transfer_client = connect_man.transfer_client\n",
    "connect_man.list_endpoints()\n"
   ]
  },
  {
   "cell_type": "markdown",
   "metadata": {},
   "source": [
    "# Tasks"
   ]
  },
  {
   "cell_type": "code",
   "execution_count": null,
   "metadata": {},
   "outputs": [],
   "source": [
    "task_id = \"a5bba88c-fba0-11ee-9063-1f4fee4027cc\""
   ]
  },
  {
   "cell_type": "code",
   "execution_count": 44,
   "metadata": {},
   "outputs": [
    {
     "data": {
      "text/html": [
       "<div>\n",
       "<style scoped>\n",
       "    .dataframe tbody tr th:only-of-type {\n",
       "        vertical-align: middle;\n",
       "    }\n",
       "\n",
       "    .dataframe tbody tr th {\n",
       "        vertical-align: top;\n",
       "    }\n",
       "\n",
       "    .dataframe thead th {\n",
       "        text-align: right;\n",
       "    }\n",
       "</style>\n",
       "<table border=\"1\" class=\"dataframe\">\n",
       "  <thead>\n",
       "    <tr style=\"text-align: right;\">\n",
       "      <th></th>\n",
       "      <th>bytes_checksummed</th>\n",
       "      <th>bytes_transferred</th>\n",
       "      <th>canceled_by_admin</th>\n",
       "      <th>canceled_by_admin_message</th>\n",
       "      <th>command</th>\n",
       "      <th>completion_time</th>\n",
       "      <th>deadline</th>\n",
       "      <th>delete_destination_extra</th>\n",
       "      <th>destination_endpoint</th>\n",
       "      <th>destination_endpoint_display_name</th>\n",
       "      <th>...</th>\n",
       "      <th>subtasks_retrying</th>\n",
       "      <th>subtasks_skipped_errors</th>\n",
       "      <th>subtasks_succeeded</th>\n",
       "      <th>subtasks_total</th>\n",
       "      <th>symlinks</th>\n",
       "      <th>sync_level</th>\n",
       "      <th>task_id</th>\n",
       "      <th>type</th>\n",
       "      <th>username</th>\n",
       "      <th>verify_checksum</th>\n",
       "    </tr>\n",
       "  </thead>\n",
       "  <tbody>\n",
       "    <tr>\n",
       "      <th>0</th>\n",
       "      <td>0</td>\n",
       "      <td>901832024</td>\n",
       "      <td>None</td>\n",
       "      <td>None</td>\n",
       "      <td>API 0.10 go</td>\n",
       "      <td>2024-04-11T14:17:42+00:00</td>\n",
       "      <td>2024-07-08T14:19:23+00:00</td>\n",
       "      <td>False</td>\n",
       "      <td>u_upma7q3dzfeqzg454wkb7lyqe4#3fc00ebe-f142-11ee-91fe-472b0fe4395a</td>\n",
       "      <td>TempVM_VS_NonGPU</td>\n",
       "      <td>...</td>\n",
       "      <td>0</td>\n",
       "      <td>2537</td>\n",
       "      <td>11077</td>\n",
       "      <td>56093</td>\n",
       "      <td>0</td>\n",
       "      <td>NaN</td>\n",
       "      <td>cca332b4-f1ee-11ee-b6d4-473d136f742f</td>\n",
       "      <td>TRANSFER</td>\n",
       "      <td>u_upma7q3dzfeqzg454wkb7lyqe4</td>\n",
       "      <td>False</td>\n",
       "    </tr>\n",
       "    <tr>\n",
       "      <th>1</th>\n",
       "      <td>0</td>\n",
       "      <td>128743332848</td>\n",
       "      <td>None</td>\n",
       "      <td>None</td>\n",
       "      <td>API 0.10 go</td>\n",
       "      <td>2024-04-11T15:41:54+00:00</td>\n",
       "      <td>2024-04-14T15:10:30+00:00</td>\n",
       "      <td>False</td>\n",
       "      <td>u_upma7q3dzfeqzg454wkb7lyqe4#20c84240-1eb1-11eb-81b7-0e2f230cc907</td>\n",
       "      <td>Pho Personal Laptop</td>\n",
       "      <td>...</td>\n",
       "      <td>0</td>\n",
       "      <td>0</td>\n",
       "      <td>10846</td>\n",
       "      <td>11156</td>\n",
       "      <td>0</td>\n",
       "      <td>2.0</td>\n",
       "      <td>fb4504d4-f80c-11ee-b6f7-473d136f742f</td>\n",
       "      <td>TRANSFER</td>\n",
       "      <td>u_upma7q3dzfeqzg454wkb7lyqe4</td>\n",
       "      <td>True</td>\n",
       "    </tr>\n",
       "    <tr>\n",
       "      <th>2</th>\n",
       "      <td>0</td>\n",
       "      <td>88033380004</td>\n",
       "      <td>None</td>\n",
       "      <td>None</td>\n",
       "      <td>API 0.10 go</td>\n",
       "      <td>2024-04-11T17:52:22+00:00</td>\n",
       "      <td>2024-04-14T17:06:17+00:00</td>\n",
       "      <td>False</td>\n",
       "      <td>u_upma7q3dzfeqzg454wkb7lyqe4#20c84240-1eb1-11eb-81b7-0e2f230cc907</td>\n",
       "      <td>Pho Personal Laptop</td>\n",
       "      <td>...</td>\n",
       "      <td>0</td>\n",
       "      <td>0</td>\n",
       "      <td>37</td>\n",
       "      <td>205</td>\n",
       "      <td>0</td>\n",
       "      <td>2.0</td>\n",
       "      <td>e7dd3d50-f819-11ee-921d-472b0fe4395a</td>\n",
       "      <td>TRANSFER</td>\n",
       "      <td>u_upma7q3dzfeqzg454wkb7lyqe4</td>\n",
       "      <td>True</td>\n",
       "    </tr>\n",
       "    <tr>\n",
       "      <th>3</th>\n",
       "      <td>0</td>\n",
       "      <td>7052098033</td>\n",
       "      <td>None</td>\n",
       "      <td>None</td>\n",
       "      <td>API 0.10 go</td>\n",
       "      <td>2024-04-12T12:31:21+00:00</td>\n",
       "      <td>2024-04-13T12:23:59+00:00</td>\n",
       "      <td>False</td>\n",
       "      <td>u_upma7q3dzfeqzg454wkb7lyqe4#84991054-07b4-11ed-8d83-a54cf61939f8</td>\n",
       "      <td>Apogee</td>\n",
       "      <td>...</td>\n",
       "      <td>0</td>\n",
       "      <td>0</td>\n",
       "      <td>1465</td>\n",
       "      <td>1465</td>\n",
       "      <td>0</td>\n",
       "      <td>NaN</td>\n",
       "      <td>8951e322-f8c7-11ee-9220-472b0fe4395a</td>\n",
       "      <td>TRANSFER</td>\n",
       "      <td>u_upma7q3dzfeqzg454wkb7lyqe4</td>\n",
       "      <td>True</td>\n",
       "    </tr>\n",
       "    <tr>\n",
       "      <th>4</th>\n",
       "      <td>0</td>\n",
       "      <td>10598024699</td>\n",
       "      <td>None</td>\n",
       "      <td>None</td>\n",
       "      <td>API 0.10 go</td>\n",
       "      <td>2024-04-12T21:09:42+00:00</td>\n",
       "      <td>2024-04-13T20:45:29+00:00</td>\n",
       "      <td>False</td>\n",
       "      <td>u_upma7q3dzfeqzg454wkb7lyqe4#84991054-07b4-11ed-8d83-a54cf61939f8</td>\n",
       "      <td>Apogee</td>\n",
       "      <td>...</td>\n",
       "      <td>0</td>\n",
       "      <td>0</td>\n",
       "      <td>102</td>\n",
       "      <td>162</td>\n",
       "      <td>0</td>\n",
       "      <td>2.0</td>\n",
       "      <td>9756ad39-f90d-11ee-b6fb-473d136f742f</td>\n",
       "      <td>TRANSFER</td>\n",
       "      <td>u_upma7q3dzfeqzg454wkb7lyqe4</td>\n",
       "      <td>True</td>\n",
       "    </tr>\n",
       "    <tr>\n",
       "      <th>5</th>\n",
       "      <td>0</td>\n",
       "      <td>1897803436</td>\n",
       "      <td>None</td>\n",
       "      <td>None</td>\n",
       "      <td>API 0.10 go</td>\n",
       "      <td>2024-04-12T21:10:42+00:00</td>\n",
       "      <td>2024-04-13T21:09:58+00:00</td>\n",
       "      <td>False</td>\n",
       "      <td>u_upma7q3dzfeqzg454wkb7lyqe4#84991054-07b4-11ed-8d83-a54cf61939f8</td>\n",
       "      <td>Apogee</td>\n",
       "      <td>...</td>\n",
       "      <td>0</td>\n",
       "      <td>0</td>\n",
       "      <td>162</td>\n",
       "      <td>162</td>\n",
       "      <td>0</td>\n",
       "      <td>2.0</td>\n",
       "      <td>03cc7dd0-f911-11ee-b6fb-473d136f742f</td>\n",
       "      <td>TRANSFER</td>\n",
       "      <td>u_upma7q3dzfeqzg454wkb7lyqe4</td>\n",
       "      <td>True</td>\n",
       "    </tr>\n",
       "    <tr>\n",
       "      <th>6</th>\n",
       "      <td>0</td>\n",
       "      <td>6696588836</td>\n",
       "      <td>None</td>\n",
       "      <td>None</td>\n",
       "      <td>API 0.10 go</td>\n",
       "      <td>2024-04-12T22:34:37+00:00</td>\n",
       "      <td>2024-04-15T22:07:15+00:00</td>\n",
       "      <td>False</td>\n",
       "      <td>u_upma7q3dzfeqzg454wkb7lyqe4#84991054-07b4-11ed-8d83-a54cf61939f8</td>\n",
       "      <td>Apogee</td>\n",
       "      <td>...</td>\n",
       "      <td>0</td>\n",
       "      <td>0</td>\n",
       "      <td>58</td>\n",
       "      <td>58</td>\n",
       "      <td>0</td>\n",
       "      <td>2.0</td>\n",
       "      <td>5e67f808-f918-11ee-9222-472b0fe4395a</td>\n",
       "      <td>TRANSFER</td>\n",
       "      <td>u_upma7q3dzfeqzg454wkb7lyqe4</td>\n",
       "      <td>True</td>\n",
       "    </tr>\n",
       "    <tr>\n",
       "      <th>7</th>\n",
       "      <td>0</td>\n",
       "      <td>9869341597</td>\n",
       "      <td>None</td>\n",
       "      <td>None</td>\n",
       "      <td>API 0.10 go</td>\n",
       "      <td>2024-04-15T12:07:12+00:00</td>\n",
       "      <td>2024-04-16T12:01:42+00:00</td>\n",
       "      <td>False</td>\n",
       "      <td>u_upma7q3dzfeqzg454wkb7lyqe4#84991054-07b4-11ed-8d83-a54cf61939f8</td>\n",
       "      <td>Apogee</td>\n",
       "      <td>...</td>\n",
       "      <td>0</td>\n",
       "      <td>0</td>\n",
       "      <td>3100</td>\n",
       "      <td>3100</td>\n",
       "      <td>0</td>\n",
       "      <td>2.0</td>\n",
       "      <td>ebb4e4e2-fb1f-11ee-9063-1f4fee4027cc</td>\n",
       "      <td>TRANSFER</td>\n",
       "      <td>u_upma7q3dzfeqzg454wkb7lyqe4</td>\n",
       "      <td>True</td>\n",
       "    </tr>\n",
       "    <tr>\n",
       "      <th>8</th>\n",
       "      <td>0</td>\n",
       "      <td>3379152716</td>\n",
       "      <td>None</td>\n",
       "      <td>None</td>\n",
       "      <td>API 0.10 go</td>\n",
       "      <td>2024-04-15T20:28:04+00:00</td>\n",
       "      <td>2024-04-16T20:26:36+00:00</td>\n",
       "      <td>False</td>\n",
       "      <td>u_upma7q3dzfeqzg454wkb7lyqe4#84991054-07b4-11ed-8d83-a54cf61939f8</td>\n",
       "      <td>Apogee</td>\n",
       "      <td>...</td>\n",
       "      <td>0</td>\n",
       "      <td>0</td>\n",
       "      <td>402</td>\n",
       "      <td>402</td>\n",
       "      <td>0</td>\n",
       "      <td>2.0</td>\n",
       "      <td>742635ba-fb66-11ee-9063-1f4fee4027cc</td>\n",
       "      <td>TRANSFER</td>\n",
       "      <td>u_upma7q3dzfeqzg454wkb7lyqe4</td>\n",
       "      <td>True</td>\n",
       "    </tr>\n",
       "    <tr>\n",
       "      <th>9</th>\n",
       "      <td>0</td>\n",
       "      <td>719838100</td>\n",
       "      <td>None</td>\n",
       "      <td>None</td>\n",
       "      <td>API 0.10 go</td>\n",
       "      <td>2024-04-15T21:58:48+00:00</td>\n",
       "      <td>2024-04-16T21:58:23+00:00</td>\n",
       "      <td>False</td>\n",
       "      <td>u_upma7q3dzfeqzg454wkb7lyqe4#84991054-07b4-11ed-8d83-a54cf61939f8</td>\n",
       "      <td>Apogee</td>\n",
       "      <td>...</td>\n",
       "      <td>0</td>\n",
       "      <td>0</td>\n",
       "      <td>196</td>\n",
       "      <td>196</td>\n",
       "      <td>0</td>\n",
       "      <td>2.0</td>\n",
       "      <td>46eb8d54-fb73-11ee-922e-472b0fe4395a</td>\n",
       "      <td>TRANSFER</td>\n",
       "      <td>u_upma7q3dzfeqzg454wkb7lyqe4</td>\n",
       "      <td>True</td>\n",
       "    </tr>\n",
       "  </tbody>\n",
       "</table>\n",
       "<p>10 rows × 53 columns</p>\n",
       "</div>"
      ],
      "text/plain": [
       "   bytes_checksummed  bytes_transferred canceled_by_admin canceled_by_admin_message      command            completion_time                   deadline  delete_destination_extra                                               destination_endpoint destination_endpoint_display_name  ... subtasks_retrying  subtasks_skipped_errors  subtasks_succeeded  subtasks_total  symlinks sync_level                               task_id      type                      username  verify_checksum\n",
       "0                  0          901832024              None                      None  API 0.10 go  2024-04-11T14:17:42+00:00  2024-07-08T14:19:23+00:00                     False  u_upma7q3dzfeqzg454wkb7lyqe4#3fc00ebe-f142-11ee-91fe-472b0fe4395a                  TempVM_VS_NonGPU  ...                 0                     2537               11077           56093         0        NaN  cca332b4-f1ee-11ee-b6d4-473d136f742f  TRANSFER  u_upma7q3dzfeqzg454wkb7lyqe4            False\n",
       "1                  0       128743332848              None                      None  API 0.10 go  2024-04-11T15:41:54+00:00  2024-04-14T15:10:30+00:00                     False  u_upma7q3dzfeqzg454wkb7lyqe4#20c84240-1eb1-11eb-81b7-0e2f230cc907               Pho Personal Laptop  ...                 0                        0               10846           11156         0        2.0  fb4504d4-f80c-11ee-b6f7-473d136f742f  TRANSFER  u_upma7q3dzfeqzg454wkb7lyqe4             True\n",
       "2                  0        88033380004              None                      None  API 0.10 go  2024-04-11T17:52:22+00:00  2024-04-14T17:06:17+00:00                     False  u_upma7q3dzfeqzg454wkb7lyqe4#20c84240-1eb1-11eb-81b7-0e2f230cc907               Pho Personal Laptop  ...                 0                        0                  37             205         0        2.0  e7dd3d50-f819-11ee-921d-472b0fe4395a  TRANSFER  u_upma7q3dzfeqzg454wkb7lyqe4             True\n",
       "3                  0         7052098033              None                      None  API 0.10 go  2024-04-12T12:31:21+00:00  2024-04-13T12:23:59+00:00                     False  u_upma7q3dzfeqzg454wkb7lyqe4#84991054-07b4-11ed-8d83-a54cf61939f8                            Apogee  ...                 0                        0                1465            1465         0        NaN  8951e322-f8c7-11ee-9220-472b0fe4395a  TRANSFER  u_upma7q3dzfeqzg454wkb7lyqe4             True\n",
       "4                  0        10598024699              None                      None  API 0.10 go  2024-04-12T21:09:42+00:00  2024-04-13T20:45:29+00:00                     False  u_upma7q3dzfeqzg454wkb7lyqe4#84991054-07b4-11ed-8d83-a54cf61939f8                            Apogee  ...                 0                        0                 102             162         0        2.0  9756ad39-f90d-11ee-b6fb-473d136f742f  TRANSFER  u_upma7q3dzfeqzg454wkb7lyqe4             True\n",
       "5                  0         1897803436              None                      None  API 0.10 go  2024-04-12T21:10:42+00:00  2024-04-13T21:09:58+00:00                     False  u_upma7q3dzfeqzg454wkb7lyqe4#84991054-07b4-11ed-8d83-a54cf61939f8                            Apogee  ...                 0                        0                 162             162         0        2.0  03cc7dd0-f911-11ee-b6fb-473d136f742f  TRANSFER  u_upma7q3dzfeqzg454wkb7lyqe4             True\n",
       "6                  0         6696588836              None                      None  API 0.10 go  2024-04-12T22:34:37+00:00  2024-04-15T22:07:15+00:00                     False  u_upma7q3dzfeqzg454wkb7lyqe4#84991054-07b4-11ed-8d83-a54cf61939f8                            Apogee  ...                 0                        0                  58              58         0        2.0  5e67f808-f918-11ee-9222-472b0fe4395a  TRANSFER  u_upma7q3dzfeqzg454wkb7lyqe4             True\n",
       "7                  0         9869341597              None                      None  API 0.10 go  2024-04-15T12:07:12+00:00  2024-04-16T12:01:42+00:00                     False  u_upma7q3dzfeqzg454wkb7lyqe4#84991054-07b4-11ed-8d83-a54cf61939f8                            Apogee  ...                 0                        0                3100            3100         0        2.0  ebb4e4e2-fb1f-11ee-9063-1f4fee4027cc  TRANSFER  u_upma7q3dzfeqzg454wkb7lyqe4             True\n",
       "8                  0         3379152716              None                      None  API 0.10 go  2024-04-15T20:28:04+00:00  2024-04-16T20:26:36+00:00                     False  u_upma7q3dzfeqzg454wkb7lyqe4#84991054-07b4-11ed-8d83-a54cf61939f8                            Apogee  ...                 0                        0                 402             402         0        2.0  742635ba-fb66-11ee-9063-1f4fee4027cc  TRANSFER  u_upma7q3dzfeqzg454wkb7lyqe4             True\n",
       "9                  0          719838100              None                      None  API 0.10 go  2024-04-15T21:58:48+00:00  2024-04-16T21:58:23+00:00                     False  u_upma7q3dzfeqzg454wkb7lyqe4#84991054-07b4-11ed-8d83-a54cf61939f8                            Apogee  ...                 0                        0                 196             196         0        2.0  46eb8d54-fb73-11ee-922e-472b0fe4395a  TRANSFER  u_upma7q3dzfeqzg454wkb7lyqe4             True\n",
       "\n",
       "[10 rows x 53 columns]"
      ]
     },
     "execution_count": 44,
     "metadata": {},
     "output_type": "execute_result"
    }
   ],
   "source": [
    "tasks_list = connect_man.get_tasks()\n",
    "tasks_list_df = tasks_list.to_dataframe()\n",
    "tasks_list_df"
   ]
  },
  {
   "cell_type": "code",
   "execution_count": null,
   "metadata": {},
   "outputs": [],
   "source": [
    "tasks_list_df"
   ]
  },
  {
   "cell_type": "code",
   "execution_count": 45,
   "metadata": {},
   "outputs": [
    {
     "data": {
      "text/plain": [
       "[Bookmark(bookmark_id='9a8eccc8-2558-11ec-a0a7-6b21ca6daf73', name='aleinbook-linux - PhoPy3DPositionAnalysis', endpoint_id='c3a90494-2555-11ec-a47d-a50ad076c282', path='/~/repo/PhoPy3DPositionAnalysis/'),\n",
       " Bookmark(bookmark_id='3453290e-9926-11ee-8c90-fd88ce9321ad', name='Aleinware SmallSSD', endpoint_id='df4149a0-9925-11ee-be43-c52a29481bea', path='/F/'),\n",
       " Bookmark(bookmark_id='2a9f2464-01ad-11ee-be0e-195c41bc0be4', name='Apogee Data W', endpoint_id='84991054-07b4-11ed-8d83-a54cf61939f8', path='/~/W/Data/'),\n",
       " Bookmark(bookmark_id='fa915572-43a0-11ee-a06e-eb83daae1adf', name='Apogee DibaLabGDriveMount', endpoint_id='84991054-07b4-11ed-8d83-a54cf61939f8', path='/~/L/'),\n",
       " Bookmark(bookmark_id='4f1229fe-3eba-11ef-9637-453c3ae125a5', name='Apogee - gen_scripts', endpoint_id='84991054-07b4-11ed-8d83-a54cf61939f8', path='/K/scratch/gen_scripts/'),\n",
       " Bookmark(bookmark_id='965ffa0e-f90d-11ee-9222-472b0fe4395a', name='Apogee - K - collected_outputs', endpoint_id='84991054-07b4-11ed-8d83-a54cf61939f8', path='/K/scratch/collected_outputs/'),\n",
       " Bookmark(bookmark_id='a267ed38-8d7f-11ee-be03-c52a29481bea', name='Apogee - K - UE5_3 - Plugins', endpoint_id='84991054-07b4-11ed-8d83-a54cf61939f8', path='/K/FastSwap/ProgramFiles/UE_5.3/Engine/Plugins/'),\n",
       " Bookmark(bookmark_id='63655524-164e-11ee-bfba-195c41bc0be4', name='Apogee - PersonalFastSwapShare', endpoint_id='84991054-07b4-11ed-8d83-a54cf61939f8', path='/W/FastSwap/PersonalFastSwapShare/'),\n",
       " Bookmark(bookmark_id='1c725da6-203a-11ee-80bc-a3018385fcef', name='Apogee - ProgrammaticDisplayFunctionTesting', endpoint_id='84991054-07b4-11ed-8d83-a54cf61939f8', path='/C/Users/pho/repos/Spike3DWorkEnv/Spike3D/EXTERNAL/Screenshots/ProgrammaticDisplayFunctionTesting/'),\n",
       " Bookmark(bookmark_id='eeab2364-f8c2-11ee-921f-472b0fe4395a', name='Apogee - Spike3DWorkEnv - Output', endpoint_id='84991054-07b4-11ed-8d83-a54cf61939f8', path='/C/Users/pho/repos/Spike3DWorkEnv/Spike3D/output/'),\n",
       " Bookmark(bookmark_id='66ead9ec-2e56-11ee-b3ed-ad2493b708f4', name='Apogee - Unreal Root', endpoint_id='84991054-07b4-11ed-8d83-a54cf61939f8', path='/~/E/UNREAL/'),\n",
       " Bookmark(bookmark_id='78ca952e-2586-11ec-9e35-3df4ed83d858', name='Cubix Win10 PhoPy3DPositionAnalysis2021', endpoint_id='6d0251c4-2585-11ec-9e35-3df4ed83d858', path='/~/repos/PhoPy3DPositionAnalysis2021/'),\n",
       " Bookmark(bookmark_id='06f3fc6e-b65d-11ee-84a8-f1441124ff66', name='Day5TwoNovel', endpoint_id='ab65757f-00f5-4e5b-aa21-133187732a01', path='/umms-dibalab/Data/Bapun/RatS/Day5TwoNovel/'),\n",
       " Bookmark(bookmark_id='c23b0afa-3261-11ef-b82c-1dd816fe311b', name='DellaKouroshReMazeDataShare', endpoint_id='ab65757f-00f5-4e5b-aa21-133187732a01', path='/umms-dibalab/_TEMP/DellaKouroshReMazeDataShare/'),\n",
       " Bookmark(bookmark_id='99efa634-3ead-11ef-888b-2b3122c1d121', name='Greatlakes gen_scripts', endpoint_id='8c185a84-5c61-4bbc-b12b-11430e20010f', path='/umms-kdiba/Data/Output/gen_scripts/'),\n",
       " Bookmark(bookmark_id='431c951e-96c6-11ed-9b93-19370d280681', name='kdiba DataDen Data', endpoint_id='ab65757f-00f5-4e5b-aa21-133187732a01', path='/umms-dibalab/Data/'),\n",
       " Bookmark(bookmark_id='8ce139f8-9d46-11ed-a2a2-8383522b48d9', name='KDIBA Lab Turbo', endpoint_id='8c185a84-5c61-4bbc-b12b-11430e20010f', path='/umms-kdiba/'),\n",
       " Bookmark(bookmark_id='91181e28-f90d-11ee-9222-472b0fe4395a', name='KDIBA Lab Turbo - collected_outputs', endpoint_id='8c185a84-5c61-4bbc-b12b-11430e20010f', path='/umms-kdiba/Data/Output/collected_outputs/'),\n",
       " Bookmark(bookmark_id='728fb3e8-2597-11ee-80c2-a3018385fcef', name='KDIBA Lab Turbo - Data Global Root Folder', endpoint_id='8c185a84-5c61-4bbc-b12b-11430e20010f', path='/umms-kdiba/Data/'),\n",
       " Bookmark(bookmark_id='fa5567f4-5d97-11ee-8e55-e7956a689924', name='LNX00052_Fedora - BETAMAX 20TB Disk', endpoint_id='af3fcfce-f664-11ed-9a7d-83ef71fbf0ae', path='/mnt/BETAMAX/'),\n",
       " Bookmark(bookmark_id='de42717e-5d97-11ee-8e55-e7956a689924', name='LNX00052_Fedora - DELTAMAX 20TB Disk', endpoint_id='af3fcfce-f664-11ed-9a7d-83ef71fbf0ae', path='/mnt/DELTAMAX/'),\n",
       " Bookmark(bookmark_id='7b24feb0-5e26-11ee-8776-1dc3121de006', name='LNX00052_Fedora - FastData Global Data Root', endpoint_id='af3fcfce-f664-11ed-9a7d-83ef71fbf0ae', path='/home/halechr/FastData/'),\n",
       " Bookmark(bookmark_id='e50e6dd2-5d97-11ee-8e55-e7956a689924', name='LNX00052_Fedora - GAMMAMAX 20TB Disk', endpoint_id='af3fcfce-f664-11ed-9a7d-83ef71fbf0ae', path='/mnt/GAMMAMAX/'),\n",
       " Bookmark(bookmark_id='6e727c22-5d97-11ee-8e55-e7956a689924', name='LNX00052_Fedora - GDrive_Diba_Shared Data', endpoint_id='af3fcfce-f664-11ed-9a7d-83ef71fbf0ae', path='/media/MAX/cloud/GDrive_Diba_Shared/Data/'),\n",
       " Bookmark(bookmark_id='211f7d4e-478a-11ee-a072-eb83daae1adf', name='LNX00052_Fedora - HugePort 20TB Disk', endpoint_id='af3fcfce-f664-11ed-9a7d-83ef71fbf0ae', path='/media/HugePort/'),\n",
       " Bookmark(bookmark_id='82d87ba0-5d59-11ee-8e55-e7956a689924', name='LNX00052_Fedora - HUUUGE 20TB Disk', endpoint_id='af3fcfce-f664-11ed-9a7d-83ef71fbf0ae', path='/mnt/wwn-0x5000cca2b3c3f6f7-part1/'),\n",
       " Bookmark(bookmark_id='248a9a30-164e-11ee-bfba-195c41bc0be4', name='LNX00052_Fedora - MAX', endpoint_id='af3fcfce-f664-11ed-9a7d-83ef71fbf0ae', path='/media/MAX/'),\n",
       " Bookmark(bookmark_id='fb16ea72-8d6d-11ee-8c73-fd88ce9321ad', name='LNX00052_Fedora - MAX - UnrealProjects', endpoint_id='af3fcfce-f664-11ed-9a7d-83ef71fbf0ae', path='/media/MAX/Personal/UnrealProjects/'),\n",
       " Bookmark(bookmark_id='c817bbf0-4da9-11ee-a088-eb83daae1adf', name='LNX00052_Fedora - New ProgrammaticDisplayFunctionTesting', endpoint_id='af3fcfce-f664-11ed-9a7d-83ef71fbf0ae', path='/home/halechr/repos/Spike3D/EXTERNAL/Screenshots/ProgrammaticDisplayFunctionTesting/'),\n",
       " Bookmark(bookmark_id='af68b1ea-20c7-11ee-818f-195c41bc0be4', name='LNX00052_Fedora - ProgrammaticDisplayFunctionTesting', endpoint_id='af3fcfce-f664-11ed-9a7d-83ef71fbf0ae', path='/home/halechr/repo/Spike3D/EXTERNAL/Screenshots/ProgrammaticDisplayFunctionTesting/'),\n",
       " Bookmark(bookmark_id='b214aca0-4da9-11ee-a088-eb83daae1adf', name='LNX00052_Fedora - Spike3D Repo', endpoint_id='af3fcfce-f664-11ed-9a7d-83ef71fbf0ae', path='/home/halechr/repos/Spike3D/'),\n",
       " Bookmark(bookmark_id='ca95eb76-c21c-11ee-84b4-f1441124ff66', name='LNX00052_Ubuntu', endpoint_id='44727efc-c21b-11ee-89e3-5130436d8581', path='/~/'),\n",
       " Bookmark(bookmark_id='25a26f84-cd13-11ee-a48f-73d2c6fd707d', name='LNX00052_Ubuntu - UnrealProjects', endpoint_id='44727efc-c21b-11ee-89e3-5130436d8581', path='/media/halechr/MAX/Personal/UnrealProjects/'),\n",
       " Bookmark(bookmark_id='b6d70674-3144-11ee-87a9-4dfadf03ac7e', name='lsa-halechr Personal Turbo', endpoint_id='ab65757f-00f5-4e5b-aa21-133187732a01', path='/lsa-halechr/'),\n",
       " Bookmark(bookmark_id='034e1614-3c19-11ec-90c8-7fa38c35632a', name='NYU Langone Health DTN1 - Buzsakilab Public Datasets', endpoint_id='188a6110-96db-11eb-b7a9-f57b2d55370d', path='/'),\n",
       " Bookmark(bookmark_id='bbb4a1a8-f0b9-11ee-91fe-472b0fe4395a', name='Pho Personal Laptop - DibaMac', endpoint_id='20c84240-1eb1-11eb-81b7-0e2f230cc907', path='/Volumes/DibaMac/'),\n",
       " Bookmark(bookmark_id='b0066292-f0b9-11ee-91fe-472b0fe4395a', name='Pho Personal Laptop - halechrGDrive', endpoint_id='20c84240-1eb1-11eb-81b7-0e2f230cc907', path='/Volumes/DibaMac/Backups/Pho/'),\n",
       " Bookmark(bookmark_id='1805df24-e618-11ed-9a63-83ef71fbf0ae', name='Pho Personal Laptop - PegasusR6 - Data', endpoint_id='20c84240-1eb1-11eb-81b7-0e2f230cc907', path='/Volumes/Pegasus R6/Data/'),\n",
       " Bookmark(bookmark_id='3a94f9b2-03ef-11ef-82a6-57b5c7e2fa2b', name='Pho Personal Laptop - SwapSSD Data', endpoint_id='20c84240-1eb1-11eb-81b7-0e2f230cc907', path='/Volumes/SwapSSD/Data/'),\n",
       " Bookmark(bookmark_id='be76c06a-51e2-11ee-a0a8-eb83daae1adf', name='rMBP-PinkDot - LargeDisk', endpoint_id='41b8fb12-516b-11ee-8a4b-b1038a0991ac', path='/Volumes/LargeDisk/'),\n",
       " Bookmark(bookmark_id='883e37d8-f142-11ee-904b-1f4fee4027cc', name='TempVM_VS_NonGPU', endpoint_id='3fc00ebe-f142-11ee-91fe-472b0fe4395a', path='/'),\n",
       " Bookmark(bookmark_id='d85320ee-f142-11ee-904b-1f4fee4027cc', name='TempVM_VS_NonGPU - GDrive - WatsonLab2019-2020', endpoint_id='3fc00ebe-f142-11ee-91fe-472b0fe4395a', path='/L/MED-WatsonDigitalPhenotyping/FromGDrive2024/Watson Lab 2019-2020/'),\n",
       " Bookmark(bookmark_id='90d94d74-f142-11ee-904b-1f4fee4027cc', name='TempVM_VS_NonGPU - K - GDrive', endpoint_id='3fc00ebe-f142-11ee-91fe-472b0fe4395a', path='/K/'),\n",
       " Bookmark(bookmark_id='c1dae626-f142-11ee-904b-1f4fee4027cc', name='TempVM_VS_NonGPU - L - Dropbox', endpoint_id='3fc00ebe-f142-11ee-91fe-472b0fe4395a', path='/L/'),\n",
       " Bookmark(bookmark_id='99ce1e08-bdf1-11ed-8cec-f9fa098153fc', name='UMich Diba Turbo - Pho Directory', endpoint_id='8c185a84-5c61-4bbc-b12b-11430e20010f', path='/umms-kdiba/Pho/'),\n",
       " Bookmark(bookmark_id='b1668f08-2036-11ee-80bc-a3018385fcef', name='umich#greatlakes - halechr homedir', endpoint_id='454f457e-a41b-4807-8775-d132f15a228f', path='/home/halechr/'),\n",
       " Bookmark(bookmark_id='f479daf4-2039-11ee-80bc-a3018385fcef', name='umich#greatlakes - ProgrammaticDisplayFunctionTesting', endpoint_id='454f457e-a41b-4807-8775-d132f15a228f', path='/home/halechr/repos/Spike3D/EXTERNAL/Screenshots/ProgrammaticDisplayFunctionTesting/'),\n",
       " Bookmark(bookmark_id='d7c1b398-4ca6-11ee-a085-eb83daae1adf', name='umich#greatlakes - Scratch', endpoint_id='454f457e-a41b-4807-8775-d132f15a228f', path='/scratch/kdiba_root/'),\n",
       " Bookmark(bookmark_id='bef81650-96c5-11ed-9b93-19370d280681', name='umms-dibalab DataDen', endpoint_id='ab65757f-00f5-4e5b-aa21-133187732a01', path='/umms-dibalab/')]"
      ]
     },
     "execution_count": 45,
     "metadata": {},
     "output_type": "execute_result"
    }
   ],
   "source": [
    "# [Bookmark(bookmark_id='9a8eccc8-2558-11ec-a0a7-6b21ca6daf73', name='aleinbook-linux - PhoPy3DPositionAnalysis', endpoint_id='c3a90494-2555-11ec-a47d-a50ad076c282', path='/~/repo/PhoPy3DPositionAnalysis/'),\n",
    "#  Bookmark(bookmark_id='3453290e-9926-11ee-8c90-fd88ce9321ad', name='Aleinware SmallSSD', endpoint_id='df4149a0-9925-11ee-be43-c52a29481bea', path='/F/'),\n",
    "#  Bookmark(bookmark_id='2a9f2464-01ad-11ee-be0e-195c41bc0be4', name='Apogee Data W', endpoint_id='84991054-07b4-11ed-8d83-a54cf61939f8', path='/~/W/Data/'),\n",
    "#  Bookmark(bookmark_id='fa915572-43a0-11ee-a06e-eb83daae1adf', name='Apogee DibaLabGDriveMount', endpoint_id='84991054-07b4-11ed-8d83-a54cf61939f8', path='/~/L/'),\n",
    "#  Bookmark(bookmark_id='4f1229fe-3eba-11ef-9637-453c3ae125a5', name='Apogee - gen_scripts', endpoint_id='84991054-07b4-11ed-8d83-a54cf61939f8', path='/K/scratch/gen_scripts/'),\n",
    "#  Bookmark(bookmark_id='965ffa0e-f90d-11ee-9222-472b0fe4395a', name='Apogee - K - collected_outputs', endpoint_id='84991054-07b4-11ed-8d83-a54cf61939f8', path='/K/scratch/collected_outputs/'),\n",
    "#  Bookmark(bookmark_id='a267ed38-8d7f-11ee-be03-c52a29481bea', name='Apogee - K - UE5_3 - Plugins', endpoint_id='84991054-07b4-11ed-8d83-a54cf61939f8', path='/K/FastSwap/ProgramFiles/UE_5.3/Engine/Plugins/'),\n",
    "#  Bookmark(bookmark_id='63655524-164e-11ee-bfba-195c41bc0be4', name='Apogee - PersonalFastSwapShare', endpoint_id='84991054-07b4-11ed-8d83-a54cf61939f8', path='/W/FastSwap/PersonalFastSwapShare/'),\n",
    "#  Bookmark(bookmark_id='1c725da6-203a-11ee-80bc-a3018385fcef', name='Apogee - ProgrammaticDisplayFunctionTesting', endpoint_id='84991054-07b4-11ed-8d83-a54cf61939f8', path='/C/Users/pho/repos/Spike3DWorkEnv/Spike3D/EXTERNAL/Screenshots/ProgrammaticDisplayFunctionTesting/'),\n",
    "#  Bookmark(bookmark_id='eeab2364-f8c2-11ee-921f-472b0fe4395a', name='Apogee - Spike3DWorkEnv - Output', endpoint_id='84991054-07b4-11ed-8d83-a54cf61939f8', path='/C/Users/pho/repos/Spike3DWorkEnv/Spike3D/output/'),\n",
    "#  Bookmark(bookmark_id='66ead9ec-2e56-11ee-b3ed-ad2493b708f4', name='Apogee - Unreal Root', endpoint_id='84991054-07b4-11ed-8d83-a54cf61939f8', path='/~/E/UNREAL/'),\n",
    "#  Bookmark(bookmark_id='78ca952e-2586-11ec-9e35-3df4ed83d858', name='Cubix Win10 PhoPy3DPositionAnalysis2021', endpoint_id='6d0251c4-2585-11ec-9e35-3df4ed83d858', path='/~/repos/PhoPy3DPositionAnalysis2021/'),\n",
    "#  Bookmark(bookmark_id='06f3fc6e-b65d-11ee-84a8-f1441124ff66', name='Day5TwoNovel', endpoint_id='ab65757f-00f5-4e5b-aa21-133187732a01', path='/umms-dibalab/Data/Bapun/RatS/Day5TwoNovel/'),\n",
    "#  Bookmark(bookmark_id='c23b0afa-3261-11ef-b82c-1dd816fe311b', name='DellaKouroshReMazeDataShare', endpoint_id='ab65757f-00f5-4e5b-aa21-133187732a01', path='/umms-dibalab/_TEMP/DellaKouroshReMazeDataShare/'),\n",
    "#  Bookmark(bookmark_id='99efa634-3ead-11ef-888b-2b3122c1d121', name='Greatlakes gen_scripts', endpoint_id='8c185a84-5c61-4bbc-b12b-11430e20010f', path='/umms-kdiba/Data/Output/gen_scripts/'),\n",
    "#  Bookmark(bookmark_id='431c951e-96c6-11ed-9b93-19370d280681', name='kdiba DataDen Data', endpoint_id='ab65757f-00f5-4e5b-aa21-133187732a01', path='/umms-dibalab/Data/'),\n",
    "#  Bookmark(bookmark_id='8ce139f8-9d46-11ed-a2a2-8383522b48d9', name='KDIBA Lab Turbo', endpoint_id='8c185a84-5c61-4bbc-b12b-11430e20010f', path='/umms-kdiba/'),\n",
    "#  Bookmark(bookmark_id='91181e28-f90d-11ee-9222-472b0fe4395a', name='KDIBA Lab Turbo - collected_outputs', endpoint_id='8c185a84-5c61-4bbc-b12b-11430e20010f', path='/umms-kdiba/Data/Output/collected_outputs/'),\n",
    "#  Bookmark(bookmark_id='728fb3e8-2597-11ee-80c2-a3018385fcef', name='KDIBA Lab Turbo - Data Global Root Folder', endpoint_id='8c185a84-5c61-4bbc-b12b-11430e20010f', path='/umms-kdiba/Data/'),\n",
    "#  Bookmark(bookmark_id='fa5567f4-5d97-11ee-8e55-e7956a689924', name='LNX00052_Fedora - BETAMAX 20TB Disk', endpoint_id='af3fcfce-f664-11ed-9a7d-83ef71fbf0ae', path='/mnt/BETAMAX/'),\n",
    "#  Bookmark(bookmark_id='de42717e-5d97-11ee-8e55-e7956a689924', name='LNX00052_Fedora - DELTAMAX 20TB Disk', endpoint_id='af3fcfce-f664-11ed-9a7d-83ef71fbf0ae', path='/mnt/DELTAMAX/'),\n",
    "#  Bookmark(bookmark_id='7b24feb0-5e26-11ee-8776-1dc3121de006', name='LNX00052_Fedora - FastData Global Data Root', endpoint_id='af3fcfce-f664-11ed-9a7d-83ef71fbf0ae', path='/home/halechr/FastData/'),\n",
    "#  Bookmark(bookmark_id='e50e6dd2-5d97-11ee-8e55-e7956a689924', name='LNX00052_Fedora - GAMMAMAX 20TB Disk', endpoint_id='af3fcfce-f664-11ed-9a7d-83ef71fbf0ae', path='/mnt/GAMMAMAX/'),\n",
    "#  Bookmark(bookmark_id='6e727c22-5d97-11ee-8e55-e7956a689924', name='LNX00052_Fedora - GDrive_Diba_Shared Data', endpoint_id='af3fcfce-f664-11ed-9a7d-83ef71fbf0ae', path='/media/MAX/cloud/GDrive_Diba_Shared/Data/'),\n",
    "#  Bookmark(bookmark_id='211f7d4e-478a-11ee-a072-eb83daae1adf', name='LNX00052_Fedora - HugePort 20TB Disk', endpoint_id='af3fcfce-f664-11ed-9a7d-83ef71fbf0ae', path='/media/HugePort/'),\n",
    "#  Bookmark(bookmark_id='82d87ba0-5d59-11ee-8e55-e7956a689924', name='LNX00052_Fedora - HUUUGE 20TB Disk', endpoint_id='af3fcfce-f664-11ed-9a7d-83ef71fbf0ae', path='/mnt/wwn-0x5000cca2b3c3f6f7-part1/'),\n",
    "#  Bookmark(bookmark_id='248a9a30-164e-11ee-bfba-195c41bc0be4', name='LNX00052_Fedora - MAX', endpoint_id='af3fcfce-f664-11ed-9a7d-83ef71fbf0ae', path='/media/MAX/'),\n",
    "#  Bookmark(bookmark_id='fb16ea72-8d6d-11ee-8c73-fd88ce9321ad', name='LNX00052_Fedora - MAX - UnrealProjects', endpoint_id='af3fcfce-f664-11ed-9a7d-83ef71fbf0ae', path='/media/MAX/Personal/UnrealProjects/'),\n",
    "#  Bookmark(bookmark_id='c817bbf0-4da9-11ee-a088-eb83daae1adf', name='LNX00052_Fedora - New ProgrammaticDisplayFunctionTesting', endpoint_id='af3fcfce-f664-11ed-9a7d-83ef71fbf0ae', path='/home/halechr/repos/Spike3D/EXTERNAL/Screenshots/ProgrammaticDisplayFunctionTesting/'),\n",
    "#  Bookmark(bookmark_id='af68b1ea-20c7-11ee-818f-195c41bc0be4', name='LNX00052_Fedora - ProgrammaticDisplayFunctionTesting', endpoint_id='af3fcfce-f664-11ed-9a7d-83ef71fbf0ae', path='/home/halechr/repo/Spike3D/EXTERNAL/Screenshots/ProgrammaticDisplayFunctionTesting/'),\n",
    "#  Bookmark(bookmark_id='b214aca0-4da9-11ee-a088-eb83daae1adf', name='LNX00052_Fedora - Spike3D Repo', endpoint_id='af3fcfce-f664-11ed-9a7d-83ef71fbf0ae', path='/home/halechr/repos/Spike3D/'),\n",
    "#  Bookmark(bookmark_id='ca95eb76-c21c-11ee-84b4-f1441124ff66', name='LNX00052_Ubuntu', endpoint_id='44727efc-c21b-11ee-89e3-5130436d8581', path='/~/'),\n",
    "#  Bookmark(bookmark_id='25a26f84-cd13-11ee-a48f-73d2c6fd707d', name='LNX00052_Ubuntu - UnrealProjects', endpoint_id='44727efc-c21b-11ee-89e3-5130436d8581', path='/media/halechr/MAX/Personal/UnrealProjects/'),\n",
    "#  Bookmark(bookmark_id='b6d70674-3144-11ee-87a9-4dfadf03ac7e', name='lsa-halechr Personal Turbo', endpoint_id='ab65757f-00f5-4e5b-aa21-133187732a01', path='/lsa-halechr/'),\n",
    "#  Bookmark(bookmark_id='034e1614-3c19-11ec-90c8-7fa38c35632a', name='NYU Langone Health DTN1 - Buzsakilab Public Datasets', endpoint_id='188a6110-96db-11eb-b7a9-f57b2d55370d', path='/'),\n",
    "#  Bookmark(bookmark_id='bbb4a1a8-f0b9-11ee-91fe-472b0fe4395a', name='Pho Personal Laptop - DibaMac', endpoint_id='20c84240-1eb1-11eb-81b7-0e2f230cc907', path='/Volumes/DibaMac/'),\n",
    "#  Bookmark(bookmark_id='b0066292-f0b9-11ee-91fe-472b0fe4395a', name='Pho Personal Laptop - halechrGDrive', endpoint_id='20c84240-1eb1-11eb-81b7-0e2f230cc907', path='/Volumes/DibaMac/Backups/Pho/'),\n",
    "#  Bookmark(bookmark_id='1805df24-e618-11ed-9a63-83ef71fbf0ae', name='Pho Personal Laptop - PegasusR6 - Data', endpoint_id='20c84240-1eb1-11eb-81b7-0e2f230cc907', path='/Volumes/Pegasus R6/Data/'),\n",
    "#  Bookmark(bookmark_id='3a94f9b2-03ef-11ef-82a6-57b5c7e2fa2b', name='Pho Personal Laptop - SwapSSD Data', endpoint_id='20c84240-1eb1-11eb-81b7-0e2f230cc907', path='/Volumes/SwapSSD/Data/'),\n",
    "#  Bookmark(bookmark_id='be76c06a-51e2-11ee-a0a8-eb83daae1adf', name='rMBP-PinkDot - LargeDisk', endpoint_id='41b8fb12-516b-11ee-8a4b-b1038a0991ac', path='/Volumes/LargeDisk/'),\n",
    "#  Bookmark(bookmark_id='883e37d8-f142-11ee-904b-1f4fee4027cc', name='TempVM_VS_NonGPU', endpoint_id='3fc00ebe-f142-11ee-91fe-472b0fe4395a', path='/'),\n",
    "#  Bookmark(bookmark_id='d85320ee-f142-11ee-904b-1f4fee4027cc', name='TempVM_VS_NonGPU - GDrive - WatsonLab2019-2020', endpoint_id='3fc00ebe-f142-11ee-91fe-472b0fe4395a', path='/L/MED-WatsonDigitalPhenotyping/FromGDrive2024/Watson Lab 2019-2020/'),\n",
    "#  Bookmark(bookmark_id='90d94d74-f142-11ee-904b-1f4fee4027cc', name='TempVM_VS_NonGPU - K - GDrive', endpoint_id='3fc00ebe-f142-11ee-91fe-472b0fe4395a', path='/K/'),\n",
    "#  Bookmark(bookmark_id='c1dae626-f142-11ee-904b-1f4fee4027cc', name='TempVM_VS_NonGPU - L - Dropbox', endpoint_id='3fc00ebe-f142-11ee-91fe-472b0fe4395a', path='/L/'),\n",
    "#  Bookmark(bookmark_id='99ce1e08-bdf1-11ed-8cec-f9fa098153fc', name='UMich Diba Turbo - Pho Directory', endpoint_id='8c185a84-5c61-4bbc-b12b-11430e20010f', path='/umms-kdiba/Pho/'),\n",
    "#  Bookmark(bookmark_id='b1668f08-2036-11ee-80bc-a3018385fcef', name='umich#greatlakes - halechr homedir', endpoint_id='454f457e-a41b-4807-8775-d132f15a228f', path='/home/halechr/'),\n",
    "#  Bookmark(bookmark_id='f479daf4-2039-11ee-80bc-a3018385fcef', name='umich#greatlakes - ProgrammaticDisplayFunctionTesting', endpoint_id='454f457e-a41b-4807-8775-d132f15a228f', path='/home/halechr/repos/Spike3D/EXTERNAL/Screenshots/ProgrammaticDisplayFunctionTesting/'),\n",
    "#  Bookmark(bookmark_id='d7c1b398-4ca6-11ee-a085-eb83daae1adf', name='umich#greatlakes - Scratch', endpoint_id='454f457e-a41b-4807-8775-d132f15a228f', path='/scratch/kdiba_root/'),\n",
    "#  Bookmark(bookmark_id='bef81650-96c5-11ed-9b93-19370d280681', name='umms-dibalab DataDen', endpoint_id='ab65757f-00f5-4e5b-aa21-133187732a01', path='/umms-dibalab/')]\n",
    "\n",
    "bookmark_list = connect_man.get_bookmarks()\n",
    "bookmark_list.DATA"
   ]
  },
  {
   "cell_type": "code",
   "execution_count": null,
   "metadata": {},
   "outputs": [
    {
     "data": {
      "text/plain": [
       "Bookmark(bookmark_id='728fb3e8-2597-11ee-80c2-a3018385fcef', name='KDIBA Lab Turbo - Data Global Root Folder', endpoint_id='8c185a84-5c61-4bbc-b12b-11430e20010f', path='/umms-kdiba/Data/')"
      ]
     },
     "execution_count": 6,
     "metadata": {},
     "output_type": "execute_result"
    }
   ],
   "source": [
    "lab_Turbo_data_folder_bookmark = Bookmark(bookmark_id='728fb3e8-2597-11ee-80c2-a3018385fcef', name='KDIBA Lab Turbo - Data Global Root Folder', endpoint_id='8c185a84-5c61-4bbc-b12b-11430e20010f', path='/umms-kdiba/Data/')\n",
    "lab_DataDen_data_folder_bookmark = Bookmark(bookmark_id='431c951e-96c6-11ed-9b93-19370d280681', name='kdiba DataDen Data', endpoint_id='ab65757f-00f5-4e5b-aa21-133187732a01', path='/umms-dibalab/Data/')\n",
    "\n",
    "# Figure Outputs:\n",
    "lab_Greatlakes_ProgrammaticDisplayFunctionTesting_bookmark = Bookmark(bookmark_id='f479daf4-2039-11ee-80bc-a3018385fcef', name='umich#greatlakes - ProgrammaticDisplayFunctionTesting', endpoint_id='454f457e-a41b-4807-8775-d132f15a228f', path='/home/halechr/repos/Spike3D/EXTERNAL/Screenshots/ProgrammaticDisplayFunctionTesting/')\n",
    "lab_LNX00052_Fedora_ProgrammaticDisplayFunctionTesting_bookmark = Bookmark(bookmark_id='af68b1ea-20c7-11ee-818f-195c41bc0be4', name='LNX00052_Fedora - ProgrammaticDisplayFunctionTesting', endpoint_id='af3fcfce-f664-11ed-9a7d-83ef71fbf0ae', path='/home/halechr/repo/Spike3D/EXTERNAL/Screenshots/ProgrammaticDisplayFunctionTesting/')\n",
    "\n",
    "## Apogee:\n",
    "home_Apogee_ProgrammaticDisplayFunctionTesting_bookmark = Bookmark(bookmark_id='1c725da6-203a-11ee-80bc-a3018385fcef', name='Apogee - ProgrammaticDisplayFunctionTesting', endpoint_id='84991054-07b4-11ed-8d83-a54cf61939f8', path='/C/Users/pho/repos/Spike3DWorkEnv/Spike3D/EXTERNAL/Screenshots/ProgrammaticDisplayFunctionTesting/')\n",
    "apogee_collected_outputs_folder_bookmark = Bookmark(bookmark_id='965ffa0e-f90d-11ee-9222-472b0fe4395a', name='Apogee - K - collected_outputs', endpoint_id='84991054-07b4-11ed-8d83-a54cf61939f8', path='/K/scratch/collected_outputs/')\n",
    "\n",
    "## `gen_scripts` folders:\n",
    "apogee_gen_scripts_folder_bookmark = Bookmark(bookmark_id='4f1229fe-3eba-11ef-9637-453c3ae125a5', name='Apogee - gen_scripts', endpoint_id='84991054-07b4-11ed-8d83-a54cf61939f8', path='/K/scratch/gen_scripts/')\n",
    "lab_Greatlakes_gen_scripts = Bookmark(bookmark_id='99efa634-3ead-11ef-888b-2b3122c1d121', name='Greatlakes gen_scripts', endpoint_id='8c185a84-5c61-4bbc-b12b-11430e20010f', path='/umms-kdiba/Data/Output/gen_scripts/')\n",
    "# lab_Greatlakes_gen_scripts, apogee_gen_scripts_folder_bookmark\n",
    "\n",
    "## OUTPUTS: lab_Turbo_data_folder_bookmark, lab_DataDen_data_folder_bookmark, lab_Greatlakes_gen_scripts, apogee_gen_scripts_folder_bookmark, apogee_collected_outputs_folder_bookmark"
   ]
  },
  {
   "cell_type": "code",
   "execution_count": 26,
   "metadata": {},
   "outputs": [
    {
     "data": {
      "text/plain": [
       "Bookmark(bookmark_id='f479daf4-2039-11ee-80bc-a3018385fcef', name='umich#greatlakes - ProgrammaticDisplayFunctionTesting', endpoint_id='454f457e-a41b-4807-8775-d132f15a228f', path='/home/halechr/repos/Spike3D/EXTERNAL/Screenshots/ProgrammaticDisplayFunctionTesting/')"
      ]
     },
     "execution_count": 26,
     "metadata": {},
     "output_type": "execute_result"
    }
   ],
   "source": [
    "# target_bookmark: Bookmark = lab_DataDen_data_folder_bookmark\n",
    "# target_bookmark: Bookmark = lab_Turbo_data_folder_bookmark\n",
    "target_bookmark = lab_Greatlakes_ProgrammaticDisplayFunctionTesting_bookmark\n",
    "# target_bookmark = lab_Greatlakes_gen_scripts\n",
    "target_bookmark"
   ]
  },
  {
   "cell_type": "code",
   "execution_count": 27,
   "metadata": {},
   "outputs": [
    {
     "data": {
      "text/html": [
       "<div>\n",
       "<style scoped>\n",
       "    .dataframe tbody tr th:only-of-type {\n",
       "        vertical-align: middle;\n",
       "    }\n",
       "\n",
       "    .dataframe tbody tr th {\n",
       "        vertical-align: top;\n",
       "    }\n",
       "\n",
       "    .dataframe thead th {\n",
       "        text-align: right;\n",
       "    }\n",
       "</style>\n",
       "<table border=\"1\" class=\"dataframe\">\n",
       "  <thead>\n",
       "    <tr style=\"text-align: right;\">\n",
       "      <th></th>\n",
       "      <th>type</th>\n",
       "      <th>parent_path</th>\n",
       "      <th>name</th>\n",
       "      <th>last_modified</th>\n",
       "      <th>size</th>\n",
       "    </tr>\n",
       "  </thead>\n",
       "  <tbody>\n",
       "  </tbody>\n",
       "</table>\n",
       "</div>"
      ],
      "text/plain": [
       "Empty DataFrame\n",
       "Columns: [type, parent_path, name, last_modified, size]\n",
       "Index: []"
      ]
     },
     "execution_count": 27,
     "metadata": {},
     "output_type": "execute_result"
    }
   ],
   "source": [
    "file_list = connect_man.list_files(endpoint=target_bookmark.endpoint_id, path=target_bookmark.path, start_date=None, end_date=None, should_list_recursively=False)\n",
    "file_list.to_dataframe()"
   ]
  },
  {
   "cell_type": "code",
   "execution_count": null,
   "metadata": {},
   "outputs": [],
   "source": [
    "recent_file_list = connect_man.list_files(endpoint=target_bookmark.endpoint_id, path=target_bookmark.path, start_date=\"2023-08-07\", end_date=None, should_list_recursively=True)\n",
    "recent_file_list.to_dataframe() #.columns"
   ]
  },
  {
   "cell_type": "code",
   "execution_count": null,
   "metadata": {},
   "outputs": [],
   "source": [
    "recent_file_list = connect_man.list_files(endpoint=home_Apogee_ProgrammaticDisplayFunctionTesting_bookmark.endpoint_id, path=home_Apogee_ProgrammaticDisplayFunctionTesting_bookmark.path, start_date=\"2023-08-07\", end_date=None, should_list_recursively=True)\n",
    "recent_file_list.to_dataframe() #.columns"
   ]
  },
  {
   "cell_type": "code",
   "execution_count": null,
   "metadata": {},
   "outputs": [],
   "source": [
    "recent_file_list = connect_man.list_files(endpoint=target_bookmark.endpoint_id, path=target_bookmark.path, start_date=\"2023-08-07\", end_date=None, should_list_recursively=True)\n",
    "recent_file_list # 1m 44.7 sec"
   ]
  },
  {
   "cell_type": "code",
   "execution_count": null,
   "metadata": {},
   "outputs": [],
   "source": [
    "recent_file_list_df = recent_file_list.to_dataframe()\n",
    "recent_file_list_df"
   ]
  },
  {
   "cell_type": "code",
   "execution_count": null,
   "metadata": {},
   "outputs": [],
   "source": [
    "recent_file_list.path"
   ]
  },
  {
   "cell_type": "markdown",
   "metadata": {},
   "source": [
    "# Loading filelists:"
   ]
  },
  {
   "cell_type": "code",
   "execution_count": null,
   "metadata": {},
   "outputs": [],
   "source": [
    "from phoglobushelpers.path_helpers import convert_filelist_to_new_parent, read_lines_from_file, find_matching_parent_path, known_global_data_root_parent_paths\n",
    "\n",
    "\n",
    "filelist_source_path = Path('../filelists/fileList_Greatlakes_2023-08-07.txt').resolve()\n",
    "src_lines = read_lines_from_file(filelist_source_path)\n",
    "\n",
    "filelist_dest_path = '../filelists/dest_fileList_Apogee_2023-08-07.txt'\n",
    "dest_lines = read_lines_from_file(filelist_dest_path)\n",
    "\n",
    "\n",
    "filelist_source_path = Path('../filelists/fileList_Greatlakes_HDF5_2023-08-07.txt').resolve()\n",
    "src_lines = read_lines_from_file(filelist_source_path)\n"
   ]
  },
  {
   "cell_type": "code",
   "execution_count": null,
   "metadata": {},
   "outputs": [],
   "source": [
    "filelist_source_path = Path('../filelists/fileList_Greatlakes_pkls_2023-08-07.txt').resolve()\n",
    "src_lines = read_lines_from_file(filelist_source_path)\n",
    "src_lines"
   ]
  },
  {
   "cell_type": "code",
   "execution_count": null,
   "metadata": {},
   "outputs": [],
   "source": [
    "filelist_source_path = Path('../filelists/fileList_Greatlakes_HDF5_2023-08-07.txt').resolve()\n",
    "src_lines = read_lines_from_file(filelist_source_path)\n",
    "src_lines"
   ]
  },
  {
   "cell_type": "code",
   "execution_count": null,
   "metadata": {},
   "outputs": [],
   "source": [
    "src_lines = [a_line.replace('/nfs/turbo/umms-kdiba/Data/', '/umms-kdiba/Data/', 1) for a_line in src_lines]\n",
    "src_lines\n",
    "\n",
    "dest_lines = [a_line.replace('/umms-kdiba/Data/', '/~/W/Data/', 1) for a_line in src_lines]\n",
    "dest_lines"
   ]
  },
  {
   "cell_type": "code",
   "execution_count": null,
   "metadata": {},
   "outputs": [],
   "source": [
    "from pathlib import Path\n",
    "\n",
    "\n",
    "curr_filelist = [Path(a_line) for a_line in src_lines]\n",
    "\n",
    "desired_global_data_root_parent_path = Path('/~/W/Data/')\n",
    "prev_global_data_root_parent_path = find_matching_parent_path(known_global_data_root_parent_paths, curr_filelist[0]) # TODO: assumes all have the same root, which is a valid assumption so far. ## prev_global_data_root_parent_path should contain the matching path from the list.\n",
    "assert prev_global_data_root_parent_path is not None, f\"No matching root parent path could be found!!\"\n",
    "converted_dest_paths = convert_filelist_to_new_parent(curr_filelist, original_parent_path=prev_global_data_root_parent_path, dest_parent_path=desired_global_data_root_parent_path)\n",
    "dest_lines = [str(a_path) for a_path in converted_dest_paths]\n",
    "dest_lines\n",
    "converted_dest_paths[0]"
   ]
  },
  {
   "cell_type": "code",
   "execution_count": null,
   "metadata": {},
   "outputs": [],
   "source": [
    "from phoglobushelpers.path_helpers import convert_filelist_to_new_parent\n",
    "\n",
    "# source_parent_path = Path(r'/media/MAX/cloud/turbo/Data')\n",
    "source_parent_path = Path(r'/nfs/turbo/umms-kdiba/Data')\n",
    "dest_parent_path = Path(r'/~/W/Data/')\n",
    "# # Build the destination filelist from the source_filelist and the two paths:\n",
    "filelist_source = hdf5_output_paths\n",
    "filelist_dest_paths = convert_filelist_to_new_parent(filelist_source, original_parent_path=source_parent_path, dest_parent_path=dest_parent_path)\n",
    "filelist_dest_paths"
   ]
  },
  {
   "cell_type": "code",
   "execution_count": null,
   "metadata": {},
   "outputs": [],
   "source": [
    "apogee_data_folder_bookmark = Bookmark(bookmark_id='2a9f2464-01ad-11ee-be0e-195c41bc0be4', name='Apogee Data W', endpoint_id='84991054-07b4-11ed-8d83-a54cf61939f8', path='/~/W/Data/')\n",
    "lab_Turbo_data_folder_bookmark = Bookmark(bookmark_id='728fb3e8-2597-11ee-80c2-a3018385fcef', name='KDIBA Lab Turbo - Data Global Root Folder', endpoint_id='8c185a84-5c61-4bbc-b12b-11430e20010f', path='/umms-kdiba/Data/')\n",
    "\n",
    "# endpoint_relative_src_lines = [a_line.replace('/umms-kdiba/Data/', '/', 1) for a_line in src_lines]\n",
    "# endpoint_relative_dest_lines = [a_line.replace('/~/W/Data/', '/', 1) for a_line in dest_lines]\n",
    "\n",
    "endpoint_relative_src_lines = [a_line for a_line in src_lines]\n",
    "endpoint_relative_dest_lines = [a_line for a_line in dest_lines]\n",
    "_transfer_task = connect_man.batch_transfer_files(source_endpoint=lab_Turbo_data_folder_bookmark.endpoint_id, destination_endpoint=apogee_data_folder_bookmark.endpoint_id, filelist_source=endpoint_relative_src_lines, filelist_dest=endpoint_relative_dest_lines, max_single_file_wait_time_seconds=60.0)\n",
    "_transfer_task"
   ]
  },
  {
   "cell_type": "markdown",
   "metadata": {},
   "source": [
    "# 2024-07-10 - Pulling Greatlakes Batch Run Logs"
   ]
  },
  {
   "cell_type": "code",
   "execution_count": null,
   "metadata": {},
   "outputs": [],
   "source": [
    "from phoglobushelpers.PhoGlobusHelper import get_greatlakes_gen_scripts_log_files\n",
    "\n",
    "lab_Greatlakes_gen_scripts = Bookmark(bookmark_id='99efa634-3ead-11ef-888b-2b3122c1d121', name='Greatlakes gen_scripts', endpoint_id='8c185a84-5c61-4bbc-b12b-11430e20010f', path='/umms-kdiba/Data/Output/gen_scripts/')\n",
    "all_log_file_df, most_recent_only_log_file_df = get_greatlakes_gen_scripts_log_files(connect_man)\n",
    "most_recent_only_log_file_df"
   ]
  },
  {
   "cell_type": "markdown",
   "metadata": {},
   "source": [
    "## Copy these most recent logs to Apogee"
   ]
  },
  {
   "cell_type": "code",
   "execution_count": 67,
   "metadata": {},
   "outputs": [
    {
     "name": "stdout",
     "output_type": "stream",
     "text": [
      "Submitted transfer task 2a6e467c-3eca-11ef-9637-453c3ae125a5 with 30 files.\n",
      "because `synchronous_wait == True`, synchronously waiting for 1 tasks to complete:\n",
      "Waiting for task 2a6e467c-3eca-11ef-9637-453c3ae125a5 to complete...\n",
      "Task 2a6e467c-3eca-11ef-9637-453c3ae125a5 completed.\n",
      "All transfers completed successfully.\n"
     ]
    },
    {
     "data": {
      "text/plain": [
       "{'2a6e467c-3eca-11ef-9637-453c3ae125a5': GlobusHTTPResponse({\n",
       "   \"DATA_TYPE\": \"transfer_result\",\n",
       "   \"code\": \"Accepted\",\n",
       "   \"message\": \"The transfer has been accepted and a task has been created and queued for execution\",\n",
       "   \"request_id\": \"kPU0lg0SS\",\n",
       "   \"resource\": \"/transfer\",\n",
       "   \"submission_id\": \"2a6e467d-3eca-11ef-9637-453c3ae125a5\",\n",
       "   \"task_id\": \"2a6e467c-3eca-11ef-9637-453c3ae125a5\",\n",
       "   \"task_link\": {\n",
       "     \"DATA_TYPE\": \"link\",\n",
       "     \"href\": \"task/2a6e467c-3eca-11ef-9637-453c3ae125a5?format=json\",\n",
       "     \"rel\": \"related\",\n",
       "     \"resource\": \"task\",\n",
       "     \"title\": \"related task\"\n",
       "   }\n",
       " })}"
      ]
     },
     "execution_count": 67,
     "metadata": {},
     "output_type": "execute_result"
    }
   ],
   "source": [
    "## INPUTS: most_recent_only_log_file_df\n",
    "apogee_gen_scripts_folder_bookmark = Bookmark(bookmark_id='4f1229fe-3eba-11ef-9637-453c3ae125a5', name='Apogee - gen_scripts', endpoint_id='84991054-07b4-11ed-8d83-a54cf61939f8', path='/K/scratch/gen_scripts/')\n",
    "\n",
    "most_recent_only_log_file_paths: List[Path] = [Path(row.parent_path).joinpath(row.name) for row in most_recent_only_log_file_df.itertuples(name='LogFile')]\n",
    "\n",
    "## INPUTS: most_recent_only_log_file_paths\n",
    "\n",
    "src_lines: List[str] = [str(a_line.as_posix()) for a_line in most_recent_only_log_file_paths]\n",
    "dest_lines: List[str] = [a_line.replace('/umms-kdiba/Data/Output/gen_scripts/', '/K/scratch/gen_scripts/', 1) for a_line in src_lines]\n",
    "\n",
    "## INPUTS: src_lines, dest_lines, apogee_gen_scripts_folder_bookmark, lab_Greatlakes_gen_scripts\n",
    "endpoint_relative_src_lines = [a_line for a_line in src_lines]\n",
    "endpoint_relative_dest_lines = [a_line for a_line in dest_lines]\n",
    "\n",
    "# ## Async:\n",
    "# _transfer_task = connect_man.batch_transfer_files(source_endpoint=lab_Greatlakes_gen_scripts.endpoint_id, destination_endpoint=apogee_gen_scripts_folder_bookmark.endpoint_id, filelist_source=endpoint_relative_src_lines, filelist_dest=endpoint_relative_dest_lines)\n",
    "# _transfer_task\n",
    "# Synchronously wait for transfer to complete\n",
    "pending_tasks, (completed_tasks, failed_tasks) = connect_man.batch_transfer_files(source_endpoint=lab_Greatlakes_gen_scripts.endpoint_id, destination_endpoint=apogee_gen_scripts_folder_bookmark.endpoint_id,\n",
    "\t\t\t\t\t\t\t\t\t\t\t\t\t\t\t\t\t\t\t\t   filelist_source=endpoint_relative_src_lines, filelist_dest=endpoint_relative_dest_lines,\n",
    "\t\t\t\t\t\t\t\t\t\t\t\t\t\t\t\t\t\t\t\t    synchronous_wait=True, label='GL->Apogee Batch Run Log Files')\n",
    "completed_tasks"
   ]
  },
  {
   "cell_type": "code",
   "execution_count": null,
   "metadata": {},
   "outputs": [],
   "source": []
  }
 ],
 "metadata": {
  "kernelspec": {
   "display_name": "phoglobushelpers-0Z77HMOj-py3.11",
   "language": "python",
   "name": "python3"
  },
  "language_info": {
   "codemirror_mode": {
    "name": "ipython",
    "version": 3
   },
   "file_extension": ".py",
   "mimetype": "text/x-python",
   "name": "python",
   "nbconvert_exporter": "python",
   "pygments_lexer": "ipython3",
   "version": "3.11.9"
  },
  "orig_nbformat": 4
 },
 "nbformat": 4,
 "nbformat_minor": 2
}
