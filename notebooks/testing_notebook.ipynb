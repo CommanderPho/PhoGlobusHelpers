{
 "cells": [
  {
   "cell_type": "code",
   "execution_count": 2,
   "metadata": {},
   "outputs": [],
   "source": [
    "import os\n",
    "import datetime\n",
    "from typing import Any, List\n",
    "import pandas as pd\n",
    "import globus_sdk\n",
    "from globus_sdk import AccessTokenAuthorizer, TransferClient, TransferData\n",
    "from globus_sdk.scopes import TransferScopes\n",
    "from attrs import define, field, Factory\n",
    "from phoglobushelpers.PhoGlobusHelper import GlobusConnector, KnownEndpoints\n"
   ]
  },
  {
   "cell_type": "code",
   "execution_count": 4,
   "metadata": {},
   "outputs": [
    {
     "name": "stdout",
     "output_type": "stream",
     "text": [
      "Please go to this URL and login: https://auth.globus.org/v2/oauth2/authorize?client_id=769d24e1-d1cc-4198-9ff7-2626485da449&redirect_uri=https%3A%2F%2Fauth.globus.org%2Fv2%2Fweb%2Fauth-code&scope=openid+profile+email+urn%3Aglobus%3Aauth%3Ascope%3Atransfer.api.globus.org%3Aall&state=_default&response_type=code&code_challenge=q4kMuhsjDomKyAn51Hp2loIhs9cp8c9UagbUPMWggN8&code_challenge_method=S256&access_type=offline\n",
      "\n",
      "\t Copied url to clipboard!\n",
      "My Endpoints:\n",
      "[c3a90494-2555-11ec-a47d-a50ad076c282] aleinbook-linux\n",
      "[84991054-07b4-11ed-8d83-a54cf61939f8] Apogee\n",
      "[6d0251c4-2585-11ec-9e35-3df4ed83d858] Cubix Win10\n",
      "[c3578f36-42a8-11ec-a50f-b537d6c07c1d] FlatEdge_Server\n",
      "[af3fcfce-f664-11ed-9a7d-83ef71fbf0ae] LNX00052_Fedora\n",
      "[20c84240-1eb1-11eb-81b7-0e2f230cc907] Pho Personal Laptop\n",
      "[560d3a12-be20-11ed-9916-cb2cff506ca5] Pho_Personal_Testix\n",
      "[debb635c-2556-11ec-a47d-a50ad076c282] rMBP Pink Dot\n",
      "[e414f584-2556-11ec-a0a7-6b21ca6daf73] rMBP Pink Dot\n"
     ]
    }
   ],
   "source": [
    "connect_man = GlobusConnector.login_and_get_transfer_client()\n",
    "transfer_client = connect_man.transfer_client\n",
    "connect_man.list_endpoints()\n"
   ]
  },
  {
   "cell_type": "code",
   "execution_count": null,
   "metadata": {},
   "outputs": [],
   "source": []
  },
  {
   "cell_type": "code",
   "execution_count": null,
   "metadata": {},
   "outputs": [],
   "source": [
    "GlobusConnector()"
   ]
  },
  {
   "cell_type": "code",
   "execution_count": null,
   "metadata": {},
   "outputs": [],
   "source": []
  }
 ],
 "metadata": {
  "kernelspec": {
   "display_name": "phoglobushelpers-0Z77HMOj-py3.11",
   "language": "python",
   "name": "python3"
  },
  "language_info": {
   "codemirror_mode": {
    "name": "ipython",
    "version": 3
   },
   "file_extension": ".py",
   "mimetype": "text/x-python",
   "name": "python",
   "nbconvert_exporter": "python",
   "pygments_lexer": "ipython3",
   "version": "3.11.4"
  },
  "orig_nbformat": 4
 },
 "nbformat": 4,
 "nbformat_minor": 2
}
